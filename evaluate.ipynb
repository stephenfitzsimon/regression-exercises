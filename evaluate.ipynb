{
 "cells": [
  {
   "cell_type": "markdown",
   "id": "4adcab73",
   "metadata": {},
   "source": [
    "# Evaluation Exercises"
   ]
  },
  {
   "cell_type": "code",
   "execution_count": 1,
   "id": "7cf12574",
   "metadata": {},
   "outputs": [],
   "source": [
    "from math import sqrt\n",
    "\n",
    "import matplotlib.pyplot as plt\n",
    "import seaborn as sns\n",
    "import numpy as np\n",
    "import pandas as pd\n",
    "from scipy import stats\n",
    "from sklearn.linear_model import LinearRegression\n",
    "import sklearn.metrics as metrics\n",
    "\n",
    "import wrangle as w"
   ]
  },
  {
   "cell_type": "code",
   "execution_count": 2,
   "id": "da509596",
   "metadata": {},
   "outputs": [
    {
     "name": "stdout",
     "output_type": "stream",
     "text": [
      "Returning saved csv file.\n"
     ]
    }
   ],
   "source": [
    "df = w.wrangle_zillow_data()\n",
    "train, validate, test = w.split_zillow_data(df)"
   ]
  },
  {
   "cell_type": "code",
   "execution_count": 3,
   "id": "783fdd1d",
   "metadata": {},
   "outputs": [
    {
     "data": {
      "text/html": [
       "<div>\n",
       "<style scoped>\n",
       "    .dataframe tbody tr th:only-of-type {\n",
       "        vertical-align: middle;\n",
       "    }\n",
       "\n",
       "    .dataframe tbody tr th {\n",
       "        vertical-align: top;\n",
       "    }\n",
       "\n",
       "    .dataframe thead th {\n",
       "        text-align: right;\n",
       "    }\n",
       "</style>\n",
       "<table border=\"1\" class=\"dataframe\">\n",
       "  <thead>\n",
       "    <tr style=\"text-align: right;\">\n",
       "      <th></th>\n",
       "      <th>bedroomcnt</th>\n",
       "      <th>bathroomcnt</th>\n",
       "      <th>calculatedfinishedsquarefeet</th>\n",
       "      <th>yearbuilt</th>\n",
       "      <th>taxvaluedollarcnt</th>\n",
       "      <th>taxamount</th>\n",
       "      <th>county</th>\n",
       "    </tr>\n",
       "  </thead>\n",
       "  <tbody>\n",
       "    <tr>\n",
       "      <th>1174234</th>\n",
       "      <td>4</td>\n",
       "      <td>2.0</td>\n",
       "      <td>2015</td>\n",
       "      <td>1968</td>\n",
       "      <td>273762</td>\n",
       "      <td>3312.52</td>\n",
       "      <td>Ventura</td>\n",
       "    </tr>\n",
       "    <tr>\n",
       "      <th>892222</th>\n",
       "      <td>3</td>\n",
       "      <td>2.0</td>\n",
       "      <td>1423</td>\n",
       "      <td>1940</td>\n",
       "      <td>276396</td>\n",
       "      <td>3129.90</td>\n",
       "      <td>Orange</td>\n",
       "    </tr>\n",
       "    <tr>\n",
       "      <th>2056706</th>\n",
       "      <td>4</td>\n",
       "      <td>2.0</td>\n",
       "      <td>2508</td>\n",
       "      <td>1987</td>\n",
       "      <td>456054</td>\n",
       "      <td>5753.00</td>\n",
       "      <td>Ventura</td>\n",
       "    </tr>\n",
       "    <tr>\n",
       "      <th>666486</th>\n",
       "      <td>3</td>\n",
       "      <td>2.5</td>\n",
       "      <td>1789</td>\n",
       "      <td>1974</td>\n",
       "      <td>357041</td>\n",
       "      <td>3690.46</td>\n",
       "      <td>Orange</td>\n",
       "    </tr>\n",
       "    <tr>\n",
       "      <th>2068010</th>\n",
       "      <td>4</td>\n",
       "      <td>4.0</td>\n",
       "      <td>2829</td>\n",
       "      <td>1961</td>\n",
       "      <td>690548</td>\n",
       "      <td>8464.33</td>\n",
       "      <td>Los Angeles</td>\n",
       "    </tr>\n",
       "  </tbody>\n",
       "</table>\n",
       "</div>"
      ],
      "text/plain": [
       "         bedroomcnt  bathroomcnt  calculatedfinishedsquarefeet  yearbuilt  \\\n",
       "1174234           4          2.0                          2015       1968   \n",
       "892222            3          2.0                          1423       1940   \n",
       "2056706           4          2.0                          2508       1987   \n",
       "666486            3          2.5                          1789       1974   \n",
       "2068010           4          4.0                          2829       1961   \n",
       "\n",
       "         taxvaluedollarcnt  taxamount       county  \n",
       "1174234             273762    3312.52      Ventura  \n",
       "892222              276396    3129.90       Orange  \n",
       "2056706             456054    5753.00      Ventura  \n",
       "666486              357041    3690.46       Orange  \n",
       "2068010             690548    8464.33  Los Angeles  "
      ]
     },
     "execution_count": 3,
     "metadata": {},
     "output_type": "execute_result"
    }
   ],
   "source": [
    "train.head()"
   ]
  },
  {
   "cell_type": "markdown",
   "id": "9f5f708d",
   "metadata": {},
   "source": [
    "1. Load your zillow dataset.\n",
    "\n",
    "2. Fit a linear regression model (ordinary least squares) and compute yhat, predictions of `taxvaluedollarcnt` using only `calculatedfinishedsqft`. "
   ]
  },
  {
   "cell_type": "code",
   "execution_count": 4,
   "id": "e871467c",
   "metadata": {},
   "outputs": [
    {
     "data": {
      "text/plain": [
       "array([[450782.8245175 ],\n",
       "       [310186.2782192 ],\n",
       "       [567867.44837741],\n",
       "       ...,\n",
       "       [375734.66804746],\n",
       "       [295699.13409049],\n",
       "       [547205.45593155]])"
      ]
     },
     "execution_count": 4,
     "metadata": {},
     "output_type": "execute_result"
    }
   ],
   "source": [
    "X = train[['calculatedfinishedsquarefeet']]\n",
    "y = train[['taxvaluedollarcnt']]\n",
    "\n",
    "model = LinearRegression().fit(X, y)\n",
    "predictions = model.predict(X)\n",
    "predictions"
   ]
  },
  {
   "cell_type": "code",
   "execution_count": 5,
   "id": "c4acc6a4",
   "metadata": {},
   "outputs": [
    {
     "name": "stderr",
     "output_type": "stream",
     "text": [
      "/var/folders/lw/_43z7rb5635_x1dwsyzrnc_m0000gn/T/ipykernel_59593/414008114.py:2: SettingWithCopyWarning: \n",
      "A value is trying to be set on a copy of a slice from a DataFrame.\n",
      "Try using .loc[row_indexer,col_indexer] = value instead\n",
      "\n",
      "See the caveats in the documentation: https://pandas.pydata.org/pandas-docs/stable/user_guide/indexing.html#returning-a-view-versus-a-copy\n",
      "  regression_df['taxvaluedollarcnt_prediction'] = predictions\n"
     ]
    },
    {
     "data": {
      "text/html": [
       "<div>\n",
       "<style scoped>\n",
       "    .dataframe tbody tr th:only-of-type {\n",
       "        vertical-align: middle;\n",
       "    }\n",
       "\n",
       "    .dataframe tbody tr th {\n",
       "        vertical-align: top;\n",
       "    }\n",
       "\n",
       "    .dataframe thead th {\n",
       "        text-align: right;\n",
       "    }\n",
       "</style>\n",
       "<table border=\"1\" class=\"dataframe\">\n",
       "  <thead>\n",
       "    <tr style=\"text-align: right;\">\n",
       "      <th></th>\n",
       "      <th>calculatedfinishedsquarefeet</th>\n",
       "      <th>taxvaluedollarcnt</th>\n",
       "      <th>taxvaluedollarcnt_prediction</th>\n",
       "    </tr>\n",
       "  </thead>\n",
       "  <tbody>\n",
       "    <tr>\n",
       "      <th>1174234</th>\n",
       "      <td>2015</td>\n",
       "      <td>273762</td>\n",
       "      <td>450782.824518</td>\n",
       "    </tr>\n",
       "    <tr>\n",
       "      <th>892222</th>\n",
       "      <td>1423</td>\n",
       "      <td>276396</td>\n",
       "      <td>310186.278219</td>\n",
       "    </tr>\n",
       "    <tr>\n",
       "      <th>2056706</th>\n",
       "      <td>2508</td>\n",
       "      <td>456054</td>\n",
       "      <td>567867.448377</td>\n",
       "    </tr>\n",
       "    <tr>\n",
       "      <th>666486</th>\n",
       "      <td>1789</td>\n",
       "      <td>357041</td>\n",
       "      <td>397109.142991</td>\n",
       "    </tr>\n",
       "    <tr>\n",
       "      <th>2068010</th>\n",
       "      <td>2829</td>\n",
       "      <td>690548</td>\n",
       "      <td>644103.075678</td>\n",
       "    </tr>\n",
       "    <tr>\n",
       "      <th>...</th>\n",
       "      <td>...</td>\n",
       "      <td>...</td>\n",
       "      <td>...</td>\n",
       "    </tr>\n",
       "    <tr>\n",
       "      <th>421920</th>\n",
       "      <td>2834</td>\n",
       "      <td>481909</td>\n",
       "      <td>645290.546508</td>\n",
       "    </tr>\n",
       "    <tr>\n",
       "      <th>1204808</th>\n",
       "      <td>1366</td>\n",
       "      <td>436161</td>\n",
       "      <td>296649.110755</td>\n",
       "    </tr>\n",
       "    <tr>\n",
       "      <th>2002848</th>\n",
       "      <td>1699</td>\n",
       "      <td>496344</td>\n",
       "      <td>375734.668047</td>\n",
       "    </tr>\n",
       "    <tr>\n",
       "      <th>1731210</th>\n",
       "      <td>1362</td>\n",
       "      <td>66093</td>\n",
       "      <td>295699.134090</td>\n",
       "    </tr>\n",
       "    <tr>\n",
       "      <th>418158</th>\n",
       "      <td>2421</td>\n",
       "      <td>832000</td>\n",
       "      <td>547205.455932</td>\n",
       "    </tr>\n",
       "  </tbody>\n",
       "</table>\n",
       "<p>1169019 rows × 3 columns</p>\n",
       "</div>"
      ],
      "text/plain": [
       "         calculatedfinishedsquarefeet  taxvaluedollarcnt  \\\n",
       "1174234                          2015             273762   \n",
       "892222                           1423             276396   \n",
       "2056706                          2508             456054   \n",
       "666486                           1789             357041   \n",
       "2068010                          2829             690548   \n",
       "...                               ...                ...   \n",
       "421920                           2834             481909   \n",
       "1204808                          1366             436161   \n",
       "2002848                          1699             496344   \n",
       "1731210                          1362              66093   \n",
       "418158                           2421             832000   \n",
       "\n",
       "         taxvaluedollarcnt_prediction  \n",
       "1174234                 450782.824518  \n",
       "892222                  310186.278219  \n",
       "2056706                 567867.448377  \n",
       "666486                  397109.142991  \n",
       "2068010                 644103.075678  \n",
       "...                               ...  \n",
       "421920                  645290.546508  \n",
       "1204808                 296649.110755  \n",
       "2002848                 375734.668047  \n",
       "1731210                 295699.134090  \n",
       "418158                  547205.455932  \n",
       "\n",
       "[1169019 rows x 3 columns]"
      ]
     },
     "execution_count": 5,
     "metadata": {},
     "output_type": "execute_result"
    }
   ],
   "source": [
    "regression_df = train[['calculatedfinishedsquarefeet', 'taxvaluedollarcnt']]\n",
    "regression_df['taxvaluedollarcnt_prediction'] = predictions\n",
    "regression_df"
   ]
  },
  {
   "cell_type": "markdown",
   "id": "b5b390fb",
   "metadata": {},
   "source": [
    "Make a baseline model"
   ]
  },
  {
   "cell_type": "code",
   "execution_count": 6,
   "id": "26ad7ca3",
   "metadata": {},
   "outputs": [
    {
     "name": "stderr",
     "output_type": "stream",
     "text": [
      "/var/folders/lw/_43z7rb5635_x1dwsyzrnc_m0000gn/T/ipykernel_59593/1176364739.py:2: SettingWithCopyWarning: \n",
      "A value is trying to be set on a copy of a slice from a DataFrame.\n",
      "Try using .loc[row_indexer,col_indexer] = value instead\n",
      "\n",
      "See the caveats in the documentation: https://pandas.pydata.org/pandas-docs/stable/user_guide/indexing.html#returning-a-view-versus-a-copy\n",
      "  regression_df['baseline'] = baseline\n"
     ]
    },
    {
     "data": {
      "text/html": [
       "<div>\n",
       "<style scoped>\n",
       "    .dataframe tbody tr th:only-of-type {\n",
       "        vertical-align: middle;\n",
       "    }\n",
       "\n",
       "    .dataframe tbody tr th {\n",
       "        vertical-align: top;\n",
       "    }\n",
       "\n",
       "    .dataframe thead th {\n",
       "        text-align: right;\n",
       "    }\n",
       "</style>\n",
       "<table border=\"1\" class=\"dataframe\">\n",
       "  <thead>\n",
       "    <tr style=\"text-align: right;\">\n",
       "      <th></th>\n",
       "      <th>calculatedfinishedsquarefeet</th>\n",
       "      <th>taxvaluedollarcnt</th>\n",
       "      <th>taxvaluedollarcnt_prediction</th>\n",
       "      <th>baseline</th>\n",
       "    </tr>\n",
       "  </thead>\n",
       "  <tbody>\n",
       "    <tr>\n",
       "      <th>1174234</th>\n",
       "      <td>2015</td>\n",
       "      <td>273762</td>\n",
       "      <td>450782.824518</td>\n",
       "      <td>398120.955712</td>\n",
       "    </tr>\n",
       "    <tr>\n",
       "      <th>892222</th>\n",
       "      <td>1423</td>\n",
       "      <td>276396</td>\n",
       "      <td>310186.278219</td>\n",
       "      <td>398120.955712</td>\n",
       "    </tr>\n",
       "    <tr>\n",
       "      <th>2056706</th>\n",
       "      <td>2508</td>\n",
       "      <td>456054</td>\n",
       "      <td>567867.448377</td>\n",
       "      <td>398120.955712</td>\n",
       "    </tr>\n",
       "    <tr>\n",
       "      <th>666486</th>\n",
       "      <td>1789</td>\n",
       "      <td>357041</td>\n",
       "      <td>397109.142991</td>\n",
       "      <td>398120.955712</td>\n",
       "    </tr>\n",
       "    <tr>\n",
       "      <th>2068010</th>\n",
       "      <td>2829</td>\n",
       "      <td>690548</td>\n",
       "      <td>644103.075678</td>\n",
       "      <td>398120.955712</td>\n",
       "    </tr>\n",
       "    <tr>\n",
       "      <th>...</th>\n",
       "      <td>...</td>\n",
       "      <td>...</td>\n",
       "      <td>...</td>\n",
       "      <td>...</td>\n",
       "    </tr>\n",
       "    <tr>\n",
       "      <th>421920</th>\n",
       "      <td>2834</td>\n",
       "      <td>481909</td>\n",
       "      <td>645290.546508</td>\n",
       "      <td>398120.955712</td>\n",
       "    </tr>\n",
       "    <tr>\n",
       "      <th>1204808</th>\n",
       "      <td>1366</td>\n",
       "      <td>436161</td>\n",
       "      <td>296649.110755</td>\n",
       "      <td>398120.955712</td>\n",
       "    </tr>\n",
       "    <tr>\n",
       "      <th>2002848</th>\n",
       "      <td>1699</td>\n",
       "      <td>496344</td>\n",
       "      <td>375734.668047</td>\n",
       "      <td>398120.955712</td>\n",
       "    </tr>\n",
       "    <tr>\n",
       "      <th>1731210</th>\n",
       "      <td>1362</td>\n",
       "      <td>66093</td>\n",
       "      <td>295699.134090</td>\n",
       "      <td>398120.955712</td>\n",
       "    </tr>\n",
       "    <tr>\n",
       "      <th>418158</th>\n",
       "      <td>2421</td>\n",
       "      <td>832000</td>\n",
       "      <td>547205.455932</td>\n",
       "      <td>398120.955712</td>\n",
       "    </tr>\n",
       "  </tbody>\n",
       "</table>\n",
       "<p>1169019 rows × 4 columns</p>\n",
       "</div>"
      ],
      "text/plain": [
       "         calculatedfinishedsquarefeet  taxvaluedollarcnt  \\\n",
       "1174234                          2015             273762   \n",
       "892222                           1423             276396   \n",
       "2056706                          2508             456054   \n",
       "666486                           1789             357041   \n",
       "2068010                          2829             690548   \n",
       "...                               ...                ...   \n",
       "421920                           2834             481909   \n",
       "1204808                          1366             436161   \n",
       "2002848                          1699             496344   \n",
       "1731210                          1362              66093   \n",
       "418158                           2421             832000   \n",
       "\n",
       "         taxvaluedollarcnt_prediction       baseline  \n",
       "1174234                 450782.824518  398120.955712  \n",
       "892222                  310186.278219  398120.955712  \n",
       "2056706                 567867.448377  398120.955712  \n",
       "666486                  397109.142991  398120.955712  \n",
       "2068010                 644103.075678  398120.955712  \n",
       "...                               ...            ...  \n",
       "421920                  645290.546508  398120.955712  \n",
       "1204808                 296649.110755  398120.955712  \n",
       "2002848                 375734.668047  398120.955712  \n",
       "1731210                 295699.134090  398120.955712  \n",
       "418158                  547205.455932  398120.955712  \n",
       "\n",
       "[1169019 rows x 4 columns]"
      ]
     },
     "execution_count": 6,
     "metadata": {},
     "output_type": "execute_result"
    }
   ],
   "source": [
    "baseline = regression_df['taxvaluedollarcnt'].mean()\n",
    "regression_df['baseline'] = baseline\n",
    "regression_df"
   ]
  },
  {
   "cell_type": "markdown",
   "id": "65e66860",
   "metadata": {},
   "source": [
    "3. Plot the residuals for the linear regression model that you made."
   ]
  },
  {
   "cell_type": "code",
   "execution_count": 7,
   "id": "f95c4fdf",
   "metadata": {},
   "outputs": [
    {
     "name": "stderr",
     "output_type": "stream",
     "text": [
      "/var/folders/lw/_43z7rb5635_x1dwsyzrnc_m0000gn/T/ipykernel_59593/1338149765.py:1: SettingWithCopyWarning: \n",
      "A value is trying to be set on a copy of a slice from a DataFrame.\n",
      "Try using .loc[row_indexer,col_indexer] = value instead\n",
      "\n",
      "See the caveats in the documentation: https://pandas.pydata.org/pandas-docs/stable/user_guide/indexing.html#returning-a-view-versus-a-copy\n",
      "  regression_df['residual'] = regression_df['taxvaluedollarcnt'] - regression_df['taxvaluedollarcnt_prediction']\n",
      "/var/folders/lw/_43z7rb5635_x1dwsyzrnc_m0000gn/T/ipykernel_59593/1338149765.py:2: SettingWithCopyWarning: \n",
      "A value is trying to be set on a copy of a slice from a DataFrame.\n",
      "Try using .loc[row_indexer,col_indexer] = value instead\n",
      "\n",
      "See the caveats in the documentation: https://pandas.pydata.org/pandas-docs/stable/user_guide/indexing.html#returning-a-view-versus-a-copy\n",
      "  regression_df['residual_baseline'] = regression_df['taxvaluedollarcnt'] - regression_df['baseline']\n"
     ]
    },
    {
     "data": {
      "text/html": [
       "<div>\n",
       "<style scoped>\n",
       "    .dataframe tbody tr th:only-of-type {\n",
       "        vertical-align: middle;\n",
       "    }\n",
       "\n",
       "    .dataframe tbody tr th {\n",
       "        vertical-align: top;\n",
       "    }\n",
       "\n",
       "    .dataframe thead th {\n",
       "        text-align: right;\n",
       "    }\n",
       "</style>\n",
       "<table border=\"1\" class=\"dataframe\">\n",
       "  <thead>\n",
       "    <tr style=\"text-align: right;\">\n",
       "      <th></th>\n",
       "      <th>calculatedfinishedsquarefeet</th>\n",
       "      <th>taxvaluedollarcnt</th>\n",
       "      <th>taxvaluedollarcnt_prediction</th>\n",
       "      <th>baseline</th>\n",
       "      <th>residual</th>\n",
       "      <th>residual_baseline</th>\n",
       "    </tr>\n",
       "  </thead>\n",
       "  <tbody>\n",
       "    <tr>\n",
       "      <th>1174234</th>\n",
       "      <td>2015</td>\n",
       "      <td>273762</td>\n",
       "      <td>450782.824518</td>\n",
       "      <td>398120.955712</td>\n",
       "      <td>-177020.824518</td>\n",
       "      <td>-124358.955712</td>\n",
       "    </tr>\n",
       "    <tr>\n",
       "      <th>892222</th>\n",
       "      <td>1423</td>\n",
       "      <td>276396</td>\n",
       "      <td>310186.278219</td>\n",
       "      <td>398120.955712</td>\n",
       "      <td>-33790.278219</td>\n",
       "      <td>-121724.955712</td>\n",
       "    </tr>\n",
       "    <tr>\n",
       "      <th>2056706</th>\n",
       "      <td>2508</td>\n",
       "      <td>456054</td>\n",
       "      <td>567867.448377</td>\n",
       "      <td>398120.955712</td>\n",
       "      <td>-111813.448377</td>\n",
       "      <td>57933.044288</td>\n",
       "    </tr>\n",
       "    <tr>\n",
       "      <th>666486</th>\n",
       "      <td>1789</td>\n",
       "      <td>357041</td>\n",
       "      <td>397109.142991</td>\n",
       "      <td>398120.955712</td>\n",
       "      <td>-40068.142991</td>\n",
       "      <td>-41079.955712</td>\n",
       "    </tr>\n",
       "    <tr>\n",
       "      <th>2068010</th>\n",
       "      <td>2829</td>\n",
       "      <td>690548</td>\n",
       "      <td>644103.075678</td>\n",
       "      <td>398120.955712</td>\n",
       "      <td>46444.924322</td>\n",
       "      <td>292427.044288</td>\n",
       "    </tr>\n",
       "    <tr>\n",
       "      <th>...</th>\n",
       "      <td>...</td>\n",
       "      <td>...</td>\n",
       "      <td>...</td>\n",
       "      <td>...</td>\n",
       "      <td>...</td>\n",
       "      <td>...</td>\n",
       "    </tr>\n",
       "    <tr>\n",
       "      <th>421920</th>\n",
       "      <td>2834</td>\n",
       "      <td>481909</td>\n",
       "      <td>645290.546508</td>\n",
       "      <td>398120.955712</td>\n",
       "      <td>-163381.546508</td>\n",
       "      <td>83788.044288</td>\n",
       "    </tr>\n",
       "    <tr>\n",
       "      <th>1204808</th>\n",
       "      <td>1366</td>\n",
       "      <td>436161</td>\n",
       "      <td>296649.110755</td>\n",
       "      <td>398120.955712</td>\n",
       "      <td>139511.889245</td>\n",
       "      <td>38040.044288</td>\n",
       "    </tr>\n",
       "    <tr>\n",
       "      <th>2002848</th>\n",
       "      <td>1699</td>\n",
       "      <td>496344</td>\n",
       "      <td>375734.668047</td>\n",
       "      <td>398120.955712</td>\n",
       "      <td>120609.331953</td>\n",
       "      <td>98223.044288</td>\n",
       "    </tr>\n",
       "    <tr>\n",
       "      <th>1731210</th>\n",
       "      <td>1362</td>\n",
       "      <td>66093</td>\n",
       "      <td>295699.134090</td>\n",
       "      <td>398120.955712</td>\n",
       "      <td>-229606.134090</td>\n",
       "      <td>-332027.955712</td>\n",
       "    </tr>\n",
       "    <tr>\n",
       "      <th>418158</th>\n",
       "      <td>2421</td>\n",
       "      <td>832000</td>\n",
       "      <td>547205.455932</td>\n",
       "      <td>398120.955712</td>\n",
       "      <td>284794.544068</td>\n",
       "      <td>433879.044288</td>\n",
       "    </tr>\n",
       "  </tbody>\n",
       "</table>\n",
       "<p>1169019 rows × 6 columns</p>\n",
       "</div>"
      ],
      "text/plain": [
       "         calculatedfinishedsquarefeet  taxvaluedollarcnt  \\\n",
       "1174234                          2015             273762   \n",
       "892222                           1423             276396   \n",
       "2056706                          2508             456054   \n",
       "666486                           1789             357041   \n",
       "2068010                          2829             690548   \n",
       "...                               ...                ...   \n",
       "421920                           2834             481909   \n",
       "1204808                          1366             436161   \n",
       "2002848                          1699             496344   \n",
       "1731210                          1362              66093   \n",
       "418158                           2421             832000   \n",
       "\n",
       "         taxvaluedollarcnt_prediction       baseline       residual  \\\n",
       "1174234                 450782.824518  398120.955712 -177020.824518   \n",
       "892222                  310186.278219  398120.955712  -33790.278219   \n",
       "2056706                 567867.448377  398120.955712 -111813.448377   \n",
       "666486                  397109.142991  398120.955712  -40068.142991   \n",
       "2068010                 644103.075678  398120.955712   46444.924322   \n",
       "...                               ...            ...            ...   \n",
       "421920                  645290.546508  398120.955712 -163381.546508   \n",
       "1204808                 296649.110755  398120.955712  139511.889245   \n",
       "2002848                 375734.668047  398120.955712  120609.331953   \n",
       "1731210                 295699.134090  398120.955712 -229606.134090   \n",
       "418158                  547205.455932  398120.955712  284794.544068   \n",
       "\n",
       "         residual_baseline  \n",
       "1174234     -124358.955712  \n",
       "892222      -121724.955712  \n",
       "2056706       57933.044288  \n",
       "666486       -41079.955712  \n",
       "2068010      292427.044288  \n",
       "...                    ...  \n",
       "421920        83788.044288  \n",
       "1204808       38040.044288  \n",
       "2002848       98223.044288  \n",
       "1731210     -332027.955712  \n",
       "418158       433879.044288  \n",
       "\n",
       "[1169019 rows x 6 columns]"
      ]
     },
     "execution_count": 7,
     "metadata": {},
     "output_type": "execute_result"
    }
   ],
   "source": [
    "regression_df['residual'] = regression_df['taxvaluedollarcnt'] - regression_df['taxvaluedollarcnt_prediction']\n",
    "regression_df['residual_baseline'] = regression_df['taxvaluedollarcnt'] - regression_df['baseline']\n",
    "regression_df"
   ]
  },
  {
   "cell_type": "markdown",
   "id": "75e4ec22",
   "metadata": {},
   "source": [
    "Unsure how to plot these. There were two ways covered in class:\n",
    "- plotting the input variable of the model (`calculatedfinishedsquarefeet`) against the residual\n",
    "    - this is the one covered in class.  The best should also group around $y=0$\n",
    "- plotting the known variable (`taxvaluedollarcnt`) against the residual\n",
    "    - in this the best prediction group around $y = 0$, this is the one implied by question 9"
   ]
  },
  {
   "cell_type": "code",
   "execution_count": 8,
   "id": "3c047e6f",
   "metadata": {},
   "outputs": [
    {
     "data": {
      "text/plain": [
       "Text(0.5, 1.0, 'OLS model residuals')"
      ]
     },
     "execution_count": 8,
     "metadata": {},
     "output_type": "execute_result"
    },
    {
     "data": {
      "image/png": "[encoded data removed]",
      "text/plain": [
       "<Figure size 1080x432 with 2 Axes>"
      ]
     },
     "metadata": {
      "needs_background": "light"
     },
     "output_type": "display_data"
    }
   ],
   "source": [
    "sample = regression_df.sample(5000) #make it load a little quicker\n",
    "plt.figure(figsize = (15,6))\n",
    "\n",
    "plt.subplot(121)\n",
    "plt.scatter(sample['calculatedfinishedsquarefeet'], sample['residual_baseline'])\n",
    "plt.axhline(y = 0, ls = ':')\n",
    "plt.xlabel('calculatedfinishedsquarefeet')\n",
    "plt.ylabel('Residual')\n",
    "plt.title('Baseline Residuals')\n",
    "\n",
    "plt.subplot(122)\n",
    "plt.scatter(sample['calculatedfinishedsquarefeet'], sample['residual'])\n",
    "plt.axhline(y = 0, ls = ':')\n",
    "plt.xlabel('calculatedfinishedsquarefeet')\n",
    "plt.ylabel('Residual')\n",
    "plt.title('OLS model residuals')"
   ]
  },
  {
   "cell_type": "code",
   "execution_count": 9,
   "id": "f2c983a0",
   "metadata": {},
   "outputs": [
    {
     "data": {
      "text/plain": [
       "Text(0.5, 1.0, 'OLS model residuals')"
      ]
     },
     "execution_count": 9,
     "metadata": {},
     "output_type": "execute_result"
    },
    {
     "data": {
      "image/png": "[encoded data removed]",
      "text/plain": [
       "<Figure size 1080x432 with 2 Axes>"
      ]
     },
     "metadata": {
      "needs_background": "light"
     },
     "output_type": "display_data"
    }
   ],
   "source": [
    "sample = regression_df.sample(5000) #make it load a little quicker\n",
    "plt.figure(figsize = (15,6))\n",
    "\n",
    "plt.subplot(121)\n",
    "plt.scatter(sample['taxvaluedollarcnt'], sample['residual_baseline'])\n",
    "plt.axhline(y = 0, ls = ':')\n",
    "plt.xlabel('taxvaluedollarcnt')\n",
    "plt.ylabel('Residual')\n",
    "plt.title('Baseline Residuals')\n",
    "\n",
    "plt.subplot(122)\n",
    "plt.scatter(sample['taxvaluedollarcnt'], sample['residual'])\n",
    "plt.axhline(y = 0, ls = ':')\n",
    "plt.xlabel('taxvaluedollarcnt')\n",
    "plt.ylabel('Residual')\n",
    "plt.title('OLS model residuals')"
   ]
  },
  {
   "cell_type": "code",
   "execution_count": 10,
   "id": "fdf66df1",
   "metadata": {},
   "outputs": [
    {
     "data": {
      "text/html": [
       "<div>\n",
       "<style scoped>\n",
       "    .dataframe tbody tr th:only-of-type {\n",
       "        vertical-align: middle;\n",
       "    }\n",
       "\n",
       "    .dataframe tbody tr th {\n",
       "        vertical-align: top;\n",
       "    }\n",
       "\n",
       "    .dataframe thead th {\n",
       "        text-align: right;\n",
       "    }\n",
       "</style>\n",
       "<table border=\"1\" class=\"dataframe\">\n",
       "  <thead>\n",
       "    <tr style=\"text-align: right;\">\n",
       "      <th></th>\n",
       "      <th>count</th>\n",
       "      <th>mean</th>\n",
       "      <th>std</th>\n",
       "      <th>min</th>\n",
       "      <th>25%</th>\n",
       "      <th>50%</th>\n",
       "      <th>75%</th>\n",
       "      <th>max</th>\n",
       "    </tr>\n",
       "  </thead>\n",
       "  <tbody>\n",
       "    <tr>\n",
       "      <th>residual</th>\n",
       "      <td>1169019.0</td>\n",
       "      <td>-6.721008e-11</td>\n",
       "      <td>253308.897229</td>\n",
       "      <td>-1.332795e+06</td>\n",
       "      <td>-162019.970030</td>\n",
       "      <td>-31393.370216</td>\n",
       "      <td>118622.174099</td>\n",
       "      <td>1.869597e+06</td>\n",
       "    </tr>\n",
       "    <tr>\n",
       "      <th>residual_baseline</th>\n",
       "      <td>1169019.0</td>\n",
       "      <td>3.401545e-09</td>\n",
       "      <td>312099.364956</td>\n",
       "      <td>-3.980990e+05</td>\n",
       "      <td>-211782.455712</td>\n",
       "      <td>-76070.955712</td>\n",
       "      <td>118216.544288</td>\n",
       "      <td>1.601879e+06</td>\n",
       "    </tr>\n",
       "  </tbody>\n",
       "</table>\n",
       "</div>"
      ],
      "text/plain": [
       "                       count          mean            std           min  \\\n",
       "residual           1169019.0 -6.721008e-11  253308.897229 -1.332795e+06   \n",
       "residual_baseline  1169019.0  3.401545e-09  312099.364956 -3.980990e+05   \n",
       "\n",
       "                             25%           50%            75%           max  \n",
       "residual          -162019.970030 -31393.370216  118622.174099  1.869597e+06  \n",
       "residual_baseline -211782.455712 -76070.955712  118216.544288  1.601879e+06  "
      ]
     },
     "execution_count": 10,
     "metadata": {},
     "output_type": "execute_result"
    }
   ],
   "source": [
    "regression_df[['residual', 'residual_baseline']].describe().T"
   ]
  },
  {
   "cell_type": "markdown",
   "id": "d3c13cfd",
   "metadata": {},
   "source": [
    "4. Calculate the sum of squared errors, explained sum of squares, total sum of squares, mean squared error, and root mean squared error for your model."
   ]
  },
  {
   "cell_type": "code",
   "execution_count": 11,
   "id": "093525aa",
   "metadata": {},
   "outputs": [
    {
     "data": {
      "text/plain": [
       "('SSE = 7.501050455586094e+16', 7.501050455586094e+16)"
      ]
     },
     "execution_count": 11,
     "metadata": {},
     "output_type": "execute_result"
    }
   ],
   "source": [
    "regression_df['residual^2'] = regression_df['residual']**2\n",
    "SSE = ((regression_df['taxvaluedollarcnt'] - regression_df['taxvaluedollarcnt_prediction'])**2).sum()\n",
    "f\"SSE = {SSE}\", regression_df['residual^2'].sum()"
   ]
  },
  {
   "cell_type": "code",
   "execution_count": 12,
   "id": "d9d659e1",
   "metadata": {},
   "outputs": [
    {
     "data": {
      "text/plain": [
       "('ESS = 3.885887865757344e+16',)"
      ]
     },
     "execution_count": 12,
     "metadata": {},
     "output_type": "execute_result"
    }
   ],
   "source": [
    "ESS = ((regression_df['taxvaluedollarcnt_prediction']-regression_df['taxvaluedollarcnt'].mean())**2).sum()\n",
    "f\"ESS = {ESS}\", "
   ]
  },
  {
   "cell_type": "code",
   "execution_count": 13,
   "id": "fc415cb1",
   "metadata": {},
   "outputs": [
    {
     "data": {
      "text/plain": [
       "('TSS = 1.1386938321343302e+17', 1.1386938321343438e+17, False)"
      ]
     },
     "execution_count": 13,
     "metadata": {},
     "output_type": "execute_result"
    }
   ],
   "source": [
    "regression_df['residual_baseline^2'] = regression_df['residual_baseline']**2\n",
    "TSS = ((regression_df['taxvaluedollarcnt'] - regression_df['taxvaluedollarcnt'].mean())**2).sum()\n",
    "f\"TSS = {TSS}\", (ESS+SSE), (ESS+SSE)==TSS"
   ]
  },
  {
   "cell_type": "code",
   "execution_count": 14,
   "id": "45075c8b",
   "metadata": {},
   "outputs": [
    {
     "data": {
      "text/plain": [
       "'MSE = 64165342527.24801'"
      ]
     },
     "execution_count": 14,
     "metadata": {},
     "output_type": "execute_result"
    }
   ],
   "source": [
    "MSE = SSE/regression_df.shape[0]\n",
    "f\"MSE = {MSE}\""
   ]
  },
  {
   "cell_type": "code",
   "execution_count": 15,
   "id": "c3853886",
   "metadata": {},
   "outputs": [
    {
     "data": {
      "text/plain": [
       "'RMSE = 253308.78888670247'"
      ]
     },
     "execution_count": 15,
     "metadata": {},
     "output_type": "execute_result"
    }
   ],
   "source": [
    "RMSE = MSE**(0.5)\n",
    "f\"RMSE = {RMSE}\""
   ]
  },
  {
   "cell_type": "markdown",
   "id": "479c7056",
   "metadata": {},
   "source": [
    "5. Calculate the sum of squared errors, mean squared error, and root mean squared error for the baseline model (i.e. a model that always predicts the average taxvaluedollarcnt amount)."
   ]
  },
  {
   "cell_type": "code",
   "execution_count": 16,
   "id": "a9839c17",
   "metadata": {},
   "outputs": [
    {
     "data": {
      "text/plain": [
       "('SSE_baseline = 1.8528985680097984e+17', 1.1386938321343302e+17)"
      ]
     },
     "execution_count": 16,
     "metadata": {},
     "output_type": "execute_result"
    }
   ],
   "source": [
    "regression_df['residual_baseline^2'] = regression_df['residual_baseline']**2\n",
    "SSE_baseline = ((regression_df['taxvaluedollarcnt'] - regression_df['residual_baseline'])**2).sum()\n",
    "f\"SSE_baseline = {SSE_baseline}\", regression_df['residual_baseline^2'].sum()"
   ]
  },
  {
   "cell_type": "code",
   "execution_count": 17,
   "id": "580c1731",
   "metadata": {},
   "outputs": [
    {
     "data": {
      "text/plain": [
       "('ESS_baseline = 0.0',)"
      ]
     },
     "execution_count": 17,
     "metadata": {},
     "output_type": "execute_result"
    }
   ],
   "source": [
    "ESS_baseline = ((regression_df['baseline']-regression_df['taxvaluedollarcnt'].mean())**2).sum()\n",
    "f\"ESS_baseline = {ESS_baseline}\", "
   ]
  },
  {
   "cell_type": "code",
   "execution_count": 18,
   "id": "7d1d62dc",
   "metadata": {},
   "outputs": [
    {
     "data": {
      "text/plain": [
       "'MSE_baseline = 158500295376.7046'"
      ]
     },
     "execution_count": 18,
     "metadata": {},
     "output_type": "execute_result"
    }
   ],
   "source": [
    "MSE_baseline = SSE_baseline/regression_df.shape[0]\n",
    "f\"MSE_baseline = {MSE_baseline}\""
   ]
  },
  {
   "cell_type": "code",
   "execution_count": 19,
   "id": "dd24d90a",
   "metadata": {},
   "outputs": [
    {
     "data": {
      "text/plain": [
       "'RMSE_baseline = 398120.95571158343'"
      ]
     },
     "execution_count": 19,
     "metadata": {},
     "output_type": "execute_result"
    }
   ],
   "source": [
    "RMSE_baseline = MSE_baseline**(0.5)\n",
    "f\"RMSE_baseline = {RMSE_baseline}\""
   ]
  },
  {
   "cell_type": "markdown",
   "id": "38ce35d5",
   "metadata": {},
   "source": [
    "6. Write python code that compares the sum of squared errors for your model against the sum of squared errors for the baseline model and outputs whether or not your model performs better than the baseline model."
   ]
  },
  {
   "cell_type": "code",
   "execution_count": 20,
   "id": "c860ef76",
   "metadata": {},
   "outputs": [
    {
     "data": {
      "text/html": [
       "<div>\n",
       "<style scoped>\n",
       "    .dataframe tbody tr th:only-of-type {\n",
       "        vertical-align: middle;\n",
       "    }\n",
       "\n",
       "    .dataframe tbody tr th {\n",
       "        vertical-align: top;\n",
       "    }\n",
       "\n",
       "    .dataframe thead th {\n",
       "        text-align: right;\n",
       "    }\n",
       "</style>\n",
       "<table border=\"1\" class=\"dataframe\">\n",
       "  <thead>\n",
       "    <tr style=\"text-align: right;\">\n",
       "      <th></th>\n",
       "      <th>SSE_model</th>\n",
       "      <th>SSE_baseline</th>\n",
       "      <th>difference</th>\n",
       "      <th>SSE_model &lt; SSE_baseline</th>\n",
       "    </tr>\n",
       "  </thead>\n",
       "  <tbody>\n",
       "    <tr>\n",
       "      <th>0</th>\n",
       "      <td>7.501050e+16</td>\n",
       "      <td>1.852899e+17</td>\n",
       "      <td>-1.102794e+17</td>\n",
       "      <td>True</td>\n",
       "    </tr>\n",
       "  </tbody>\n",
       "</table>\n",
       "</div>"
      ],
      "text/plain": [
       "      SSE_model  SSE_baseline    difference  SSE_model < SSE_baseline\n",
       "0  7.501050e+16  1.852899e+17 -1.102794e+17                      True"
      ]
     },
     "execution_count": 20,
     "metadata": {},
     "output_type": "execute_result"
    }
   ],
   "source": [
    "pd.DataFrame([{\n",
    "    'SSE_model': SSE,\n",
    "    'SSE_baseline':SSE_baseline,\n",
    "    'difference':SSE - SSE_baseline,\n",
    "    'SSE_model < SSE_baseline': SSE < SSE_baseline\n",
    "}])"
   ]
  },
  {
   "cell_type": "markdown",
   "id": "2c97c1d3",
   "metadata": {},
   "source": [
    "7. What is the amount of variance explained in your model?\n",
    "\n",
    "Calculate $R^2$"
   ]
  },
  {
   "cell_type": "code",
   "execution_count": 21,
   "id": "8297acd6",
   "metadata": {},
   "outputs": [
    {
     "data": {
      "text/plain": [
       "'R^2 = 0.3412583572595422'"
      ]
     },
     "execution_count": 21,
     "metadata": {},
     "output_type": "execute_result"
    }
   ],
   "source": [
    "R2 = ESS/TSS\n",
    "f\"R^2 = {R2}\""
   ]
  },
  {
   "cell_type": "code",
   "execution_count": 22,
   "id": "55f7d967",
   "metadata": {},
   "outputs": [
    {
     "data": {
      "text/plain": [
       "0.34125835725953024"
      ]
     },
     "execution_count": 22,
     "metadata": {},
     "output_type": "execute_result"
    }
   ],
   "source": [
    "evs = metrics.explained_variance_score(regression_df['taxvaluedollarcnt'], regression_df['taxvaluedollarcnt_prediction'])\n",
    "evs"
   ]
  },
  {
   "cell_type": "markdown",
   "id": "779091a7",
   "metadata": {},
   "source": [
    "8. Is your model better than the baseline model?"
   ]
  },
  {
   "cell_type": "code",
   "execution_count": 23,
   "id": "56923fa1",
   "metadata": {},
   "outputs": [
    {
     "data": {
      "text/html": [
       "<div>\n",
       "<style scoped>\n",
       "    .dataframe tbody tr th:only-of-type {\n",
       "        vertical-align: middle;\n",
       "    }\n",
       "\n",
       "    .dataframe tbody tr th {\n",
       "        vertical-align: top;\n",
       "    }\n",
       "\n",
       "    .dataframe thead th {\n",
       "        text-align: right;\n",
       "    }\n",
       "</style>\n",
       "<table border=\"1\" class=\"dataframe\">\n",
       "  <thead>\n",
       "    <tr style=\"text-align: right;\">\n",
       "      <th></th>\n",
       "      <th>SSE</th>\n",
       "      <th>ESS</th>\n",
       "      <th>TSS</th>\n",
       "      <th>MSE</th>\n",
       "      <th>RMSE</th>\n",
       "      <th>R2</th>\n",
       "    </tr>\n",
       "    <tr>\n",
       "      <th>name</th>\n",
       "      <th></th>\n",
       "      <th></th>\n",
       "      <th></th>\n",
       "      <th></th>\n",
       "      <th></th>\n",
       "      <th></th>\n",
       "    </tr>\n",
       "  </thead>\n",
       "  <tbody>\n",
       "    <tr>\n",
       "      <th>Linear Regression</th>\n",
       "      <td>7.501050e+16</td>\n",
       "      <td>3.885888e+16</td>\n",
       "      <td>1.138694e+17</td>\n",
       "      <td>6.416534e+10</td>\n",
       "      <td>253308.788887</td>\n",
       "      <td>0.341258</td>\n",
       "    </tr>\n",
       "    <tr>\n",
       "      <th>Baseline</th>\n",
       "      <td>1.138694e+17</td>\n",
       "      <td>0.000000e+00</td>\n",
       "      <td>1.138694e+17</td>\n",
       "      <td>9.740593e+10</td>\n",
       "      <td>312099.231468</td>\n",
       "      <td>0.000000</td>\n",
       "    </tr>\n",
       "  </tbody>\n",
       "</table>\n",
       "</div>"
      ],
      "text/plain": [
       "                            SSE           ESS           TSS           MSE  \\\n",
       "name                                                                        \n",
       "Linear Regression  7.501050e+16  3.885888e+16  1.138694e+17  6.416534e+10   \n",
       "Baseline           1.138694e+17  0.000000e+00  1.138694e+17  9.740593e+10   \n",
       "\n",
       "                            RMSE        R2  \n",
       "name                                        \n",
       "Linear Regression  253308.788887  0.341258  \n",
       "Baseline           312099.231468  0.000000  "
      ]
     },
     "execution_count": 23,
     "metadata": {},
     "output_type": "execute_result"
    }
   ],
   "source": [
    "r_df = regression_df\n",
    "model = {\n",
    "    'name':'Linear Regression',\n",
    "    'SSE': r_df.shape[0]*metrics.mean_squared_error(r_df['taxvaluedollarcnt'], r_df['taxvaluedollarcnt_prediction']),\n",
    "    'ESS': ((r_df['taxvaluedollarcnt_prediction']-r_df['taxvaluedollarcnt'].mean())**2).sum(),\n",
    "    'TSS': ((r_df['taxvaluedollarcnt'] - r_df['taxvaluedollarcnt'].mean())**2).sum(),\n",
    "    'MSE': metrics.mean_squared_error(r_df['taxvaluedollarcnt'], r_df['taxvaluedollarcnt_prediction']),\n",
    "    'RMSE': metrics.mean_squared_error(r_df['taxvaluedollarcnt'], r_df['taxvaluedollarcnt_prediction'])**(0.5),\n",
    "    'R2':metrics.explained_variance_score(r_df['taxvaluedollarcnt'], r_df['taxvaluedollarcnt_prediction'])\n",
    "\n",
    "}\n",
    "baseline = {\n",
    "    'name':'Baseline',\n",
    "    'SSE': r_df.shape[0]*metrics.mean_squared_error(r_df['taxvaluedollarcnt'], r_df['baseline']),\n",
    "    'ESS': ((r_df['baseline']-r_df['taxvaluedollarcnt'].mean())**2).sum(),\n",
    "    'TSS': ((r_df['taxvaluedollarcnt'] - r_df['taxvaluedollarcnt'].mean())**2).sum(),\n",
    "    'MSE': metrics.mean_squared_error(r_df['taxvaluedollarcnt'], r_df['baseline']),\n",
    "    'RMSE': metrics.mean_squared_error(r_df['taxvaluedollarcnt'], r_df['baseline'])**(0.5),\n",
    "    'R2':metrics.explained_variance_score(r_df['taxvaluedollarcnt'], r_df['baseline'])\n",
    "}\n",
    "pd.DataFrame([model, baseline]).set_index('name')"
   ]
  },
  {
   "cell_type": "markdown",
   "id": "cd078a67",
   "metadata": {},
   "source": [
    "All of the numbers for the model are lower than for the baseline.  Looks like the model is better."
   ]
  },
  {
   "cell_type": "markdown",
   "id": "0bb3b6dc",
   "metadata": {},
   "source": [
    "9. Create a file named evaluate.py that contains the following functions.\n",
    "\n",
    "- plot_residuals(y, yhat): creates a residual plot\n",
    "- regression_errors(y, yhat): returns the following values:\n",
    "    - sum of squared errors (SSE)\n",
    "    - explained sum of squares (ESS)\n",
    "    - total sum of squares (TSS)\n",
    "    - mean squared error (MSE)\n",
    "    - root mean squared error (RMSE)\n",
    "- baseline_mean_errors(y): computes the SSE, MSE, and RMSE for the baseline model\n",
    "- better_than_baseline(y, yhat): returns true if your model performs better than the baseline, otherwise false\n",
    "\n"
   ]
  },
  {
   "cell_type": "code",
   "execution_count": 24,
   "id": "e968d4d3",
   "metadata": {},
   "outputs": [],
   "source": [
    "import evaluate"
   ]
  },
  {
   "cell_type": "code",
   "execution_count": 25,
   "id": "6291756b",
   "metadata": {},
   "outputs": [
    {
     "data": {
      "image/png": "[encoded data removed]",
      "text/plain": [
       "<Figure size 792x792 with 1 Axes>"
      ]
     },
     "metadata": {
      "needs_background": "light"
     },
     "output_type": "display_data"
    }
   ],
   "source": [
    "evaluate.plot_residuals(regression_df['taxvaluedollarcnt'], regression_df['taxvaluedollarcnt_prediction'])"
   ]
  },
  {
   "cell_type": "code",
   "execution_count": 26,
   "id": "c7527be5",
   "metadata": {},
   "outputs": [
    {
     "data": {
      "text/html": [
       "<div>\n",
       "<style scoped>\n",
       "    .dataframe tbody tr th:only-of-type {\n",
       "        vertical-align: middle;\n",
       "    }\n",
       "\n",
       "    .dataframe tbody tr th {\n",
       "        vertical-align: top;\n",
       "    }\n",
       "\n",
       "    .dataframe thead th {\n",
       "        text-align: right;\n",
       "    }\n",
       "</style>\n",
       "<table border=\"1\" class=\"dataframe\">\n",
       "  <thead>\n",
       "    <tr style=\"text-align: right;\">\n",
       "      <th></th>\n",
       "      <th>SSE</th>\n",
       "      <th>ESS</th>\n",
       "      <th>TSS</th>\n",
       "      <th>MSE</th>\n",
       "      <th>RMSE</th>\n",
       "      <th>R2</th>\n",
       "    </tr>\n",
       "    <tr>\n",
       "      <th>name</th>\n",
       "      <th></th>\n",
       "      <th></th>\n",
       "      <th></th>\n",
       "      <th></th>\n",
       "      <th></th>\n",
       "      <th></th>\n",
       "    </tr>\n",
       "  </thead>\n",
       "  <tbody>\n",
       "    <tr>\n",
       "      <th>Linear Regression</th>\n",
       "      <td>7.501050e+16</td>\n",
       "      <td>3.885888e+16</td>\n",
       "      <td>1.138694e+17</td>\n",
       "      <td>6.416534e+10</td>\n",
       "      <td>253308.788887</td>\n",
       "      <td>0.341258</td>\n",
       "    </tr>\n",
       "    <tr>\n",
       "      <th>function return</th>\n",
       "      <td>7.501050e+16</td>\n",
       "      <td>3.885888e+16</td>\n",
       "      <td>1.138694e+17</td>\n",
       "      <td>6.416534e+10</td>\n",
       "      <td>253308.788887</td>\n",
       "      <td>0.341258</td>\n",
       "    </tr>\n",
       "  </tbody>\n",
       "</table>\n",
       "</div>"
      ],
      "text/plain": [
       "                            SSE           ESS           TSS           MSE  \\\n",
       "name                                                                        \n",
       "Linear Regression  7.501050e+16  3.885888e+16  1.138694e+17  6.416534e+10   \n",
       "function return    7.501050e+16  3.885888e+16  1.138694e+17  6.416534e+10   \n",
       "\n",
       "                            RMSE        R2  \n",
       "name                                        \n",
       "Linear Regression  253308.788887  0.341258  \n",
       "function return    253308.788887  0.341258  "
      ]
     },
     "execution_count": 26,
     "metadata": {},
     "output_type": "execute_result"
    }
   ],
   "source": [
    "func_return = evaluate.regression_errors(regression_df['taxvaluedollarcnt'], regression_df['taxvaluedollarcnt_prediction'])\n",
    "func_return['name'] = 'function return'\n",
    "pd.DataFrame([model,func_return]).set_index('name')"
   ]
  },
  {
   "cell_type": "code",
   "execution_count": 27,
   "id": "3bb70df3",
   "metadata": {},
   "outputs": [
    {
     "data": {
      "text/html": [
       "<div>\n",
       "<style scoped>\n",
       "    .dataframe tbody tr th:only-of-type {\n",
       "        vertical-align: middle;\n",
       "    }\n",
       "\n",
       "    .dataframe tbody tr th {\n",
       "        vertical-align: top;\n",
       "    }\n",
       "\n",
       "    .dataframe thead th {\n",
       "        text-align: right;\n",
       "    }\n",
       "</style>\n",
       "<table border=\"1\" class=\"dataframe\">\n",
       "  <thead>\n",
       "    <tr style=\"text-align: right;\">\n",
       "      <th></th>\n",
       "      <th>SSE</th>\n",
       "      <th>ESS</th>\n",
       "      <th>TSS</th>\n",
       "      <th>MSE</th>\n",
       "      <th>RMSE</th>\n",
       "      <th>R2</th>\n",
       "    </tr>\n",
       "    <tr>\n",
       "      <th>name</th>\n",
       "      <th></th>\n",
       "      <th></th>\n",
       "      <th></th>\n",
       "      <th></th>\n",
       "      <th></th>\n",
       "      <th></th>\n",
       "    </tr>\n",
       "  </thead>\n",
       "  <tbody>\n",
       "    <tr>\n",
       "      <th>Baseline</th>\n",
       "      <td>1.138694e+17</td>\n",
       "      <td>0.0</td>\n",
       "      <td>1.138694e+17</td>\n",
       "      <td>9.740593e+10</td>\n",
       "      <td>312099.231468</td>\n",
       "      <td>0.0</td>\n",
       "    </tr>\n",
       "    <tr>\n",
       "      <th>function return</th>\n",
       "      <td>1.138694e+17</td>\n",
       "      <td>0.0</td>\n",
       "      <td>1.138694e+17</td>\n",
       "      <td>9.740593e+10</td>\n",
       "      <td>312099.231468</td>\n",
       "      <td>0.0</td>\n",
       "    </tr>\n",
       "  </tbody>\n",
       "</table>\n",
       "</div>"
      ],
      "text/plain": [
       "                          SSE  ESS           TSS           MSE           RMSE  \\\n",
       "name                                                                            \n",
       "Baseline         1.138694e+17  0.0  1.138694e+17  9.740593e+10  312099.231468   \n",
       "function return  1.138694e+17  0.0  1.138694e+17  9.740593e+10  312099.231468   \n",
       "\n",
       "                  R2  \n",
       "name                  \n",
       "Baseline         0.0  \n",
       "function return  0.0  "
      ]
     },
     "execution_count": 27,
     "metadata": {},
     "output_type": "execute_result"
    }
   ],
   "source": [
    "func_return = evaluate.baseline_mean_errors(regression_df['taxvaluedollarcnt'])\n",
    "func_return['name'] = 'function return'\n",
    "pd.DataFrame([baseline,func_return]).set_index('name')"
   ]
  },
  {
   "cell_type": "code",
   "execution_count": 28,
   "id": "b4fa1b28",
   "metadata": {},
   "outputs": [
    {
     "data": {
      "text/html": [
       "<div>\n",
       "<style scoped>\n",
       "    .dataframe tbody tr th:only-of-type {\n",
       "        vertical-align: middle;\n",
       "    }\n",
       "\n",
       "    .dataframe tbody tr th {\n",
       "        vertical-align: top;\n",
       "    }\n",
       "\n",
       "    .dataframe thead th {\n",
       "        text-align: right;\n",
       "    }\n",
       "</style>\n",
       "<table border=\"1\" class=\"dataframe\">\n",
       "  <thead>\n",
       "    <tr style=\"text-align: right;\">\n",
       "      <th></th>\n",
       "      <th>0</th>\n",
       "      <th>1</th>\n",
       "      <th>model &lt; baseline</th>\n",
       "    </tr>\n",
       "  </thead>\n",
       "  <tbody>\n",
       "    <tr>\n",
       "      <th>SSE</th>\n",
       "      <td>75010504555860944.0</td>\n",
       "      <td>113869383213433024.0</td>\n",
       "      <td>True</td>\n",
       "    </tr>\n",
       "    <tr>\n",
       "      <th>ESS</th>\n",
       "      <td>38858878657573440.0</td>\n",
       "      <td>0.0</td>\n",
       "      <td>False</td>\n",
       "    </tr>\n",
       "    <tr>\n",
       "      <th>TSS</th>\n",
       "      <td>113869383213433024.0</td>\n",
       "      <td>113869383213433024.0</td>\n",
       "      <td>False</td>\n",
       "    </tr>\n",
       "    <tr>\n",
       "      <th>MSE</th>\n",
       "      <td>64165342527.248009</td>\n",
       "      <td>97405930282.940674</td>\n",
       "      <td>True</td>\n",
       "    </tr>\n",
       "    <tr>\n",
       "      <th>RMSE</th>\n",
       "      <td>253308.788887</td>\n",
       "      <td>312099.231468</td>\n",
       "      <td>True</td>\n",
       "    </tr>\n",
       "    <tr>\n",
       "      <th>R2</th>\n",
       "      <td>0.341258</td>\n",
       "      <td>0.0</td>\n",
       "      <td>False</td>\n",
       "    </tr>\n",
       "    <tr>\n",
       "      <th>name</th>\n",
       "      <td>model</td>\n",
       "      <td>baseline</td>\n",
       "      <td>False</td>\n",
       "    </tr>\n",
       "  </tbody>\n",
       "</table>\n",
       "</div>"
      ],
      "text/plain": [
       "                         0                     1  model < baseline\n",
       "SSE    75010504555860944.0  113869383213433024.0              True\n",
       "ESS    38858878657573440.0                   0.0             False\n",
       "TSS   113869383213433024.0  113869383213433024.0             False\n",
       "MSE     64165342527.248009    97405930282.940674              True\n",
       "RMSE         253308.788887         312099.231468              True\n",
       "R2                0.341258                   0.0             False\n",
       "name                 model              baseline             False"
      ]
     },
     "execution_count": 28,
     "metadata": {},
     "output_type": "execute_result"
    }
   ],
   "source": [
    "df = evaluate.better_than_baseline(regression_df['taxvaluedollarcnt'], regression_df['taxvaluedollarcnt_prediction'])\n",
    "df"
   ]
  },
  {
   "cell_type": "code",
   "execution_count": null,
   "id": "f0d21ae2",
   "metadata": {},
   "outputs": [],
   "source": []
  }
 ],
 "metadata": {
  "kernelspec": {
   "display_name": "Python 3 (ipykernel)",
   "language": "python",
   "name": "python3"
  },
  "language_info": {
   "codemirror_mode": {
    "name": "ipython",
    "version": 3
   },
   "file_extension": ".py",
   "mimetype": "text/x-python",
   "name": "python",
   "nbconvert_exporter": "python",
   "pygments_lexer": "ipython3",
   "version": "3.9.7"
  }
 },
 "nbformat": 4,
 "nbformat_minor": 5
}
