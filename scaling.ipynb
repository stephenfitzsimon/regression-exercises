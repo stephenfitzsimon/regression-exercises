{
 "cells": [
  {
   "cell_type": "markdown",
   "id": "9cb4c98b",
   "metadata": {},
   "source": [
    "# Scaling excercises"
   ]
  },
  {
   "cell_type": "code",
   "execution_count": 1,
   "id": "fee94e83",
   "metadata": {},
   "outputs": [],
   "source": [
    "import matplotlib.pyplot as plt\n",
    "import numpy as np\n",
    "import pandas as pd\n",
    "import seaborn as sns\n",
    "from sklearn.neighbors import KNeighborsClassifier\n",
    "from sklearn.preprocessing import MinMaxScaler, StandardScaler, RobustScaler, QuantileTransformer\n",
    "\n",
    "import wrangle as w"
   ]
  },
  {
   "cell_type": "code",
   "execution_count": 2,
   "id": "3091a659",
   "metadata": {
    "scrolled": true
   },
   "outputs": [
    {
     "name": "stdout",
     "output_type": "stream",
     "text": [
      "Returning saved csv file.\n",
      "<class 'pandas.core.frame.DataFrame'>\n",
      "Int64Index: 2095187 entries, 4 to 2152862\n",
      "Data columns (total 10 columns):\n",
      " #   Column                        Dtype  \n",
      "---  ------                        -----  \n",
      " 0   parcelid                      int64  \n",
      " 1   bedroomcnt                    float64\n",
      " 2   bathroomcnt                   float64\n",
      " 3   calculatedfinishedsquarefeet  float64\n",
      " 4   yearbuilt                     float64\n",
      " 5   fips                          float64\n",
      " 6   taxvaluedollarcnt             float64\n",
      " 7   taxamount                     float64\n",
      " 8   propertylandusetypeid         float64\n",
      " 9   propertylandusedesc           object \n",
      "dtypes: float64(8), int64(1), object(1)\n",
      "memory usage: 175.8+ MB\n"
     ]
    }
   ],
   "source": [
    "df = w.wrangle_zillow_data()\n",
    "df.info()"
   ]
  },
  {
   "cell_type": "code",
   "execution_count": 3,
   "id": "a981a9cd",
   "metadata": {},
   "outputs": [],
   "source": [
    "train, validate, test = w.split_zillow_data(df)\n",
    "train.sample(3)\n",
    "df = train.copy()"
   ]
  },
  {
   "cell_type": "markdown",
   "id": "3c320e5b",
   "metadata": {},
   "source": [
    "## Applying scalars\n",
    "1. Apply the scalers we talked about in this lesson to your data and visualize the results for the unscaled and scaled distribution.\n",
    "\n",
    "#### Min Max Scaler"
   ]
  },
  {
   "cell_type": "code",
   "execution_count": 4,
   "id": "06b5cf41",
   "metadata": {},
   "outputs": [
    {
     "data": {
      "text/html": [
       "<div>\n",
       "<style scoped>\n",
       "    .dataframe tbody tr th:only-of-type {\n",
       "        vertical-align: middle;\n",
       "    }\n",
       "\n",
       "    .dataframe tbody tr th {\n",
       "        vertical-align: top;\n",
       "    }\n",
       "\n",
       "    .dataframe thead th {\n",
       "        text-align: right;\n",
       "    }\n",
       "</style>\n",
       "<table border=\"1\" class=\"dataframe\">\n",
       "  <thead>\n",
       "    <tr style=\"text-align: right;\">\n",
       "      <th></th>\n",
       "      <th>taxamount</th>\n",
       "    </tr>\n",
       "  </thead>\n",
       "  <tbody>\n",
       "    <tr>\n",
       "      <th>1571052</th>\n",
       "      <td>10125.24</td>\n",
       "    </tr>\n",
       "    <tr>\n",
       "      <th>1938950</th>\n",
       "      <td>3174.39</td>\n",
       "    </tr>\n",
       "    <tr>\n",
       "      <th>1171526</th>\n",
       "      <td>4585.82</td>\n",
       "    </tr>\n",
       "    <tr>\n",
       "      <th>1386826</th>\n",
       "      <td>7055.68</td>\n",
       "    </tr>\n",
       "    <tr>\n",
       "      <th>95133</th>\n",
       "      <td>5634.60</td>\n",
       "    </tr>\n",
       "    <tr>\n",
       "      <th>...</th>\n",
       "      <td>...</td>\n",
       "    </tr>\n",
       "    <tr>\n",
       "      <th>460612</th>\n",
       "      <td>3097.98</td>\n",
       "    </tr>\n",
       "    <tr>\n",
       "      <th>665697</th>\n",
       "      <td>4450.92</td>\n",
       "    </tr>\n",
       "    <tr>\n",
       "      <th>1635382</th>\n",
       "      <td>4461.74</td>\n",
       "    </tr>\n",
       "    <tr>\n",
       "      <th>1977329</th>\n",
       "      <td>5667.42</td>\n",
       "    </tr>\n",
       "    <tr>\n",
       "      <th>1091799</th>\n",
       "      <td>893.77</td>\n",
       "    </tr>\n",
       "  </tbody>\n",
       "</table>\n",
       "<p>1173304 rows × 1 columns</p>\n",
       "</div>"
      ],
      "text/plain": [
       "         taxamount\n",
       "1571052   10125.24\n",
       "1938950    3174.39\n",
       "1171526    4585.82\n",
       "1386826    7055.68\n",
       "95133      5634.60\n",
       "...            ...\n",
       "460612     3097.98\n",
       "665697     4450.92\n",
       "1635382    4461.74\n",
       "1977329    5667.42\n",
       "1091799     893.77\n",
       "\n",
       "[1173304 rows x 1 columns]"
      ]
     },
     "execution_count": 4,
     "metadata": {},
     "output_type": "execute_result"
    }
   ],
   "source": [
    "df_minmax = df[['taxamount']]\n",
    "df_minmax"
   ]
  },
  {
   "cell_type": "code",
   "execution_count": 5,
   "id": "d61601d9",
   "metadata": {},
   "outputs": [
    {
     "data": {
      "text/plain": [
       "MinMaxScaler()"
      ]
     },
     "execution_count": 5,
     "metadata": {},
     "output_type": "execute_result"
    }
   ],
   "source": [
    "minmax_scaler = MinMaxScaler()\n",
    "minmax_scaler.fit(df[['taxamount']])"
   ]
  },
  {
   "cell_type": "code",
   "execution_count": 6,
   "id": "ffb21904",
   "metadata": {},
   "outputs": [
    {
     "name": "stderr",
     "output_type": "stream",
     "text": [
      "/var/folders/lw/_43z7rb5635_x1dwsyzrnc_m0000gn/T/ipykernel_55829/3597583560.py:2: SettingWithCopyWarning: \n",
      "A value is trying to be set on a copy of a slice from a DataFrame.\n",
      "Try using .loc[row_indexer,col_indexer] = value instead\n",
      "\n",
      "See the caveats in the documentation: https://pandas.pydata.org/pandas-docs/stable/user_guide/indexing.html#returning-a-view-versus-a-copy\n",
      "  df_minmax['taxamount_scaled'] = scaled_minmax\n"
     ]
    }
   ],
   "source": [
    "scaled_minmax = minmax_scaler.transform(df_minmax)\n",
    "df_minmax['taxamount_scaled'] = scaled_minmax"
   ]
  },
  {
   "cell_type": "code",
   "execution_count": 7,
   "id": "ceff54d0",
   "metadata": {},
   "outputs": [
    {
     "data": {
      "text/html": [
       "<div>\n",
       "<style scoped>\n",
       "    .dataframe tbody tr th:only-of-type {\n",
       "        vertical-align: middle;\n",
       "    }\n",
       "\n",
       "    .dataframe tbody tr th {\n",
       "        vertical-align: top;\n",
       "    }\n",
       "\n",
       "    .dataframe thead th {\n",
       "        text-align: right;\n",
       "    }\n",
       "</style>\n",
       "<table border=\"1\" class=\"dataframe\">\n",
       "  <thead>\n",
       "    <tr style=\"text-align: right;\">\n",
       "      <th></th>\n",
       "      <th>taxamount</th>\n",
       "      <th>taxamount_scaled</th>\n",
       "    </tr>\n",
       "  </thead>\n",
       "  <tbody>\n",
       "    <tr>\n",
       "      <th>1571052</th>\n",
       "      <td>10125.24</td>\n",
       "      <td>0.100750</td>\n",
       "    </tr>\n",
       "    <tr>\n",
       "      <th>1938950</th>\n",
       "      <td>3174.39</td>\n",
       "      <td>0.031495</td>\n",
       "    </tr>\n",
       "    <tr>\n",
       "      <th>1171526</th>\n",
       "      <td>4585.82</td>\n",
       "      <td>0.045558</td>\n",
       "    </tr>\n",
       "    <tr>\n",
       "      <th>1386826</th>\n",
       "      <td>7055.68</td>\n",
       "      <td>0.070166</td>\n",
       "    </tr>\n",
       "    <tr>\n",
       "      <th>95133</th>\n",
       "      <td>5634.60</td>\n",
       "      <td>0.056007</td>\n",
       "    </tr>\n",
       "    <tr>\n",
       "      <th>...</th>\n",
       "      <td>...</td>\n",
       "      <td>...</td>\n",
       "    </tr>\n",
       "    <tr>\n",
       "      <th>460612</th>\n",
       "      <td>3097.98</td>\n",
       "      <td>0.030734</td>\n",
       "    </tr>\n",
       "    <tr>\n",
       "      <th>665697</th>\n",
       "      <td>4450.92</td>\n",
       "      <td>0.044214</td>\n",
       "    </tr>\n",
       "    <tr>\n",
       "      <th>1635382</th>\n",
       "      <td>4461.74</td>\n",
       "      <td>0.044322</td>\n",
       "    </tr>\n",
       "    <tr>\n",
       "      <th>1977329</th>\n",
       "      <td>5667.42</td>\n",
       "      <td>0.056334</td>\n",
       "    </tr>\n",
       "    <tr>\n",
       "      <th>1091799</th>\n",
       "      <td>893.77</td>\n",
       "      <td>0.008772</td>\n",
       "    </tr>\n",
       "  </tbody>\n",
       "</table>\n",
       "<p>1173304 rows × 2 columns</p>\n",
       "</div>"
      ],
      "text/plain": [
       "         taxamount  taxamount_scaled\n",
       "1571052   10125.24          0.100750\n",
       "1938950    3174.39          0.031495\n",
       "1171526    4585.82          0.045558\n",
       "1386826    7055.68          0.070166\n",
       "95133      5634.60          0.056007\n",
       "...            ...               ...\n",
       "460612     3097.98          0.030734\n",
       "665697     4450.92          0.044214\n",
       "1635382    4461.74          0.044322\n",
       "1977329    5667.42          0.056334\n",
       "1091799     893.77          0.008772\n",
       "\n",
       "[1173304 rows x 2 columns]"
      ]
     },
     "execution_count": 7,
     "metadata": {},
     "output_type": "execute_result"
    }
   ],
   "source": [
    "df_minmax"
   ]
  },
  {
   "cell_type": "code",
   "execution_count": 8,
   "id": "05fe2971",
   "metadata": {},
   "outputs": [
    {
     "data": {
      "text/html": [
       "<div>\n",
       "<style scoped>\n",
       "    .dataframe tbody tr th:only-of-type {\n",
       "        vertical-align: middle;\n",
       "    }\n",
       "\n",
       "    .dataframe tbody tr th {\n",
       "        vertical-align: top;\n",
       "    }\n",
       "\n",
       "    .dataframe thead th {\n",
       "        text-align: right;\n",
       "    }\n",
       "</style>\n",
       "<table border=\"1\" class=\"dataframe\">\n",
       "  <thead>\n",
       "    <tr style=\"text-align: right;\">\n",
       "      <th></th>\n",
       "      <th>taxamount</th>\n",
       "      <th>taxamount_scaled</th>\n",
       "    </tr>\n",
       "  </thead>\n",
       "  <tbody>\n",
       "    <tr>\n",
       "      <th>count</th>\n",
       "      <td>1.173304e+06</td>\n",
       "      <td>1.173304e+06</td>\n",
       "    </tr>\n",
       "    <tr>\n",
       "      <th>mean</th>\n",
       "      <td>4.917770e+03</td>\n",
       "      <td>4.886526e-02</td>\n",
       "    </tr>\n",
       "    <tr>\n",
       "      <th>std</th>\n",
       "      <td>3.652810e+03</td>\n",
       "      <td>3.639490e-02</td>\n",
       "    </tr>\n",
       "    <tr>\n",
       "      <th>min</th>\n",
       "      <td>1.336000e+01</td>\n",
       "      <td>0.000000e+00</td>\n",
       "    </tr>\n",
       "    <tr>\n",
       "      <th>25%</th>\n",
       "      <td>2.508438e+03</td>\n",
       "      <td>2.485979e-02</td>\n",
       "    </tr>\n",
       "    <tr>\n",
       "      <th>50%</th>\n",
       "      <td>4.043475e+03</td>\n",
       "      <td>4.015419e-02</td>\n",
       "    </tr>\n",
       "    <tr>\n",
       "      <th>75%</th>\n",
       "      <td>6.218430e+03</td>\n",
       "      <td>6.182443e-02</td>\n",
       "    </tr>\n",
       "    <tr>\n",
       "      <th>max</th>\n",
       "      <td>1.003793e+05</td>\n",
       "      <td>1.000000e+00</td>\n",
       "    </tr>\n",
       "  </tbody>\n",
       "</table>\n",
       "</div>"
      ],
      "text/plain": [
       "          taxamount  taxamount_scaled\n",
       "count  1.173304e+06      1.173304e+06\n",
       "mean   4.917770e+03      4.886526e-02\n",
       "std    3.652810e+03      3.639490e-02\n",
       "min    1.336000e+01      0.000000e+00\n",
       "25%    2.508438e+03      2.485979e-02\n",
       "50%    4.043475e+03      4.015419e-02\n",
       "75%    6.218430e+03      6.182443e-02\n",
       "max    1.003793e+05      1.000000e+00"
      ]
     },
     "execution_count": 8,
     "metadata": {},
     "output_type": "execute_result"
    }
   ],
   "source": [
    "df_minmax.describe()"
   ]
  },
  {
   "cell_type": "code",
   "execution_count": 9,
   "id": "667b9f16",
   "metadata": {},
   "outputs": [
    {
     "data": {
      "text/plain": [
       "Text(0.5, 1.0, 'Scaled')"
      ]
     },
     "execution_count": 9,
     "metadata": {},
     "output_type": "execute_result"
    },
    {
     "data": {
      "image/png": "[encoded data removed]",
      "text/plain": [
       "<Figure size 936x432 with 2 Axes>"
      ]
     },
     "metadata": {
      "needs_background": "light"
     },
     "output_type": "display_data"
    }
   ],
   "source": [
    "plt.figure(figsize=(13, 6))\n",
    "plt.subplot(121)\n",
    "plt.hist(df_minmax.taxamount, bins=100)\n",
    "plt.title('Original')\n",
    "plt.subplot(122)\n",
    "plt.hist(df_minmax.taxamount_scaled, bins=100)\n",
    "plt.title('Scaled')"
   ]
  },
  {
   "cell_type": "markdown",
   "id": "d56c6d30",
   "metadata": {},
   "source": [
    "Now apply to the three columns via a loop"
   ]
  },
  {
   "cell_type": "code",
   "execution_count": 10,
   "id": "b353b9f0",
   "metadata": {},
   "outputs": [],
   "source": [
    "cols_to_scale = ['calculatedfinishedsquarefeet', 'taxvaluedollarcnt', 'taxamount']"
   ]
  },
  {
   "cell_type": "code",
   "execution_count": 11,
   "id": "6d3dae11",
   "metadata": {},
   "outputs": [
    {
     "name": "stderr",
     "output_type": "stream",
     "text": [
      "/var/folders/lw/_43z7rb5635_x1dwsyzrnc_m0000gn/T/ipykernel_55829/2831105412.py:7: SettingWithCopyWarning: \n",
      "A value is trying to be set on a copy of a slice from a DataFrame.\n",
      "Try using .loc[row_indexer,col_indexer] = value instead\n",
      "\n",
      "See the caveats in the documentation: https://pandas.pydata.org/pandas-docs/stable/user_guide/indexing.html#returning-a-view-versus-a-copy\n",
      "  df_minmax_cols[f\"{column}_scaled\"] = scaled_minmax\n",
      "/var/folders/lw/_43z7rb5635_x1dwsyzrnc_m0000gn/T/ipykernel_55829/2831105412.py:7: SettingWithCopyWarning: \n",
      "A value is trying to be set on a copy of a slice from a DataFrame.\n",
      "Try using .loc[row_indexer,col_indexer] = value instead\n",
      "\n",
      "See the caveats in the documentation: https://pandas.pydata.org/pandas-docs/stable/user_guide/indexing.html#returning-a-view-versus-a-copy\n",
      "  df_minmax_cols[f\"{column}_scaled\"] = scaled_minmax\n",
      "/var/folders/lw/_43z7rb5635_x1dwsyzrnc_m0000gn/T/ipykernel_55829/2831105412.py:7: SettingWithCopyWarning: \n",
      "A value is trying to be set on a copy of a slice from a DataFrame.\n",
      "Try using .loc[row_indexer,col_indexer] = value instead\n",
      "\n",
      "See the caveats in the documentation: https://pandas.pydata.org/pandas-docs/stable/user_guide/indexing.html#returning-a-view-versus-a-copy\n",
      "  df_minmax_cols[f\"{column}_scaled\"] = scaled_minmax\n"
     ]
    }
   ],
   "source": [
    "df_minmax_cols = df[['calculatedfinishedsquarefeet', 'taxvaluedollarcnt', 'taxamount']]\n",
    "minmax_scalers = []\n",
    "for column in cols_to_scale:\n",
    "    minmax_scaler = MinMaxScaler()\n",
    "    minmax_scaler.fit(df[[column]])\n",
    "    scaled_minmax = minmax_scaler.transform(df_minmax_cols[[column]])\n",
    "    df_minmax_cols[f\"{column}_scaled\"] = scaled_minmax\n",
    "    scaler = {\n",
    "        'column':column,\n",
    "        'scaler':minmax_scaler\n",
    "    }\n",
    "    minmax_scalers.append(scaler)"
   ]
  },
  {
   "cell_type": "code",
   "execution_count": 12,
   "id": "4ec9e50a",
   "metadata": {},
   "outputs": [
    {
     "data": {
      "image/png": "[encoded data removed]",
      "text/plain": [
       "<Figure size 936x936 with 2 Axes>"
      ]
     },
     "metadata": {
      "needs_background": "light"
     },
     "output_type": "display_data"
    },
    {
     "data": {
      "image/png": "[encoded data removed]",
      "text/plain": [
       "<Figure size 936x936 with 2 Axes>"
      ]
     },
     "metadata": {
      "needs_background": "light"
     },
     "output_type": "display_data"
    },
    {
     "data": {
      "image/png": "[encoded data removed]",
      "text/plain": [
       "<Figure size 936x936 with 2 Axes>"
      ]
     },
     "metadata": {
      "needs_background": "light"
     },
     "output_type": "display_data"
    }
   ],
   "source": [
    "i = 321\n",
    "for column in cols_to_scale: \n",
    "    plt.figure(figsize=(13, 13))\n",
    "    plt.subplot(i)\n",
    "    i+=1\n",
    "    plt.hist(df_minmax_cols[column], bins=100)\n",
    "    plt.title(f'Original {column}')\n",
    "    plt.subplot(i)\n",
    "    i+=1\n",
    "    plt.hist(df_minmax_cols[f\"{column}_scaled\"], bins=100)\n",
    "    plt.title(f'Scaled {column}')"
   ]
  },
  {
   "cell_type": "code",
   "execution_count": 13,
   "id": "09d97499",
   "metadata": {},
   "outputs": [
    {
     "data": {
      "text/html": [
       "<div>\n",
       "<style scoped>\n",
       "    .dataframe tbody tr th:only-of-type {\n",
       "        vertical-align: middle;\n",
       "    }\n",
       "\n",
       "    .dataframe tbody tr th {\n",
       "        vertical-align: top;\n",
       "    }\n",
       "\n",
       "    .dataframe thead th {\n",
       "        text-align: right;\n",
       "    }\n",
       "</style>\n",
       "<table border=\"1\" class=\"dataframe\">\n",
       "  <thead>\n",
       "    <tr style=\"text-align: right;\">\n",
       "      <th></th>\n",
       "      <th>calculatedfinishedsquarefeet</th>\n",
       "      <th>taxvaluedollarcnt</th>\n",
       "      <th>taxamount</th>\n",
       "      <th>calculatedfinishedsquarefeet_scaled</th>\n",
       "      <th>taxvaluedollarcnt_scaled</th>\n",
       "      <th>taxamount_scaled</th>\n",
       "    </tr>\n",
       "  </thead>\n",
       "  <tbody>\n",
       "    <tr>\n",
       "      <th>1571052</th>\n",
       "      <td>5264.0</td>\n",
       "      <td>971668.0</td>\n",
       "      <td>10125.24</td>\n",
       "      <td>0.005525</td>\n",
       "      <td>0.485828</td>\n",
       "      <td>0.100750</td>\n",
       "    </tr>\n",
       "    <tr>\n",
       "      <th>1938950</th>\n",
       "      <td>1275.0</td>\n",
       "      <td>254438.0</td>\n",
       "      <td>3174.39</td>\n",
       "      <td>0.001337</td>\n",
       "      <td>0.127209</td>\n",
       "      <td>0.031495</td>\n",
       "    </tr>\n",
       "    <tr>\n",
       "      <th>1171526</th>\n",
       "      <td>1692.0</td>\n",
       "      <td>386787.0</td>\n",
       "      <td>4585.82</td>\n",
       "      <td>0.001775</td>\n",
       "      <td>0.193385</td>\n",
       "      <td>0.045558</td>\n",
       "    </tr>\n",
       "    <tr>\n",
       "      <th>1386826</th>\n",
       "      <td>2393.0</td>\n",
       "      <td>608919.0</td>\n",
       "      <td>7055.68</td>\n",
       "      <td>0.002511</td>\n",
       "      <td>0.304452</td>\n",
       "      <td>0.070166</td>\n",
       "    </tr>\n",
       "    <tr>\n",
       "      <th>95133</th>\n",
       "      <td>1439.0</td>\n",
       "      <td>472162.0</td>\n",
       "      <td>5634.60</td>\n",
       "      <td>0.001510</td>\n",
       "      <td>0.236073</td>\n",
       "      <td>0.056007</td>\n",
       "    </tr>\n",
       "    <tr>\n",
       "      <th>...</th>\n",
       "      <td>...</td>\n",
       "      <td>...</td>\n",
       "      <td>...</td>\n",
       "      <td>...</td>\n",
       "      <td>...</td>\n",
       "      <td>...</td>\n",
       "    </tr>\n",
       "    <tr>\n",
       "      <th>460612</th>\n",
       "      <td>1865.0</td>\n",
       "      <td>266626.0</td>\n",
       "      <td>3097.98</td>\n",
       "      <td>0.001957</td>\n",
       "      <td>0.133303</td>\n",
       "      <td>0.030734</td>\n",
       "    </tr>\n",
       "    <tr>\n",
       "      <th>665697</th>\n",
       "      <td>2496.0</td>\n",
       "      <td>385911.0</td>\n",
       "      <td>4450.92</td>\n",
       "      <td>0.002619</td>\n",
       "      <td>0.192947</td>\n",
       "      <td>0.044214</td>\n",
       "    </tr>\n",
       "    <tr>\n",
       "      <th>1635382</th>\n",
       "      <td>1586.0</td>\n",
       "      <td>363322.0</td>\n",
       "      <td>4461.74</td>\n",
       "      <td>0.001664</td>\n",
       "      <td>0.181652</td>\n",
       "      <td>0.044322</td>\n",
       "    </tr>\n",
       "    <tr>\n",
       "      <th>1977329</th>\n",
       "      <td>2324.0</td>\n",
       "      <td>440329.0</td>\n",
       "      <td>5667.42</td>\n",
       "      <td>0.002439</td>\n",
       "      <td>0.220156</td>\n",
       "      <td>0.056334</td>\n",
       "    </tr>\n",
       "    <tr>\n",
       "      <th>1091799</th>\n",
       "      <td>1194.0</td>\n",
       "      <td>80283.0</td>\n",
       "      <td>893.77</td>\n",
       "      <td>0.001252</td>\n",
       "      <td>0.040131</td>\n",
       "      <td>0.008772</td>\n",
       "    </tr>\n",
       "  </tbody>\n",
       "</table>\n",
       "<p>1173304 rows × 6 columns</p>\n",
       "</div>"
      ],
      "text/plain": [
       "         calculatedfinishedsquarefeet  taxvaluedollarcnt  taxamount  \\\n",
       "1571052                        5264.0           971668.0   10125.24   \n",
       "1938950                        1275.0           254438.0    3174.39   \n",
       "1171526                        1692.0           386787.0    4585.82   \n",
       "1386826                        2393.0           608919.0    7055.68   \n",
       "95133                          1439.0           472162.0    5634.60   \n",
       "...                               ...                ...        ...   \n",
       "460612                         1865.0           266626.0    3097.98   \n",
       "665697                         2496.0           385911.0    4450.92   \n",
       "1635382                        1586.0           363322.0    4461.74   \n",
       "1977329                        2324.0           440329.0    5667.42   \n",
       "1091799                        1194.0            80283.0     893.77   \n",
       "\n",
       "         calculatedfinishedsquarefeet_scaled  taxvaluedollarcnt_scaled  \\\n",
       "1571052                             0.005525                  0.485828   \n",
       "1938950                             0.001337                  0.127209   \n",
       "1171526                             0.001775                  0.193385   \n",
       "1386826                             0.002511                  0.304452   \n",
       "95133                               0.001510                  0.236073   \n",
       "...                                      ...                       ...   \n",
       "460612                              0.001957                  0.133303   \n",
       "665697                              0.002619                  0.192947   \n",
       "1635382                             0.001664                  0.181652   \n",
       "1977329                             0.002439                  0.220156   \n",
       "1091799                             0.001252                  0.040131   \n",
       "\n",
       "         taxamount_scaled  \n",
       "1571052          0.100750  \n",
       "1938950          0.031495  \n",
       "1171526          0.045558  \n",
       "1386826          0.070166  \n",
       "95133            0.056007  \n",
       "...                   ...  \n",
       "460612           0.030734  \n",
       "665697           0.044214  \n",
       "1635382          0.044322  \n",
       "1977329          0.056334  \n",
       "1091799          0.008772  \n",
       "\n",
       "[1173304 rows x 6 columns]"
      ]
     },
     "execution_count": 13,
     "metadata": {},
     "output_type": "execute_result"
    }
   ],
   "source": [
    "df_minmax_cols"
   ]
  },
  {
   "cell_type": "markdown",
   "id": "a4950afa",
   "metadata": {},
   "source": [
    "#### Standard Scaler"
   ]
  },
  {
   "cell_type": "code",
   "execution_count": 14,
   "id": "14f31ac0",
   "metadata": {},
   "outputs": [
    {
     "data": {
      "text/html": [
       "<div>\n",
       "<style scoped>\n",
       "    .dataframe tbody tr th:only-of-type {\n",
       "        vertical-align: middle;\n",
       "    }\n",
       "\n",
       "    .dataframe tbody tr th {\n",
       "        vertical-align: top;\n",
       "    }\n",
       "\n",
       "    .dataframe thead th {\n",
       "        text-align: right;\n",
       "    }\n",
       "</style>\n",
       "<table border=\"1\" class=\"dataframe\">\n",
       "  <thead>\n",
       "    <tr style=\"text-align: right;\">\n",
       "      <th></th>\n",
       "      <th>taxamount</th>\n",
       "    </tr>\n",
       "  </thead>\n",
       "  <tbody>\n",
       "    <tr>\n",
       "      <th>1571052</th>\n",
       "      <td>10125.24</td>\n",
       "    </tr>\n",
       "    <tr>\n",
       "      <th>1938950</th>\n",
       "      <td>3174.39</td>\n",
       "    </tr>\n",
       "    <tr>\n",
       "      <th>1171526</th>\n",
       "      <td>4585.82</td>\n",
       "    </tr>\n",
       "    <tr>\n",
       "      <th>1386826</th>\n",
       "      <td>7055.68</td>\n",
       "    </tr>\n",
       "    <tr>\n",
       "      <th>95133</th>\n",
       "      <td>5634.60</td>\n",
       "    </tr>\n",
       "    <tr>\n",
       "      <th>...</th>\n",
       "      <td>...</td>\n",
       "    </tr>\n",
       "    <tr>\n",
       "      <th>460612</th>\n",
       "      <td>3097.98</td>\n",
       "    </tr>\n",
       "    <tr>\n",
       "      <th>665697</th>\n",
       "      <td>4450.92</td>\n",
       "    </tr>\n",
       "    <tr>\n",
       "      <th>1635382</th>\n",
       "      <td>4461.74</td>\n",
       "    </tr>\n",
       "    <tr>\n",
       "      <th>1977329</th>\n",
       "      <td>5667.42</td>\n",
       "    </tr>\n",
       "    <tr>\n",
       "      <th>1091799</th>\n",
       "      <td>893.77</td>\n",
       "    </tr>\n",
       "  </tbody>\n",
       "</table>\n",
       "<p>1173304 rows × 1 columns</p>\n",
       "</div>"
      ],
      "text/plain": [
       "         taxamount\n",
       "1571052   10125.24\n",
       "1938950    3174.39\n",
       "1171526    4585.82\n",
       "1386826    7055.68\n",
       "95133      5634.60\n",
       "...            ...\n",
       "460612     3097.98\n",
       "665697     4450.92\n",
       "1635382    4461.74\n",
       "1977329    5667.42\n",
       "1091799     893.77\n",
       "\n",
       "[1173304 rows x 1 columns]"
      ]
     },
     "execution_count": 14,
     "metadata": {},
     "output_type": "execute_result"
    }
   ],
   "source": [
    "df_stand = df[['taxamount']]\n",
    "df_stand"
   ]
  },
  {
   "cell_type": "code",
   "execution_count": 15,
   "id": "7393773f",
   "metadata": {},
   "outputs": [
    {
     "data": {
      "text/plain": [
       "StandardScaler()"
      ]
     },
     "execution_count": 15,
     "metadata": {},
     "output_type": "execute_result"
    }
   ],
   "source": [
    "stand_scaler = StandardScaler()\n",
    "stand_scaler.fit(df[['taxamount']])"
   ]
  },
  {
   "cell_type": "code",
   "execution_count": 16,
   "id": "70af1e52",
   "metadata": {},
   "outputs": [
    {
     "name": "stderr",
     "output_type": "stream",
     "text": [
      "/var/folders/lw/_43z7rb5635_x1dwsyzrnc_m0000gn/T/ipykernel_55829/664651952.py:2: SettingWithCopyWarning: \n",
      "A value is trying to be set on a copy of a slice from a DataFrame.\n",
      "Try using .loc[row_indexer,col_indexer] = value instead\n",
      "\n",
      "See the caveats in the documentation: https://pandas.pydata.org/pandas-docs/stable/user_guide/indexing.html#returning-a-view-versus-a-copy\n",
      "  df_stand['taxamount_scaled'] = scaled_stand\n"
     ]
    },
    {
     "data": {
      "text/plain": [
       "array([[ 1.42560718],\n",
       "       [-0.47727114],\n",
       "       [-0.0908753 ],\n",
       "       ...,\n",
       "       [-0.12484368],\n",
       "       [ 0.20522564],\n",
       "       [-1.10161814]])"
      ]
     },
     "execution_count": 16,
     "metadata": {},
     "output_type": "execute_result"
    }
   ],
   "source": [
    "scaled_stand = stand_scaler.transform(df_stand)\n",
    "df_stand['taxamount_scaled'] = scaled_stand\n",
    "scaled_stand"
   ]
  },
  {
   "cell_type": "code",
   "execution_count": 17,
   "id": "fe33304b",
   "metadata": {},
   "outputs": [
    {
     "data": {
      "text/html": [
       "<div>\n",
       "<style scoped>\n",
       "    .dataframe tbody tr th:only-of-type {\n",
       "        vertical-align: middle;\n",
       "    }\n",
       "\n",
       "    .dataframe tbody tr th {\n",
       "        vertical-align: top;\n",
       "    }\n",
       "\n",
       "    .dataframe thead th {\n",
       "        text-align: right;\n",
       "    }\n",
       "</style>\n",
       "<table border=\"1\" class=\"dataframe\">\n",
       "  <thead>\n",
       "    <tr style=\"text-align: right;\">\n",
       "      <th></th>\n",
       "      <th>taxamount</th>\n",
       "      <th>taxamount_scaled</th>\n",
       "    </tr>\n",
       "  </thead>\n",
       "  <tbody>\n",
       "    <tr>\n",
       "      <th>1571052</th>\n",
       "      <td>10125.24</td>\n",
       "      <td>1.425607</td>\n",
       "    </tr>\n",
       "    <tr>\n",
       "      <th>1938950</th>\n",
       "      <td>3174.39</td>\n",
       "      <td>-0.477271</td>\n",
       "    </tr>\n",
       "    <tr>\n",
       "      <th>1171526</th>\n",
       "      <td>4585.82</td>\n",
       "      <td>-0.090875</td>\n",
       "    </tr>\n",
       "    <tr>\n",
       "      <th>1386826</th>\n",
       "      <td>7055.68</td>\n",
       "      <td>0.585278</td>\n",
       "    </tr>\n",
       "    <tr>\n",
       "      <th>95133</th>\n",
       "      <td>5634.60</td>\n",
       "      <td>0.196241</td>\n",
       "    </tr>\n",
       "    <tr>\n",
       "      <th>...</th>\n",
       "      <td>...</td>\n",
       "      <td>...</td>\n",
       "    </tr>\n",
       "    <tr>\n",
       "      <th>460612</th>\n",
       "      <td>3097.98</td>\n",
       "      <td>-0.498189</td>\n",
       "    </tr>\n",
       "    <tr>\n",
       "      <th>665697</th>\n",
       "      <td>4450.92</td>\n",
       "      <td>-0.127806</td>\n",
       "    </tr>\n",
       "    <tr>\n",
       "      <th>1635382</th>\n",
       "      <td>4461.74</td>\n",
       "      <td>-0.124844</td>\n",
       "    </tr>\n",
       "    <tr>\n",
       "      <th>1977329</th>\n",
       "      <td>5667.42</td>\n",
       "      <td>0.205226</td>\n",
       "    </tr>\n",
       "    <tr>\n",
       "      <th>1091799</th>\n",
       "      <td>893.77</td>\n",
       "      <td>-1.101618</td>\n",
       "    </tr>\n",
       "  </tbody>\n",
       "</table>\n",
       "<p>1173304 rows × 2 columns</p>\n",
       "</div>"
      ],
      "text/plain": [
       "         taxamount  taxamount_scaled\n",
       "1571052   10125.24          1.425607\n",
       "1938950    3174.39         -0.477271\n",
       "1171526    4585.82         -0.090875\n",
       "1386826    7055.68          0.585278\n",
       "95133      5634.60          0.196241\n",
       "...            ...               ...\n",
       "460612     3097.98         -0.498189\n",
       "665697     4450.92         -0.127806\n",
       "1635382    4461.74         -0.124844\n",
       "1977329    5667.42          0.205226\n",
       "1091799     893.77         -1.101618\n",
       "\n",
       "[1173304 rows x 2 columns]"
      ]
     },
     "execution_count": 17,
     "metadata": {},
     "output_type": "execute_result"
    }
   ],
   "source": [
    "df_stand"
   ]
  },
  {
   "cell_type": "code",
   "execution_count": 18,
   "id": "33ccd68c",
   "metadata": {},
   "outputs": [
    {
     "data": {
      "text/html": [
       "<div>\n",
       "<style scoped>\n",
       "    .dataframe tbody tr th:only-of-type {\n",
       "        vertical-align: middle;\n",
       "    }\n",
       "\n",
       "    .dataframe tbody tr th {\n",
       "        vertical-align: top;\n",
       "    }\n",
       "\n",
       "    .dataframe thead th {\n",
       "        text-align: right;\n",
       "    }\n",
       "</style>\n",
       "<table border=\"1\" class=\"dataframe\">\n",
       "  <thead>\n",
       "    <tr style=\"text-align: right;\">\n",
       "      <th></th>\n",
       "      <th>taxamount</th>\n",
       "      <th>taxamount_scaled</th>\n",
       "    </tr>\n",
       "  </thead>\n",
       "  <tbody>\n",
       "    <tr>\n",
       "      <th>count</th>\n",
       "      <td>1.173304e+06</td>\n",
       "      <td>1.173304e+06</td>\n",
       "    </tr>\n",
       "    <tr>\n",
       "      <th>mean</th>\n",
       "      <td>4.917770e+03</td>\n",
       "      <td>2.108406e-16</td>\n",
       "    </tr>\n",
       "    <tr>\n",
       "      <th>std</th>\n",
       "      <td>3.652810e+03</td>\n",
       "      <td>1.000000e+00</td>\n",
       "    </tr>\n",
       "    <tr>\n",
       "      <th>min</th>\n",
       "      <td>1.336000e+01</td>\n",
       "      <td>-1.342641e+00</td>\n",
       "    </tr>\n",
       "    <tr>\n",
       "      <th>25%</th>\n",
       "      <td>2.508438e+03</td>\n",
       "      <td>-6.595836e-01</td>\n",
       "    </tr>\n",
       "    <tr>\n",
       "      <th>50%</th>\n",
       "      <td>4.043475e+03</td>\n",
       "      <td>-2.393487e-01</td>\n",
       "    </tr>\n",
       "    <tr>\n",
       "      <th>75%</th>\n",
       "      <td>6.218430e+03</td>\n",
       "      <td>3.560712e-01</td>\n",
       "    </tr>\n",
       "    <tr>\n",
       "      <th>max</th>\n",
       "      <td>1.003793e+05</td>\n",
       "      <td>2.613375e+01</td>\n",
       "    </tr>\n",
       "  </tbody>\n",
       "</table>\n",
       "</div>"
      ],
      "text/plain": [
       "          taxamount  taxamount_scaled\n",
       "count  1.173304e+06      1.173304e+06\n",
       "mean   4.917770e+03      2.108406e-16\n",
       "std    3.652810e+03      1.000000e+00\n",
       "min    1.336000e+01     -1.342641e+00\n",
       "25%    2.508438e+03     -6.595836e-01\n",
       "50%    4.043475e+03     -2.393487e-01\n",
       "75%    6.218430e+03      3.560712e-01\n",
       "max    1.003793e+05      2.613375e+01"
      ]
     },
     "execution_count": 18,
     "metadata": {},
     "output_type": "execute_result"
    }
   ],
   "source": [
    "df_stand.describe()"
   ]
  },
  {
   "cell_type": "code",
   "execution_count": 19,
   "id": "e5b0bdf6",
   "metadata": {},
   "outputs": [
    {
     "data": {
      "text/plain": [
       "Text(0.5, 1.0, 'Scaled')"
      ]
     },
     "execution_count": 19,
     "metadata": {},
     "output_type": "execute_result"
    },
    {
     "data": {
      "image/png": "[encoded data removed]",
      "text/plain": [
       "<Figure size 936x432 with 2 Axes>"
      ]
     },
     "metadata": {
      "needs_background": "light"
     },
     "output_type": "display_data"
    }
   ],
   "source": [
    "plt.figure(figsize=(13, 6))\n",
    "plt.subplot(121)\n",
    "plt.hist(df_stand['taxamount'], bins=200)\n",
    "plt.title('Original')\n",
    "plt.subplot(122)\n",
    "plt.hist(df_stand['taxamount_scaled'], bins=200)\n",
    "plt.title('Scaled')"
   ]
  },
  {
   "cell_type": "code",
   "execution_count": 20,
   "id": "b1808354",
   "metadata": {},
   "outputs": [
    {
     "name": "stderr",
     "output_type": "stream",
     "text": [
      "/var/folders/lw/_43z7rb5635_x1dwsyzrnc_m0000gn/T/ipykernel_55829/2323779410.py:7: SettingWithCopyWarning: \n",
      "A value is trying to be set on a copy of a slice from a DataFrame.\n",
      "Try using .loc[row_indexer,col_indexer] = value instead\n",
      "\n",
      "See the caveats in the documentation: https://pandas.pydata.org/pandas-docs/stable/user_guide/indexing.html#returning-a-view-versus-a-copy\n",
      "  df_stand_cols[f\"{column}_scaled\"] = scaled_stand\n",
      "/var/folders/lw/_43z7rb5635_x1dwsyzrnc_m0000gn/T/ipykernel_55829/2323779410.py:7: SettingWithCopyWarning: \n",
      "A value is trying to be set on a copy of a slice from a DataFrame.\n",
      "Try using .loc[row_indexer,col_indexer] = value instead\n",
      "\n",
      "See the caveats in the documentation: https://pandas.pydata.org/pandas-docs/stable/user_guide/indexing.html#returning-a-view-versus-a-copy\n",
      "  df_stand_cols[f\"{column}_scaled\"] = scaled_stand\n",
      "/var/folders/lw/_43z7rb5635_x1dwsyzrnc_m0000gn/T/ipykernel_55829/2323779410.py:7: SettingWithCopyWarning: \n",
      "A value is trying to be set on a copy of a slice from a DataFrame.\n",
      "Try using .loc[row_indexer,col_indexer] = value instead\n",
      "\n",
      "See the caveats in the documentation: https://pandas.pydata.org/pandas-docs/stable/user_guide/indexing.html#returning-a-view-versus-a-copy\n",
      "  df_stand_cols[f\"{column}_scaled\"] = scaled_stand\n"
     ]
    }
   ],
   "source": [
    "df_stand_cols = df[['calculatedfinishedsquarefeet', 'taxvaluedollarcnt', 'taxamount']]\n",
    "stand_scalers = []\n",
    "for column in cols_to_scale:\n",
    "    stand_scaler = StandardScaler()\n",
    "    stand_scaler.fit(df[[column]])\n",
    "    scaled_stand = stand_scaler.transform(df_stand_cols[[column]])\n",
    "    df_stand_cols[f\"{column}_scaled\"] = scaled_stand\n",
    "    scaler = {\n",
    "        'column':column,\n",
    "        'scaler':stand_scaler\n",
    "    }\n",
    "    stand_scalers.append(scaler)"
   ]
  },
  {
   "cell_type": "code",
   "execution_count": 21,
   "id": "069ba1a1",
   "metadata": {
    "scrolled": false
   },
   "outputs": [
    {
     "data": {
      "image/png": "[encoded data removed]",
      "text/plain": [
       "<Figure size 936x936 with 2 Axes>"
      ]
     },
     "metadata": {
      "needs_background": "light"
     },
     "output_type": "display_data"
    },
    {
     "data": {
      "image/png": "[encoded data removed]",
      "text/plain": [
       "<Figure size 936x936 with 2 Axes>"
      ]
     },
     "metadata": {
      "needs_background": "light"
     },
     "output_type": "display_data"
    },
    {
     "data": {
      "image/png": "[encoded data removed]",
      "text/plain": [
       "<Figure size 936x936 with 2 Axes>"
      ]
     },
     "metadata": {
      "needs_background": "light"
     },
     "output_type": "display_data"
    }
   ],
   "source": [
    "i = 321\n",
    "for column in cols_to_scale: \n",
    "    plt.figure(figsize=(13, 13))\n",
    "    plt.subplot(i)\n",
    "    i+=1\n",
    "    plt.hist(df_stand_cols[column], bins=100)\n",
    "    plt.title(f'Original {column}')\n",
    "    plt.subplot(i)\n",
    "    i+=1\n",
    "    plt.hist(df_stand_cols[f\"{column}_scaled\"], bins=100)\n",
    "    plt.title(f'Scaled {column}')"
   ]
  },
  {
   "cell_type": "code",
   "execution_count": 22,
   "id": "5653936c",
   "metadata": {},
   "outputs": [
    {
     "data": {
      "text/html": [
       "<div>\n",
       "<style scoped>\n",
       "    .dataframe tbody tr th:only-of-type {\n",
       "        vertical-align: middle;\n",
       "    }\n",
       "\n",
       "    .dataframe tbody tr th {\n",
       "        vertical-align: top;\n",
       "    }\n",
       "\n",
       "    .dataframe thead th {\n",
       "        text-align: right;\n",
       "    }\n",
       "</style>\n",
       "<table border=\"1\" class=\"dataframe\">\n",
       "  <thead>\n",
       "    <tr style=\"text-align: right;\">\n",
       "      <th></th>\n",
       "      <th>calculatedfinishedsquarefeet</th>\n",
       "      <th>taxvaluedollarcnt</th>\n",
       "      <th>taxamount</th>\n",
       "      <th>calculatedfinishedsquarefeet_scaled</th>\n",
       "      <th>taxvaluedollarcnt_scaled</th>\n",
       "      <th>taxamount_scaled</th>\n",
       "    </tr>\n",
       "  </thead>\n",
       "  <tbody>\n",
       "    <tr>\n",
       "      <th>1571052</th>\n",
       "      <td>5264.0</td>\n",
       "      <td>971668.0</td>\n",
       "      <td>10125.24</td>\n",
       "      <td>2.928925</td>\n",
       "      <td>1.820074</td>\n",
       "      <td>1.425607</td>\n",
       "    </tr>\n",
       "    <tr>\n",
       "      <th>1938950</th>\n",
       "      <td>1275.0</td>\n",
       "      <td>254438.0</td>\n",
       "      <td>3174.39</td>\n",
       "      <td>-0.442876</td>\n",
       "      <td>-0.460613</td>\n",
       "      <td>-0.477271</td>\n",
       "    </tr>\n",
       "    <tr>\n",
       "      <th>1171526</th>\n",
       "      <td>1692.0</td>\n",
       "      <td>386787.0</td>\n",
       "      <td>4585.82</td>\n",
       "      <td>-0.090396</td>\n",
       "      <td>-0.039762</td>\n",
       "      <td>-0.090875</td>\n",
       "    </tr>\n",
       "    <tr>\n",
       "      <th>1386826</th>\n",
       "      <td>2393.0</td>\n",
       "      <td>608919.0</td>\n",
       "      <td>7055.68</td>\n",
       "      <td>0.502141</td>\n",
       "      <td>0.666585</td>\n",
       "      <td>0.585278</td>\n",
       "    </tr>\n",
       "    <tr>\n",
       "      <th>95133</th>\n",
       "      <td>1439.0</td>\n",
       "      <td>472162.0</td>\n",
       "      <td>5634.60</td>\n",
       "      <td>-0.304251</td>\n",
       "      <td>0.231718</td>\n",
       "      <td>0.196241</td>\n",
       "    </tr>\n",
       "    <tr>\n",
       "      <th>...</th>\n",
       "      <td>...</td>\n",
       "      <td>...</td>\n",
       "      <td>...</td>\n",
       "      <td>...</td>\n",
       "      <td>...</td>\n",
       "      <td>...</td>\n",
       "    </tr>\n",
       "    <tr>\n",
       "      <th>460612</th>\n",
       "      <td>1865.0</td>\n",
       "      <td>266626.0</td>\n",
       "      <td>3097.98</td>\n",
       "      <td>0.055836</td>\n",
       "      <td>-0.421857</td>\n",
       "      <td>-0.498189</td>\n",
       "    </tr>\n",
       "    <tr>\n",
       "      <th>665697</th>\n",
       "      <td>2496.0</td>\n",
       "      <td>385911.0</td>\n",
       "      <td>4450.92</td>\n",
       "      <td>0.589205</td>\n",
       "      <td>-0.042548</td>\n",
       "      <td>-0.127806</td>\n",
       "    </tr>\n",
       "    <tr>\n",
       "      <th>1635382</th>\n",
       "      <td>1586.0</td>\n",
       "      <td>363322.0</td>\n",
       "      <td>4461.74</td>\n",
       "      <td>-0.179996</td>\n",
       "      <td>-0.114378</td>\n",
       "      <td>-0.124844</td>\n",
       "    </tr>\n",
       "    <tr>\n",
       "      <th>1977329</th>\n",
       "      <td>2324.0</td>\n",
       "      <td>440329.0</td>\n",
       "      <td>5667.42</td>\n",
       "      <td>0.443817</td>\n",
       "      <td>0.130493</td>\n",
       "      <td>0.205226</td>\n",
       "    </tr>\n",
       "    <tr>\n",
       "      <th>1091799</th>\n",
       "      <td>1194.0</td>\n",
       "      <td>80283.0</td>\n",
       "      <td>893.77</td>\n",
       "      <td>-0.511343</td>\n",
       "      <td>-1.014400</td>\n",
       "      <td>-1.101618</td>\n",
       "    </tr>\n",
       "  </tbody>\n",
       "</table>\n",
       "<p>1173304 rows × 6 columns</p>\n",
       "</div>"
      ],
      "text/plain": [
       "         calculatedfinishedsquarefeet  taxvaluedollarcnt  taxamount  \\\n",
       "1571052                        5264.0           971668.0   10125.24   \n",
       "1938950                        1275.0           254438.0    3174.39   \n",
       "1171526                        1692.0           386787.0    4585.82   \n",
       "1386826                        2393.0           608919.0    7055.68   \n",
       "95133                          1439.0           472162.0    5634.60   \n",
       "...                               ...                ...        ...   \n",
       "460612                         1865.0           266626.0    3097.98   \n",
       "665697                         2496.0           385911.0    4450.92   \n",
       "1635382                        1586.0           363322.0    4461.74   \n",
       "1977329                        2324.0           440329.0    5667.42   \n",
       "1091799                        1194.0            80283.0     893.77   \n",
       "\n",
       "         calculatedfinishedsquarefeet_scaled  taxvaluedollarcnt_scaled  \\\n",
       "1571052                             2.928925                  1.820074   \n",
       "1938950                            -0.442876                 -0.460613   \n",
       "1171526                            -0.090396                 -0.039762   \n",
       "1386826                             0.502141                  0.666585   \n",
       "95133                              -0.304251                  0.231718   \n",
       "...                                      ...                       ...   \n",
       "460612                              0.055836                 -0.421857   \n",
       "665697                              0.589205                 -0.042548   \n",
       "1635382                            -0.179996                 -0.114378   \n",
       "1977329                             0.443817                  0.130493   \n",
       "1091799                            -0.511343                 -1.014400   \n",
       "\n",
       "         taxamount_scaled  \n",
       "1571052          1.425607  \n",
       "1938950         -0.477271  \n",
       "1171526         -0.090875  \n",
       "1386826          0.585278  \n",
       "95133            0.196241  \n",
       "...                   ...  \n",
       "460612          -0.498189  \n",
       "665697          -0.127806  \n",
       "1635382         -0.124844  \n",
       "1977329          0.205226  \n",
       "1091799         -1.101618  \n",
       "\n",
       "[1173304 rows x 6 columns]"
      ]
     },
     "execution_count": 22,
     "metadata": {},
     "output_type": "execute_result"
    }
   ],
   "source": [
    "df_stand_cols"
   ]
  },
  {
   "cell_type": "markdown",
   "id": "a36538dc",
   "metadata": {},
   "source": [
    "#### RobustScaler"
   ]
  },
  {
   "cell_type": "code",
   "execution_count": 23,
   "id": "650e9f88",
   "metadata": {},
   "outputs": [
    {
     "data": {
      "text/html": [
       "<div>\n",
       "<style scoped>\n",
       "    .dataframe tbody tr th:only-of-type {\n",
       "        vertical-align: middle;\n",
       "    }\n",
       "\n",
       "    .dataframe tbody tr th {\n",
       "        vertical-align: top;\n",
       "    }\n",
       "\n",
       "    .dataframe thead th {\n",
       "        text-align: right;\n",
       "    }\n",
       "</style>\n",
       "<table border=\"1\" class=\"dataframe\">\n",
       "  <thead>\n",
       "    <tr style=\"text-align: right;\">\n",
       "      <th></th>\n",
       "      <th>taxamount</th>\n",
       "    </tr>\n",
       "  </thead>\n",
       "  <tbody>\n",
       "    <tr>\n",
       "      <th>1571052</th>\n",
       "      <td>10125.24</td>\n",
       "    </tr>\n",
       "    <tr>\n",
       "      <th>1938950</th>\n",
       "      <td>3174.39</td>\n",
       "    </tr>\n",
       "    <tr>\n",
       "      <th>1171526</th>\n",
       "      <td>4585.82</td>\n",
       "    </tr>\n",
       "    <tr>\n",
       "      <th>1386826</th>\n",
       "      <td>7055.68</td>\n",
       "    </tr>\n",
       "    <tr>\n",
       "      <th>95133</th>\n",
       "      <td>5634.60</td>\n",
       "    </tr>\n",
       "    <tr>\n",
       "      <th>...</th>\n",
       "      <td>...</td>\n",
       "    </tr>\n",
       "    <tr>\n",
       "      <th>460612</th>\n",
       "      <td>3097.98</td>\n",
       "    </tr>\n",
       "    <tr>\n",
       "      <th>665697</th>\n",
       "      <td>4450.92</td>\n",
       "    </tr>\n",
       "    <tr>\n",
       "      <th>1635382</th>\n",
       "      <td>4461.74</td>\n",
       "    </tr>\n",
       "    <tr>\n",
       "      <th>1977329</th>\n",
       "      <td>5667.42</td>\n",
       "    </tr>\n",
       "    <tr>\n",
       "      <th>1091799</th>\n",
       "      <td>893.77</td>\n",
       "    </tr>\n",
       "  </tbody>\n",
       "</table>\n",
       "<p>1173304 rows × 1 columns</p>\n",
       "</div>"
      ],
      "text/plain": [
       "         taxamount\n",
       "1571052   10125.24\n",
       "1938950    3174.39\n",
       "1171526    4585.82\n",
       "1386826    7055.68\n",
       "95133      5634.60\n",
       "...            ...\n",
       "460612     3097.98\n",
       "665697     4450.92\n",
       "1635382    4461.74\n",
       "1977329    5667.42\n",
       "1091799     893.77\n",
       "\n",
       "[1173304 rows x 1 columns]"
      ]
     },
     "execution_count": 23,
     "metadata": {},
     "output_type": "execute_result"
    }
   ],
   "source": [
    "df_robust = df[['taxamount']]\n",
    "df_robust"
   ]
  },
  {
   "cell_type": "code",
   "execution_count": 24,
   "id": "6325ded9",
   "metadata": {},
   "outputs": [
    {
     "data": {
      "text/plain": [
       "RobustScaler()"
      ]
     },
     "execution_count": 24,
     "metadata": {},
     "output_type": "execute_result"
    }
   ],
   "source": [
    "robust_scaler = RobustScaler()\n",
    "robust_scaler.fit(df[['taxamount']])"
   ]
  },
  {
   "cell_type": "code",
   "execution_count": 25,
   "id": "16dab78c",
   "metadata": {},
   "outputs": [
    {
     "name": "stderr",
     "output_type": "stream",
     "text": [
      "/var/folders/lw/_43z7rb5635_x1dwsyzrnc_m0000gn/T/ipykernel_55829/2049686023.py:2: SettingWithCopyWarning: \n",
      "A value is trying to be set on a copy of a slice from a DataFrame.\n",
      "Try using .loc[row_indexer,col_indexer] = value instead\n",
      "\n",
      "See the caveats in the documentation: https://pandas.pydata.org/pandas-docs/stable/user_guide/indexing.html#returning-a-view-versus-a-copy\n",
      "  df_robust['taxamount_scaled'] = scaled_robust\n"
     ]
    },
    {
     "data": {
      "text/plain": [
       "array([[ 1.63929307],\n",
       "       [-0.23425519],\n",
       "       [ 0.14618493],\n",
       "       ...,\n",
       "       [ 0.11274012],\n",
       "       [ 0.43772191],\n",
       "       [-0.84897881]])"
      ]
     },
     "execution_count": 25,
     "metadata": {},
     "output_type": "execute_result"
    }
   ],
   "source": [
    "scaled_robust = robust_scaler.transform(df_robust)\n",
    "df_robust['taxamount_scaled'] = scaled_robust\n",
    "scaled_robust"
   ]
  },
  {
   "cell_type": "code",
   "execution_count": 26,
   "id": "31515657",
   "metadata": {},
   "outputs": [
    {
     "data": {
      "text/html": [
       "<div>\n",
       "<style scoped>\n",
       "    .dataframe tbody tr th:only-of-type {\n",
       "        vertical-align: middle;\n",
       "    }\n",
       "\n",
       "    .dataframe tbody tr th {\n",
       "        vertical-align: top;\n",
       "    }\n",
       "\n",
       "    .dataframe thead th {\n",
       "        text-align: right;\n",
       "    }\n",
       "</style>\n",
       "<table border=\"1\" class=\"dataframe\">\n",
       "  <thead>\n",
       "    <tr style=\"text-align: right;\">\n",
       "      <th></th>\n",
       "      <th>taxamount</th>\n",
       "      <th>taxamount_scaled</th>\n",
       "    </tr>\n",
       "  </thead>\n",
       "  <tbody>\n",
       "    <tr>\n",
       "      <th>1571052</th>\n",
       "      <td>10125.24</td>\n",
       "      <td>1.639293</td>\n",
       "    </tr>\n",
       "    <tr>\n",
       "      <th>1938950</th>\n",
       "      <td>3174.39</td>\n",
       "      <td>-0.234255</td>\n",
       "    </tr>\n",
       "    <tr>\n",
       "      <th>1171526</th>\n",
       "      <td>4585.82</td>\n",
       "      <td>0.146185</td>\n",
       "    </tr>\n",
       "    <tr>\n",
       "      <th>1386826</th>\n",
       "      <td>7055.68</td>\n",
       "      <td>0.811917</td>\n",
       "    </tr>\n",
       "    <tr>\n",
       "      <th>95133</th>\n",
       "      <td>5634.60</td>\n",
       "      <td>0.428876</td>\n",
       "    </tr>\n",
       "    <tr>\n",
       "      <th>...</th>\n",
       "      <td>...</td>\n",
       "      <td>...</td>\n",
       "    </tr>\n",
       "    <tr>\n",
       "      <th>460612</th>\n",
       "      <td>3097.98</td>\n",
       "      <td>-0.254851</td>\n",
       "    </tr>\n",
       "    <tr>\n",
       "      <th>665697</th>\n",
       "      <td>4450.92</td>\n",
       "      <td>0.109824</td>\n",
       "    </tr>\n",
       "    <tr>\n",
       "      <th>1635382</th>\n",
       "      <td>4461.74</td>\n",
       "      <td>0.112740</td>\n",
       "    </tr>\n",
       "    <tr>\n",
       "      <th>1977329</th>\n",
       "      <td>5667.42</td>\n",
       "      <td>0.437722</td>\n",
       "    </tr>\n",
       "    <tr>\n",
       "      <th>1091799</th>\n",
       "      <td>893.77</td>\n",
       "      <td>-0.848979</td>\n",
       "    </tr>\n",
       "  </tbody>\n",
       "</table>\n",
       "<p>1173304 rows × 2 columns</p>\n",
       "</div>"
      ],
      "text/plain": [
       "         taxamount  taxamount_scaled\n",
       "1571052   10125.24          1.639293\n",
       "1938950    3174.39         -0.234255\n",
       "1171526    4585.82          0.146185\n",
       "1386826    7055.68          0.811917\n",
       "95133      5634.60          0.428876\n",
       "...            ...               ...\n",
       "460612     3097.98         -0.254851\n",
       "665697     4450.92          0.109824\n",
       "1635382    4461.74          0.112740\n",
       "1977329    5667.42          0.437722\n",
       "1091799     893.77         -0.848979\n",
       "\n",
       "[1173304 rows x 2 columns]"
      ]
     },
     "execution_count": 26,
     "metadata": {},
     "output_type": "execute_result"
    }
   ],
   "source": [
    "df_robust"
   ]
  },
  {
   "cell_type": "code",
   "execution_count": 27,
   "id": "d3cb9e46",
   "metadata": {},
   "outputs": [
    {
     "data": {
      "text/html": [
       "<div>\n",
       "<style scoped>\n",
       "    .dataframe tbody tr th:only-of-type {\n",
       "        vertical-align: middle;\n",
       "    }\n",
       "\n",
       "    .dataframe tbody tr th {\n",
       "        vertical-align: top;\n",
       "    }\n",
       "\n",
       "    .dataframe thead th {\n",
       "        text-align: right;\n",
       "    }\n",
       "</style>\n",
       "<table border=\"1\" class=\"dataframe\">\n",
       "  <thead>\n",
       "    <tr style=\"text-align: right;\">\n",
       "      <th></th>\n",
       "      <th>taxamount</th>\n",
       "      <th>taxamount_scaled</th>\n",
       "    </tr>\n",
       "  </thead>\n",
       "  <tbody>\n",
       "    <tr>\n",
       "      <th>count</th>\n",
       "      <td>1.173304e+06</td>\n",
       "      <td>1.173304e+06</td>\n",
       "    </tr>\n",
       "    <tr>\n",
       "      <th>mean</th>\n",
       "      <td>4.917770e+03</td>\n",
       "      <td>2.356595e-01</td>\n",
       "    </tr>\n",
       "    <tr>\n",
       "      <th>std</th>\n",
       "      <td>3.652810e+03</td>\n",
       "      <td>9.845869e-01</td>\n",
       "    </tr>\n",
       "    <tr>\n",
       "      <th>min</th>\n",
       "      <td>1.336000e+01</td>\n",
       "      <td>-1.086287e+00</td>\n",
       "    </tr>\n",
       "    <tr>\n",
       "      <th>25%</th>\n",
       "      <td>2.508438e+03</td>\n",
       "      <td>-4.137576e-01</td>\n",
       "    </tr>\n",
       "    <tr>\n",
       "      <th>50%</th>\n",
       "      <td>4.043475e+03</td>\n",
       "      <td>0.000000e+00</td>\n",
       "    </tr>\n",
       "    <tr>\n",
       "      <th>75%</th>\n",
       "      <td>6.218430e+03</td>\n",
       "      <td>5.862424e-01</td>\n",
       "    </tr>\n",
       "    <tr>\n",
       "      <th>max</th>\n",
       "      <td>1.003793e+05</td>\n",
       "      <td>2.596659e+01</td>\n",
       "    </tr>\n",
       "  </tbody>\n",
       "</table>\n",
       "</div>"
      ],
      "text/plain": [
       "          taxamount  taxamount_scaled\n",
       "count  1.173304e+06      1.173304e+06\n",
       "mean   4.917770e+03      2.356595e-01\n",
       "std    3.652810e+03      9.845869e-01\n",
       "min    1.336000e+01     -1.086287e+00\n",
       "25%    2.508438e+03     -4.137576e-01\n",
       "50%    4.043475e+03      0.000000e+00\n",
       "75%    6.218430e+03      5.862424e-01\n",
       "max    1.003793e+05      2.596659e+01"
      ]
     },
     "execution_count": 27,
     "metadata": {},
     "output_type": "execute_result"
    }
   ],
   "source": [
    "df_robust.describe()"
   ]
  },
  {
   "cell_type": "code",
   "execution_count": 28,
   "id": "d5e6a349",
   "metadata": {},
   "outputs": [
    {
     "data": {
      "text/plain": [
       "Text(0.5, 1.0, 'Scaled')"
      ]
     },
     "execution_count": 28,
     "metadata": {},
     "output_type": "execute_result"
    },
    {
     "data": {
      "image/png": "[encoded data removed]",
      "text/plain": [
       "<Figure size 936x432 with 2 Axes>"
      ]
     },
     "metadata": {
      "needs_background": "light"
     },
     "output_type": "display_data"
    }
   ],
   "source": [
    "plt.figure(figsize=(13, 6))\n",
    "plt.subplot(121)\n",
    "plt.hist(df_robust['taxamount'], bins=200)\n",
    "plt.title('Original')\n",
    "plt.subplot(122)\n",
    "plt.hist(df_robust['taxamount_scaled'], bins=200)\n",
    "plt.title('Scaled')"
   ]
  },
  {
   "cell_type": "code",
   "execution_count": 29,
   "id": "a794c4f4",
   "metadata": {
    "scrolled": false
   },
   "outputs": [
    {
     "name": "stderr",
     "output_type": "stream",
     "text": [
      "/var/folders/lw/_43z7rb5635_x1dwsyzrnc_m0000gn/T/ipykernel_55829/2777467898.py:7: SettingWithCopyWarning: \n",
      "A value is trying to be set on a copy of a slice from a DataFrame.\n",
      "Try using .loc[row_indexer,col_indexer] = value instead\n",
      "\n",
      "See the caveats in the documentation: https://pandas.pydata.org/pandas-docs/stable/user_guide/indexing.html#returning-a-view-versus-a-copy\n",
      "  df_robust_cols[f\"{column}_scaled\"] = scaled_robust\n",
      "/var/folders/lw/_43z7rb5635_x1dwsyzrnc_m0000gn/T/ipykernel_55829/2777467898.py:7: SettingWithCopyWarning: \n",
      "A value is trying to be set on a copy of a slice from a DataFrame.\n",
      "Try using .loc[row_indexer,col_indexer] = value instead\n",
      "\n",
      "See the caveats in the documentation: https://pandas.pydata.org/pandas-docs/stable/user_guide/indexing.html#returning-a-view-versus-a-copy\n",
      "  df_robust_cols[f\"{column}_scaled\"] = scaled_robust\n",
      "/var/folders/lw/_43z7rb5635_x1dwsyzrnc_m0000gn/T/ipykernel_55829/2777467898.py:7: SettingWithCopyWarning: \n",
      "A value is trying to be set on a copy of a slice from a DataFrame.\n",
      "Try using .loc[row_indexer,col_indexer] = value instead\n",
      "\n",
      "See the caveats in the documentation: https://pandas.pydata.org/pandas-docs/stable/user_guide/indexing.html#returning-a-view-versus-a-copy\n",
      "  df_robust_cols[f\"{column}_scaled\"] = scaled_robust\n"
     ]
    },
    {
     "data": {
      "text/html": [
       "<div>\n",
       "<style scoped>\n",
       "    .dataframe tbody tr th:only-of-type {\n",
       "        vertical-align: middle;\n",
       "    }\n",
       "\n",
       "    .dataframe tbody tr th {\n",
       "        vertical-align: top;\n",
       "    }\n",
       "\n",
       "    .dataframe thead th {\n",
       "        text-align: right;\n",
       "    }\n",
       "</style>\n",
       "<table border=\"1\" class=\"dataframe\">\n",
       "  <thead>\n",
       "    <tr style=\"text-align: right;\">\n",
       "      <th></th>\n",
       "      <th>calculatedfinishedsquarefeet</th>\n",
       "      <th>taxvaluedollarcnt</th>\n",
       "      <th>taxamount</th>\n",
       "      <th>calculatedfinishedsquarefeet_scaled</th>\n",
       "      <th>taxvaluedollarcnt_scaled</th>\n",
       "      <th>taxamount_scaled</th>\n",
       "    </tr>\n",
       "  </thead>\n",
       "  <tbody>\n",
       "    <tr>\n",
       "      <th>1571052</th>\n",
       "      <td>5264.0</td>\n",
       "      <td>971668.0</td>\n",
       "      <td>10125.24</td>\n",
       "      <td>4.018681</td>\n",
       "      <td>1.957395</td>\n",
       "      <td>1.639293</td>\n",
       "    </tr>\n",
       "    <tr>\n",
       "      <th>1938950</th>\n",
       "      <td>1275.0</td>\n",
       "      <td>254438.0</td>\n",
       "      <td>3174.39</td>\n",
       "      <td>-0.364835</td>\n",
       "      <td>-0.205223</td>\n",
       "      <td>-0.234255</td>\n",
       "    </tr>\n",
       "    <tr>\n",
       "      <th>1171526</th>\n",
       "      <td>1692.0</td>\n",
       "      <td>386787.0</td>\n",
       "      <td>4585.82</td>\n",
       "      <td>0.093407</td>\n",
       "      <td>0.193840</td>\n",
       "      <td>0.146185</td>\n",
       "    </tr>\n",
       "    <tr>\n",
       "      <th>1386826</th>\n",
       "      <td>2393.0</td>\n",
       "      <td>608919.0</td>\n",
       "      <td>7055.68</td>\n",
       "      <td>0.863736</td>\n",
       "      <td>0.863621</td>\n",
       "      <td>0.811917</td>\n",
       "    </tr>\n",
       "    <tr>\n",
       "      <th>95133</th>\n",
       "      <td>1439.0</td>\n",
       "      <td>472162.0</td>\n",
       "      <td>5634.60</td>\n",
       "      <td>-0.184615</td>\n",
       "      <td>0.451266</td>\n",
       "      <td>0.428876</td>\n",
       "    </tr>\n",
       "    <tr>\n",
       "      <th>...</th>\n",
       "      <td>...</td>\n",
       "      <td>...</td>\n",
       "      <td>...</td>\n",
       "      <td>...</td>\n",
       "      <td>...</td>\n",
       "      <td>...</td>\n",
       "    </tr>\n",
       "    <tr>\n",
       "      <th>460612</th>\n",
       "      <td>1865.0</td>\n",
       "      <td>266626.0</td>\n",
       "      <td>3097.98</td>\n",
       "      <td>0.283516</td>\n",
       "      <td>-0.168473</td>\n",
       "      <td>-0.254851</td>\n",
       "    </tr>\n",
       "    <tr>\n",
       "      <th>665697</th>\n",
       "      <td>2496.0</td>\n",
       "      <td>385911.0</td>\n",
       "      <td>4450.92</td>\n",
       "      <td>0.976923</td>\n",
       "      <td>0.191199</td>\n",
       "      <td>0.109824</td>\n",
       "    </tr>\n",
       "    <tr>\n",
       "      <th>1635382</th>\n",
       "      <td>1586.0</td>\n",
       "      <td>363322.0</td>\n",
       "      <td>4461.74</td>\n",
       "      <td>-0.023077</td>\n",
       "      <td>0.123088</td>\n",
       "      <td>0.112740</td>\n",
       "    </tr>\n",
       "    <tr>\n",
       "      <th>1977329</th>\n",
       "      <td>2324.0</td>\n",
       "      <td>440329.0</td>\n",
       "      <td>5667.42</td>\n",
       "      <td>0.787912</td>\n",
       "      <td>0.355282</td>\n",
       "      <td>0.437722</td>\n",
       "    </tr>\n",
       "    <tr>\n",
       "      <th>1091799</th>\n",
       "      <td>1194.0</td>\n",
       "      <td>80283.0</td>\n",
       "      <td>893.77</td>\n",
       "      <td>-0.453846</td>\n",
       "      <td>-0.730341</td>\n",
       "      <td>-0.848979</td>\n",
       "    </tr>\n",
       "  </tbody>\n",
       "</table>\n",
       "<p>1173304 rows × 6 columns</p>\n",
       "</div>"
      ],
      "text/plain": [
       "         calculatedfinishedsquarefeet  taxvaluedollarcnt  taxamount  \\\n",
       "1571052                        5264.0           971668.0   10125.24   \n",
       "1938950                        1275.0           254438.0    3174.39   \n",
       "1171526                        1692.0           386787.0    4585.82   \n",
       "1386826                        2393.0           608919.0    7055.68   \n",
       "95133                          1439.0           472162.0    5634.60   \n",
       "...                               ...                ...        ...   \n",
       "460612                         1865.0           266626.0    3097.98   \n",
       "665697                         2496.0           385911.0    4450.92   \n",
       "1635382                        1586.0           363322.0    4461.74   \n",
       "1977329                        2324.0           440329.0    5667.42   \n",
       "1091799                        1194.0            80283.0     893.77   \n",
       "\n",
       "         calculatedfinishedsquarefeet_scaled  taxvaluedollarcnt_scaled  \\\n",
       "1571052                             4.018681                  1.957395   \n",
       "1938950                            -0.364835                 -0.205223   \n",
       "1171526                             0.093407                  0.193840   \n",
       "1386826                             0.863736                  0.863621   \n",
       "95133                              -0.184615                  0.451266   \n",
       "...                                      ...                       ...   \n",
       "460612                              0.283516                 -0.168473   \n",
       "665697                              0.976923                  0.191199   \n",
       "1635382                            -0.023077                  0.123088   \n",
       "1977329                             0.787912                  0.355282   \n",
       "1091799                            -0.453846                 -0.730341   \n",
       "\n",
       "         taxamount_scaled  \n",
       "1571052          1.639293  \n",
       "1938950         -0.234255  \n",
       "1171526          0.146185  \n",
       "1386826          0.811917  \n",
       "95133            0.428876  \n",
       "...                   ...  \n",
       "460612          -0.254851  \n",
       "665697           0.109824  \n",
       "1635382          0.112740  \n",
       "1977329          0.437722  \n",
       "1091799         -0.848979  \n",
       "\n",
       "[1173304 rows x 6 columns]"
      ]
     },
     "execution_count": 29,
     "metadata": {},
     "output_type": "execute_result"
    }
   ],
   "source": [
    "df_robust_cols = df[['calculatedfinishedsquarefeet', 'taxvaluedollarcnt', 'taxamount']]\n",
    "robust_scalers = []\n",
    "for column in cols_to_scale:\n",
    "    robust_scaler = RobustScaler()\n",
    "    robust_scaler.fit(df[[column]])\n",
    "    scaled_robust = robust_scaler.transform(df_robust_cols[[column]])\n",
    "    df_robust_cols[f\"{column}_scaled\"] = scaled_robust\n",
    "    scaler = {\n",
    "        'column':column,\n",
    "        'scaler':robust_scaler\n",
    "    }\n",
    "    robust_scalers.append(scaler)\n",
    "df_robust_cols"
   ]
  },
  {
   "cell_type": "code",
   "execution_count": 30,
   "id": "a3db7b95",
   "metadata": {},
   "outputs": [
    {
     "data": {
      "image/png": "[encoded data removed]",
      "text/plain": [
       "<Figure size 936x936 with 2 Axes>"
      ]
     },
     "metadata": {
      "needs_background": "light"
     },
     "output_type": "display_data"
    },
    {
     "data": {
      "image/png": "[encoded data removed]",
      "text/plain": [
       "<Figure size 936x936 with 2 Axes>"
      ]
     },
     "metadata": {
      "needs_background": "light"
     },
     "output_type": "display_data"
    },
    {
     "data": {
      "image/png": "[encoded data removed]",
      "text/plain": [
       "<Figure size 936x936 with 2 Axes>"
      ]
     },
     "metadata": {
      "needs_background": "light"
     },
     "output_type": "display_data"
    }
   ],
   "source": [
    "i = 321\n",
    "for column in cols_to_scale: \n",
    "    plt.figure(figsize=(13, 13))\n",
    "    plt.subplot(i)\n",
    "    i+=1\n",
    "    plt.hist(df_robust_cols[column], bins=100)\n",
    "    plt.title(f'Original {column}')\n",
    "    plt.subplot(i)\n",
    "    i+=1\n",
    "    plt.hist(df_robust_cols[f\"{column}_scaled\"], bins=100)\n",
    "    plt.title(f'Scaled {column}')"
   ]
  },
  {
   "cell_type": "markdown",
   "id": "0c30e04e",
   "metadata": {},
   "source": [
    "## Use `inverse_transform`\n",
    "\n",
    "2. Apply the .inverse_transform method to your scaled data. Is the resulting dataset the exact same as the original data?\n",
    "\n",
    "#### MinMax scaler"
   ]
  },
  {
   "cell_type": "code",
   "execution_count": 31,
   "id": "019d96e2",
   "metadata": {},
   "outputs": [
    {
     "name": "stderr",
     "output_type": "stream",
     "text": [
      "/var/folders/lw/_43z7rb5635_x1dwsyzrnc_m0000gn/T/ipykernel_55829/1767203913.py:1: SettingWithCopyWarning: \n",
      "A value is trying to be set on a copy of a slice from a DataFrame.\n",
      "Try using .loc[row_indexer,col_indexer] = value instead\n",
      "\n",
      "See the caveats in the documentation: https://pandas.pydata.org/pandas-docs/stable/user_guide/indexing.html#returning-a-view-versus-a-copy\n",
      "  df_minmax['taxamount_unscaled'] = minmax_scaler.inverse_transform(df_minmax[['taxamount_scaled']])\n"
     ]
    },
    {
     "data": {
      "text/html": [
       "<div>\n",
       "<style scoped>\n",
       "    .dataframe tbody tr th:only-of-type {\n",
       "        vertical-align: middle;\n",
       "    }\n",
       "\n",
       "    .dataframe tbody tr th {\n",
       "        vertical-align: top;\n",
       "    }\n",
       "\n",
       "    .dataframe thead th {\n",
       "        text-align: right;\n",
       "    }\n",
       "</style>\n",
       "<table border=\"1\" class=\"dataframe\">\n",
       "  <thead>\n",
       "    <tr style=\"text-align: right;\">\n",
       "      <th></th>\n",
       "      <th>taxamount</th>\n",
       "      <th>taxamount_scaled</th>\n",
       "      <th>taxamount_unscaled</th>\n",
       "    </tr>\n",
       "  </thead>\n",
       "  <tbody>\n",
       "    <tr>\n",
       "      <th>1571052</th>\n",
       "      <td>10125.24</td>\n",
       "      <td>0.100750</td>\n",
       "      <td>10125.24</td>\n",
       "    </tr>\n",
       "    <tr>\n",
       "      <th>1938950</th>\n",
       "      <td>3174.39</td>\n",
       "      <td>0.031495</td>\n",
       "      <td>3174.39</td>\n",
       "    </tr>\n",
       "    <tr>\n",
       "      <th>1171526</th>\n",
       "      <td>4585.82</td>\n",
       "      <td>0.045558</td>\n",
       "      <td>4585.82</td>\n",
       "    </tr>\n",
       "    <tr>\n",
       "      <th>1386826</th>\n",
       "      <td>7055.68</td>\n",
       "      <td>0.070166</td>\n",
       "      <td>7055.68</td>\n",
       "    </tr>\n",
       "    <tr>\n",
       "      <th>95133</th>\n",
       "      <td>5634.60</td>\n",
       "      <td>0.056007</td>\n",
       "      <td>5634.60</td>\n",
       "    </tr>\n",
       "    <tr>\n",
       "      <th>...</th>\n",
       "      <td>...</td>\n",
       "      <td>...</td>\n",
       "      <td>...</td>\n",
       "    </tr>\n",
       "    <tr>\n",
       "      <th>460612</th>\n",
       "      <td>3097.98</td>\n",
       "      <td>0.030734</td>\n",
       "      <td>3097.98</td>\n",
       "    </tr>\n",
       "    <tr>\n",
       "      <th>665697</th>\n",
       "      <td>4450.92</td>\n",
       "      <td>0.044214</td>\n",
       "      <td>4450.92</td>\n",
       "    </tr>\n",
       "    <tr>\n",
       "      <th>1635382</th>\n",
       "      <td>4461.74</td>\n",
       "      <td>0.044322</td>\n",
       "      <td>4461.74</td>\n",
       "    </tr>\n",
       "    <tr>\n",
       "      <th>1977329</th>\n",
       "      <td>5667.42</td>\n",
       "      <td>0.056334</td>\n",
       "      <td>5667.42</td>\n",
       "    </tr>\n",
       "    <tr>\n",
       "      <th>1091799</th>\n",
       "      <td>893.77</td>\n",
       "      <td>0.008772</td>\n",
       "      <td>893.77</td>\n",
       "    </tr>\n",
       "  </tbody>\n",
       "</table>\n",
       "<p>1173304 rows × 3 columns</p>\n",
       "</div>"
      ],
      "text/plain": [
       "         taxamount  taxamount_scaled  taxamount_unscaled\n",
       "1571052   10125.24          0.100750            10125.24\n",
       "1938950    3174.39          0.031495             3174.39\n",
       "1171526    4585.82          0.045558             4585.82\n",
       "1386826    7055.68          0.070166             7055.68\n",
       "95133      5634.60          0.056007             5634.60\n",
       "...            ...               ...                 ...\n",
       "460612     3097.98          0.030734             3097.98\n",
       "665697     4450.92          0.044214             4450.92\n",
       "1635382    4461.74          0.044322             4461.74\n",
       "1977329    5667.42          0.056334             5667.42\n",
       "1091799     893.77          0.008772              893.77\n",
       "\n",
       "[1173304 rows x 3 columns]"
      ]
     },
     "execution_count": 31,
     "metadata": {},
     "output_type": "execute_result"
    }
   ],
   "source": [
    "df_minmax['taxamount_unscaled'] = minmax_scaler.inverse_transform(df_minmax[['taxamount_scaled']])\n",
    "df_minmax"
   ]
  },
  {
   "cell_type": "code",
   "execution_count": 32,
   "id": "1967bfd6",
   "metadata": {},
   "outputs": [
    {
     "data": {
      "text/plain": [
       "0.8516403250990365"
      ]
     },
     "execution_count": 32,
     "metadata": {},
     "output_type": "execute_result"
    }
   ],
   "source": [
    "# percent that when unscaled are the same\n",
    "df_minmax[df_minmax.taxamount == df_minmax.taxamount_unscaled].shape[0]/df_minmax.shape[0]"
   ]
  },
  {
   "cell_type": "code",
   "execution_count": 33,
   "id": "b9d03e3e",
   "metadata": {},
   "outputs": [
    {
     "name": "stderr",
     "output_type": "stream",
     "text": [
      "/var/folders/lw/_43z7rb5635_x1dwsyzrnc_m0000gn/T/ipykernel_55829/3233437830.py:2: SettingWithCopyWarning: \n",
      "A value is trying to be set on a copy of a slice from a DataFrame.\n",
      "Try using .loc[row_indexer,col_indexer] = value instead\n",
      "\n",
      "See the caveats in the documentation: https://pandas.pydata.org/pandas-docs/stable/user_guide/indexing.html#returning-a-view-versus-a-copy\n",
      "  df_minmax['change_when_inverse'] = (abs(df_minmax.taxamount - df_minmax.taxamount_unscaled))\n"
     ]
    },
    {
     "data": {
      "text/plain": [
       "count    1.173304e+06\n",
       "mean     1.393316e-13\n",
       "std      5.118290e-13\n",
       "min      0.000000e+00\n",
       "25%      0.000000e+00\n",
       "50%      0.000000e+00\n",
       "75%      0.000000e+00\n",
       "max      1.455192e-11\n",
       "Name: change_when_inverse, dtype: float64"
      ]
     },
     "execution_count": 33,
     "metadata": {},
     "output_type": "execute_result"
    }
   ],
   "source": [
    "#how off are they?\n",
    "df_minmax['change_when_inverse'] = (abs(df_minmax.taxamount - df_minmax.taxamount_unscaled))\n",
    "df_minmax['change_when_inverse'].describe()"
   ]
  },
  {
   "cell_type": "markdown",
   "id": "e4d6e736",
   "metadata": {},
   "source": [
    "85% of the data returns to the same value, and most of it is off by very little.  But these might be a programming artifact:"
   ]
  },
  {
   "cell_type": "code",
   "execution_count": 34,
   "id": "cc0a5b3e",
   "metadata": {
    "scrolled": false
   },
   "outputs": [
    {
     "data": {
      "text/html": [
       "<div>\n",
       "<style scoped>\n",
       "    .dataframe tbody tr th:only-of-type {\n",
       "        vertical-align: middle;\n",
       "    }\n",
       "\n",
       "    .dataframe tbody tr th {\n",
       "        vertical-align: top;\n",
       "    }\n",
       "\n",
       "    .dataframe thead th {\n",
       "        text-align: right;\n",
       "    }\n",
       "</style>\n",
       "<table border=\"1\" class=\"dataframe\">\n",
       "  <thead>\n",
       "    <tr style=\"text-align: right;\">\n",
       "      <th></th>\n",
       "      <th>taxamount</th>\n",
       "      <th>taxamount_scaled</th>\n",
       "      <th>taxamount_unscaled</th>\n",
       "      <th>change_when_inverse</th>\n",
       "    </tr>\n",
       "  </thead>\n",
       "  <tbody>\n",
       "    <tr>\n",
       "      <th>1386826</th>\n",
       "      <td>7055.68</td>\n",
       "      <td>0.070166</td>\n",
       "      <td>7055.68</td>\n",
       "      <td>9.094947e-13</td>\n",
       "    </tr>\n",
       "    <tr>\n",
       "      <th>1570205</th>\n",
       "      <td>7069.26</td>\n",
       "      <td>0.070302</td>\n",
       "      <td>7069.26</td>\n",
       "      <td>9.094947e-13</td>\n",
       "    </tr>\n",
       "    <tr>\n",
       "      <th>1862690</th>\n",
       "      <td>3398.84</td>\n",
       "      <td>0.033731</td>\n",
       "      <td>3398.84</td>\n",
       "      <td>4.547474e-13</td>\n",
       "    </tr>\n",
       "    <tr>\n",
       "      <th>1517840</th>\n",
       "      <td>14415.46</td>\n",
       "      <td>0.143496</td>\n",
       "      <td>14415.46</td>\n",
       "      <td>1.818989e-12</td>\n",
       "    </tr>\n",
       "    <tr>\n",
       "      <th>205629</th>\n",
       "      <td>1646.05</td>\n",
       "      <td>0.016267</td>\n",
       "      <td>1646.05</td>\n",
       "      <td>2.273737e-13</td>\n",
       "    </tr>\n",
       "    <tr>\n",
       "      <th>...</th>\n",
       "      <td>...</td>\n",
       "      <td>...</td>\n",
       "      <td>...</td>\n",
       "      <td>...</td>\n",
       "    </tr>\n",
       "    <tr>\n",
       "      <th>1055532</th>\n",
       "      <td>3487.44</td>\n",
       "      <td>0.034614</td>\n",
       "      <td>3487.44</td>\n",
       "      <td>4.547474e-13</td>\n",
       "    </tr>\n",
       "    <tr>\n",
       "      <th>2121138</th>\n",
       "      <td>3662.86</td>\n",
       "      <td>0.036362</td>\n",
       "      <td>3662.86</td>\n",
       "      <td>4.547474e-13</td>\n",
       "    </tr>\n",
       "    <tr>\n",
       "      <th>154585</th>\n",
       "      <td>802.49</td>\n",
       "      <td>0.007863</td>\n",
       "      <td>802.49</td>\n",
       "      <td>1.136868e-13</td>\n",
       "    </tr>\n",
       "    <tr>\n",
       "      <th>481036</th>\n",
       "      <td>3416.29</td>\n",
       "      <td>0.033905</td>\n",
       "      <td>3416.29</td>\n",
       "      <td>4.547474e-13</td>\n",
       "    </tr>\n",
       "    <tr>\n",
       "      <th>1967155</th>\n",
       "      <td>6495.98</td>\n",
       "      <td>0.064590</td>\n",
       "      <td>6495.98</td>\n",
       "      <td>9.094947e-13</td>\n",
       "    </tr>\n",
       "  </tbody>\n",
       "</table>\n",
       "<p>174071 rows × 4 columns</p>\n",
       "</div>"
      ],
      "text/plain": [
       "         taxamount  taxamount_scaled  taxamount_unscaled  change_when_inverse\n",
       "1386826    7055.68          0.070166             7055.68         9.094947e-13\n",
       "1570205    7069.26          0.070302             7069.26         9.094947e-13\n",
       "1862690    3398.84          0.033731             3398.84         4.547474e-13\n",
       "1517840   14415.46          0.143496            14415.46         1.818989e-12\n",
       "205629     1646.05          0.016267             1646.05         2.273737e-13\n",
       "...            ...               ...                 ...                  ...\n",
       "1055532    3487.44          0.034614             3487.44         4.547474e-13\n",
       "2121138    3662.86          0.036362             3662.86         4.547474e-13\n",
       "154585      802.49          0.007863              802.49         1.136868e-13\n",
       "481036     3416.29          0.033905             3416.29         4.547474e-13\n",
       "1967155    6495.98          0.064590             6495.98         9.094947e-13\n",
       "\n",
       "[174071 rows x 4 columns]"
      ]
     },
     "execution_count": 34,
     "metadata": {},
     "output_type": "execute_result"
    }
   ],
   "source": [
    "df_minmax[df_minmax['change_when_inverse']!=0]"
   ]
  },
  {
   "cell_type": "markdown",
   "id": "475bf4d7",
   "metadata": {},
   "source": [
    "Do the same caluculation for the other columns"
   ]
  },
  {
   "cell_type": "code",
   "execution_count": 35,
   "id": "4cbaf003",
   "metadata": {
    "scrolled": false
   },
   "outputs": [
    {
     "name": "stderr",
     "output_type": "stream",
     "text": [
      "/var/folders/lw/_43z7rb5635_x1dwsyzrnc_m0000gn/T/ipykernel_55829/652780939.py:5: SettingWithCopyWarning: \n",
      "A value is trying to be set on a copy of a slice from a DataFrame.\n",
      "Try using .loc[row_indexer,col_indexer] = value instead\n",
      "\n",
      "See the caveats in the documentation: https://pandas.pydata.org/pandas-docs/stable/user_guide/indexing.html#returning-a-view-versus-a-copy\n",
      "  df_minmax_cols[f'{column}_unscaled'] = scaler.inverse_transform(df_minmax_cols[[f'{column}_scaled']])\n",
      "/var/folders/lw/_43z7rb5635_x1dwsyzrnc_m0000gn/T/ipykernel_55829/652780939.py:6: SettingWithCopyWarning: \n",
      "A value is trying to be set on a copy of a slice from a DataFrame.\n",
      "Try using .loc[row_indexer,col_indexer] = value instead\n",
      "\n",
      "See the caveats in the documentation: https://pandas.pydata.org/pandas-docs/stable/user_guide/indexing.html#returning-a-view-versus-a-copy\n",
      "  df_minmax_cols[f'{column}_change'] = abs(df_minmax_cols[column] - df_minmax_cols[f\"{column}_unscaled\"])\n",
      "/var/folders/lw/_43z7rb5635_x1dwsyzrnc_m0000gn/T/ipykernel_55829/652780939.py:5: SettingWithCopyWarning: \n",
      "A value is trying to be set on a copy of a slice from a DataFrame.\n",
      "Try using .loc[row_indexer,col_indexer] = value instead\n",
      "\n",
      "See the caveats in the documentation: https://pandas.pydata.org/pandas-docs/stable/user_guide/indexing.html#returning-a-view-versus-a-copy\n",
      "  df_minmax_cols[f'{column}_unscaled'] = scaler.inverse_transform(df_minmax_cols[[f'{column}_scaled']])\n"
     ]
    },
    {
     "data": {
      "text/html": [
       "<div>\n",
       "<style scoped>\n",
       "    .dataframe tbody tr th:only-of-type {\n",
       "        vertical-align: middle;\n",
       "    }\n",
       "\n",
       "    .dataframe tbody tr th {\n",
       "        vertical-align: top;\n",
       "    }\n",
       "\n",
       "    .dataframe thead th {\n",
       "        text-align: right;\n",
       "    }\n",
       "</style>\n",
       "<table border=\"1\" class=\"dataframe\">\n",
       "  <thead>\n",
       "    <tr style=\"text-align: right;\">\n",
       "      <th></th>\n",
       "      <th>calculatedfinishedsquarefeet_change</th>\n",
       "      <th>taxvaluedollarcnt_change</th>\n",
       "      <th>taxamount_change</th>\n",
       "    </tr>\n",
       "  </thead>\n",
       "  <tbody>\n",
       "    <tr>\n",
       "      <th>count</th>\n",
       "      <td>1.173304e+06</td>\n",
       "      <td>1.173304e+06</td>\n",
       "      <td>1.173304e+06</td>\n",
       "    </tr>\n",
       "    <tr>\n",
       "      <th>mean</th>\n",
       "      <td>1.194571e-14</td>\n",
       "      <td>1.365670e-12</td>\n",
       "      <td>1.393316e-13</td>\n",
       "    </tr>\n",
       "    <tr>\n",
       "      <th>std</th>\n",
       "      <td>5.399655e-14</td>\n",
       "      <td>9.217071e-12</td>\n",
       "      <td>5.118290e-13</td>\n",
       "    </tr>\n",
       "    <tr>\n",
       "      <th>min</th>\n",
       "      <td>0.000000e+00</td>\n",
       "      <td>0.000000e+00</td>\n",
       "      <td>0.000000e+00</td>\n",
       "    </tr>\n",
       "    <tr>\n",
       "      <th>25%</th>\n",
       "      <td>0.000000e+00</td>\n",
       "      <td>0.000000e+00</td>\n",
       "      <td>0.000000e+00</td>\n",
       "    </tr>\n",
       "    <tr>\n",
       "      <th>50%</th>\n",
       "      <td>0.000000e+00</td>\n",
       "      <td>0.000000e+00</td>\n",
       "      <td>0.000000e+00</td>\n",
       "    </tr>\n",
       "    <tr>\n",
       "      <th>75%</th>\n",
       "      <td>0.000000e+00</td>\n",
       "      <td>0.000000e+00</td>\n",
       "      <td>0.000000e+00</td>\n",
       "    </tr>\n",
       "    <tr>\n",
       "      <th>max</th>\n",
       "      <td>1.818989e-12</td>\n",
       "      <td>2.328306e-10</td>\n",
       "      <td>1.455192e-11</td>\n",
       "    </tr>\n",
       "  </tbody>\n",
       "</table>\n",
       "</div>"
      ],
      "text/plain": [
       "       calculatedfinishedsquarefeet_change  taxvaluedollarcnt_change  \\\n",
       "count                         1.173304e+06              1.173304e+06   \n",
       "mean                          1.194571e-14              1.365670e-12   \n",
       "std                           5.399655e-14              9.217071e-12   \n",
       "min                           0.000000e+00              0.000000e+00   \n",
       "25%                           0.000000e+00              0.000000e+00   \n",
       "50%                           0.000000e+00              0.000000e+00   \n",
       "75%                           0.000000e+00              0.000000e+00   \n",
       "max                           1.818989e-12              2.328306e-10   \n",
       "\n",
       "       taxamount_change  \n",
       "count      1.173304e+06  \n",
       "mean       1.393316e-13  \n",
       "std        5.118290e-13  \n",
       "min        0.000000e+00  \n",
       "25%        0.000000e+00  \n",
       "50%        0.000000e+00  \n",
       "75%        0.000000e+00  \n",
       "max        1.455192e-11  "
      ]
     },
     "execution_count": 35,
     "metadata": {},
     "output_type": "execute_result"
    }
   ],
   "source": [
    "df_minmax_cols\n",
    "for scaler_obj in minmax_scalers:\n",
    "    scaler = scaler_obj['scaler']\n",
    "    column = scaler_obj['column']\n",
    "    df_minmax_cols[f'{column}_unscaled'] = scaler.inverse_transform(df_minmax_cols[[f'{column}_scaled']])\n",
    "    df_minmax_cols[f'{column}_change'] = abs(df_minmax_cols[column] - df_minmax_cols[f\"{column}_unscaled\"])\n",
    "df_minmax_cols[[f'{cols_to_scale[0]}_change',f'{cols_to_scale[1]}_change', f'{cols_to_scale[2]}_change']].describe()"
   ]
  },
  {
   "cell_type": "markdown",
   "id": "42d5ddf0",
   "metadata": {},
   "source": [
    "Now look at how much of the data is preserved without the rounding errors for each column"
   ]
  },
  {
   "cell_type": "code",
   "execution_count": 36,
   "id": "69344642",
   "metadata": {},
   "outputs": [
    {
     "data": {
      "text/html": [
       "<div>\n",
       "<style scoped>\n",
       "    .dataframe tbody tr th:only-of-type {\n",
       "        vertical-align: middle;\n",
       "    }\n",
       "\n",
       "    .dataframe tbody tr th {\n",
       "        vertical-align: top;\n",
       "    }\n",
       "\n",
       "    .dataframe thead th {\n",
       "        text-align: right;\n",
       "    }\n",
       "</style>\n",
       "<table border=\"1\" class=\"dataframe\">\n",
       "  <thead>\n",
       "    <tr style=\"text-align: right;\">\n",
       "      <th></th>\n",
       "      <th>column</th>\n",
       "      <th>proportion_saved</th>\n",
       "    </tr>\n",
       "  </thead>\n",
       "  <tbody>\n",
       "    <tr>\n",
       "      <th>0</th>\n",
       "      <td>calculatedfinishedsquarefeet</td>\n",
       "      <td>0.943936</td>\n",
       "    </tr>\n",
       "    <tr>\n",
       "      <th>1</th>\n",
       "      <td>taxvaluedollarcnt</td>\n",
       "      <td>0.967911</td>\n",
       "    </tr>\n",
       "    <tr>\n",
       "      <th>2</th>\n",
       "      <td>taxamount</td>\n",
       "      <td>0.851640</td>\n",
       "    </tr>\n",
       "  </tbody>\n",
       "</table>\n",
       "</div>"
      ],
      "text/plain": [
       "                         column  proportion_saved\n",
       "0  calculatedfinishedsquarefeet          0.943936\n",
       "1             taxvaluedollarcnt          0.967911\n",
       "2                     taxamount          0.851640"
      ]
     },
     "execution_count": 36,
     "metadata": {},
     "output_type": "execute_result"
    }
   ],
   "source": [
    "outputs = []\n",
    "for column in cols_to_scale:\n",
    "    prop = df_minmax_cols[df_minmax_cols[f\"{column}_change\"]==0].shape[0]/df_minmax_cols[column].shape[0]\n",
    "    output = {\n",
    "        'column':column,\n",
    "        'proportion_saved':prop\n",
    "    }\n",
    "    outputs.append(output)\n",
    "pd.DataFrame(outputs)"
   ]
  },
  {
   "cell_type": "markdown",
   "id": "c84677b2",
   "metadata": {},
   "source": [
    "#### Standard scaler"
   ]
  },
  {
   "cell_type": "code",
   "execution_count": 37,
   "id": "babbff04",
   "metadata": {},
   "outputs": [
    {
     "name": "stderr",
     "output_type": "stream",
     "text": [
      "/var/folders/lw/_43z7rb5635_x1dwsyzrnc_m0000gn/T/ipykernel_55829/1565495096.py:1: SettingWithCopyWarning: \n",
      "A value is trying to be set on a copy of a slice from a DataFrame.\n",
      "Try using .loc[row_indexer,col_indexer] = value instead\n",
      "\n",
      "See the caveats in the documentation: https://pandas.pydata.org/pandas-docs/stable/user_guide/indexing.html#returning-a-view-versus-a-copy\n",
      "  df_stand['taxamount_unscaled'] = stand_scaler.inverse_transform(df_stand[['taxamount_scaled']])\n"
     ]
    },
    {
     "data": {
      "text/html": [
       "<div>\n",
       "<style scoped>\n",
       "    .dataframe tbody tr th:only-of-type {\n",
       "        vertical-align: middle;\n",
       "    }\n",
       "\n",
       "    .dataframe tbody tr th {\n",
       "        vertical-align: top;\n",
       "    }\n",
       "\n",
       "    .dataframe thead th {\n",
       "        text-align: right;\n",
       "    }\n",
       "</style>\n",
       "<table border=\"1\" class=\"dataframe\">\n",
       "  <thead>\n",
       "    <tr style=\"text-align: right;\">\n",
       "      <th></th>\n",
       "      <th>taxamount</th>\n",
       "      <th>taxamount_scaled</th>\n",
       "      <th>taxamount_unscaled</th>\n",
       "    </tr>\n",
       "  </thead>\n",
       "  <tbody>\n",
       "    <tr>\n",
       "      <th>1571052</th>\n",
       "      <td>10125.24</td>\n",
       "      <td>1.425607</td>\n",
       "      <td>10125.24</td>\n",
       "    </tr>\n",
       "    <tr>\n",
       "      <th>1938950</th>\n",
       "      <td>3174.39</td>\n",
       "      <td>-0.477271</td>\n",
       "      <td>3174.39</td>\n",
       "    </tr>\n",
       "    <tr>\n",
       "      <th>1171526</th>\n",
       "      <td>4585.82</td>\n",
       "      <td>-0.090875</td>\n",
       "      <td>4585.82</td>\n",
       "    </tr>\n",
       "    <tr>\n",
       "      <th>1386826</th>\n",
       "      <td>7055.68</td>\n",
       "      <td>0.585278</td>\n",
       "      <td>7055.68</td>\n",
       "    </tr>\n",
       "    <tr>\n",
       "      <th>95133</th>\n",
       "      <td>5634.60</td>\n",
       "      <td>0.196241</td>\n",
       "      <td>5634.60</td>\n",
       "    </tr>\n",
       "    <tr>\n",
       "      <th>...</th>\n",
       "      <td>...</td>\n",
       "      <td>...</td>\n",
       "      <td>...</td>\n",
       "    </tr>\n",
       "    <tr>\n",
       "      <th>460612</th>\n",
       "      <td>3097.98</td>\n",
       "      <td>-0.498189</td>\n",
       "      <td>3097.98</td>\n",
       "    </tr>\n",
       "    <tr>\n",
       "      <th>665697</th>\n",
       "      <td>4450.92</td>\n",
       "      <td>-0.127806</td>\n",
       "      <td>4450.92</td>\n",
       "    </tr>\n",
       "    <tr>\n",
       "      <th>1635382</th>\n",
       "      <td>4461.74</td>\n",
       "      <td>-0.124844</td>\n",
       "      <td>4461.74</td>\n",
       "    </tr>\n",
       "    <tr>\n",
       "      <th>1977329</th>\n",
       "      <td>5667.42</td>\n",
       "      <td>0.205226</td>\n",
       "      <td>5667.42</td>\n",
       "    </tr>\n",
       "    <tr>\n",
       "      <th>1091799</th>\n",
       "      <td>893.77</td>\n",
       "      <td>-1.101618</td>\n",
       "      <td>893.77</td>\n",
       "    </tr>\n",
       "  </tbody>\n",
       "</table>\n",
       "<p>1173304 rows × 3 columns</p>\n",
       "</div>"
      ],
      "text/plain": [
       "         taxamount  taxamount_scaled  taxamount_unscaled\n",
       "1571052   10125.24          1.425607            10125.24\n",
       "1938950    3174.39         -0.477271             3174.39\n",
       "1171526    4585.82         -0.090875             4585.82\n",
       "1386826    7055.68          0.585278             7055.68\n",
       "95133      5634.60          0.196241             5634.60\n",
       "...            ...               ...                 ...\n",
       "460612     3097.98         -0.498189             3097.98\n",
       "665697     4450.92         -0.127806             4450.92\n",
       "1635382    4461.74         -0.124844             4461.74\n",
       "1977329    5667.42          0.205226             5667.42\n",
       "1091799     893.77         -1.101618              893.77\n",
       "\n",
       "[1173304 rows x 3 columns]"
      ]
     },
     "execution_count": 37,
     "metadata": {},
     "output_type": "execute_result"
    }
   ],
   "source": [
    "df_stand['taxamount_unscaled'] = stand_scaler.inverse_transform(df_stand[['taxamount_scaled']])\n",
    "df_stand"
   ]
  },
  {
   "cell_type": "code",
   "execution_count": 38,
   "id": "89618f94",
   "metadata": {},
   "outputs": [
    {
     "name": "stderr",
     "output_type": "stream",
     "text": [
      "/var/folders/lw/_43z7rb5635_x1dwsyzrnc_m0000gn/T/ipykernel_55829/3846543623.py:2: SettingWithCopyWarning: \n",
      "A value is trying to be set on a copy of a slice from a DataFrame.\n",
      "Try using .loc[row_indexer,col_indexer] = value instead\n",
      "\n",
      "See the caveats in the documentation: https://pandas.pydata.org/pandas-docs/stable/user_guide/indexing.html#returning-a-view-versus-a-copy\n",
      "  df_stand['change_when_inverse'] = (abs(df_stand.taxamount - df_stand.taxamount_unscaled))\n"
     ]
    },
    {
     "data": {
      "text/plain": [
       "count    1.173304e+06\n",
       "mean     6.370687e-14\n",
       "std      2.516497e-13\n",
       "min      0.000000e+00\n",
       "25%      0.000000e+00\n",
       "50%      0.000000e+00\n",
       "75%      0.000000e+00\n",
       "max      7.275958e-12\n",
       "Name: change_when_inverse, dtype: float64"
      ]
     },
     "execution_count": 38,
     "metadata": {},
     "output_type": "execute_result"
    }
   ],
   "source": [
    "#how off are they?\n",
    "df_stand['change_when_inverse'] = (abs(df_stand.taxamount - df_stand.taxamount_unscaled))\n",
    "df_stand['change_when_inverse'].describe()"
   ]
  },
  {
   "cell_type": "code",
   "execution_count": 39,
   "id": "5c35469d",
   "metadata": {},
   "outputs": [
    {
     "data": {
      "text/plain": [
       "0.8583470268574896"
      ]
     },
     "execution_count": 39,
     "metadata": {},
     "output_type": "execute_result"
    }
   ],
   "source": [
    "df_stand[df_stand['change_when_inverse'] == 0].shape[0]/df_stand.shape[0]"
   ]
  },
  {
   "cell_type": "markdown",
   "id": "5e5fcdee",
   "metadata": {},
   "source": [
    "85% of the data returns to the same value, and most of it is off by very little.  But these might be a programming artifact:"
   ]
  },
  {
   "cell_type": "code",
   "execution_count": 40,
   "id": "cb3474b4",
   "metadata": {},
   "outputs": [
    {
     "name": "stderr",
     "output_type": "stream",
     "text": [
      "/var/folders/lw/_43z7rb5635_x1dwsyzrnc_m0000gn/T/ipykernel_55829/1537710646.py:5: SettingWithCopyWarning: \n",
      "A value is trying to be set on a copy of a slice from a DataFrame.\n",
      "Try using .loc[row_indexer,col_indexer] = value instead\n",
      "\n",
      "See the caveats in the documentation: https://pandas.pydata.org/pandas-docs/stable/user_guide/indexing.html#returning-a-view-versus-a-copy\n",
      "  df_stand_cols[f'{column}_unscaled'] = scaler.inverse_transform(df_stand_cols[[f'{column}_scaled']])\n",
      "/var/folders/lw/_43z7rb5635_x1dwsyzrnc_m0000gn/T/ipykernel_55829/1537710646.py:6: SettingWithCopyWarning: \n",
      "A value is trying to be set on a copy of a slice from a DataFrame.\n",
      "Try using .loc[row_indexer,col_indexer] = value instead\n",
      "\n",
      "See the caveats in the documentation: https://pandas.pydata.org/pandas-docs/stable/user_guide/indexing.html#returning-a-view-versus-a-copy\n",
      "  df_stand_cols[f'{column}_change'] = abs(df_stand_cols[column] - df_stand_cols[f\"{column}_unscaled\"])\n"
     ]
    },
    {
     "data": {
      "text/html": [
       "<div>\n",
       "<style scoped>\n",
       "    .dataframe tbody tr th:only-of-type {\n",
       "        vertical-align: middle;\n",
       "    }\n",
       "\n",
       "    .dataframe tbody tr th {\n",
       "        vertical-align: top;\n",
       "    }\n",
       "\n",
       "    .dataframe thead th {\n",
       "        text-align: right;\n",
       "    }\n",
       "</style>\n",
       "<table border=\"1\" class=\"dataframe\">\n",
       "  <thead>\n",
       "    <tr style=\"text-align: right;\">\n",
       "      <th></th>\n",
       "      <th>calculatedfinishedsquarefeet_change</th>\n",
       "      <th>taxvaluedollarcnt_change</th>\n",
       "      <th>taxamount_change</th>\n",
       "    </tr>\n",
       "  </thead>\n",
       "  <tbody>\n",
       "    <tr>\n",
       "      <th>count</th>\n",
       "      <td>1.173304e+06</td>\n",
       "      <td>1.173304e+06</td>\n",
       "      <td>1.173304e+06</td>\n",
       "    </tr>\n",
       "    <tr>\n",
       "      <th>mean</th>\n",
       "      <td>1.314472e-15</td>\n",
       "      <td>2.718655e-12</td>\n",
       "      <td>6.370687e-14</td>\n",
       "    </tr>\n",
       "    <tr>\n",
       "      <th>std</th>\n",
       "      <td>1.640100e-14</td>\n",
       "      <td>1.683482e-11</td>\n",
       "      <td>2.516497e-13</td>\n",
       "    </tr>\n",
       "    <tr>\n",
       "      <th>min</th>\n",
       "      <td>0.000000e+00</td>\n",
       "      <td>0.000000e+00</td>\n",
       "      <td>0.000000e+00</td>\n",
       "    </tr>\n",
       "    <tr>\n",
       "      <th>25%</th>\n",
       "      <td>0.000000e+00</td>\n",
       "      <td>0.000000e+00</td>\n",
       "      <td>0.000000e+00</td>\n",
       "    </tr>\n",
       "    <tr>\n",
       "      <th>50%</th>\n",
       "      <td>0.000000e+00</td>\n",
       "      <td>0.000000e+00</td>\n",
       "      <td>0.000000e+00</td>\n",
       "    </tr>\n",
       "    <tr>\n",
       "      <th>75%</th>\n",
       "      <td>0.000000e+00</td>\n",
       "      <td>0.000000e+00</td>\n",
       "      <td>0.000000e+00</td>\n",
       "    </tr>\n",
       "    <tr>\n",
       "      <th>max</th>\n",
       "      <td>1.818989e-12</td>\n",
       "      <td>2.328306e-10</td>\n",
       "      <td>7.275958e-12</td>\n",
       "    </tr>\n",
       "  </tbody>\n",
       "</table>\n",
       "</div>"
      ],
      "text/plain": [
       "       calculatedfinishedsquarefeet_change  taxvaluedollarcnt_change  \\\n",
       "count                         1.173304e+06              1.173304e+06   \n",
       "mean                          1.314472e-15              2.718655e-12   \n",
       "std                           1.640100e-14              1.683482e-11   \n",
       "min                           0.000000e+00              0.000000e+00   \n",
       "25%                           0.000000e+00              0.000000e+00   \n",
       "50%                           0.000000e+00              0.000000e+00   \n",
       "75%                           0.000000e+00              0.000000e+00   \n",
       "max                           1.818989e-12              2.328306e-10   \n",
       "\n",
       "       taxamount_change  \n",
       "count      1.173304e+06  \n",
       "mean       6.370687e-14  \n",
       "std        2.516497e-13  \n",
       "min        0.000000e+00  \n",
       "25%        0.000000e+00  \n",
       "50%        0.000000e+00  \n",
       "75%        0.000000e+00  \n",
       "max        7.275958e-12  "
      ]
     },
     "execution_count": 40,
     "metadata": {},
     "output_type": "execute_result"
    }
   ],
   "source": [
    "df_stand_cols\n",
    "for scaler_obj in stand_scalers:\n",
    "    scaler = scaler_obj['scaler']\n",
    "    column = scaler_obj['column']\n",
    "    df_stand_cols[f'{column}_unscaled'] = scaler.inverse_transform(df_stand_cols[[f'{column}_scaled']])\n",
    "    df_stand_cols[f'{column}_change'] = abs(df_stand_cols[column] - df_stand_cols[f\"{column}_unscaled\"])\n",
    "df_stand_cols[[f'{cols_to_scale[0]}_change',f'{cols_to_scale[1]}_change', f'{cols_to_scale[2]}_change']].describe()"
   ]
  },
  {
   "cell_type": "markdown",
   "id": "35df10b5",
   "metadata": {},
   "source": [
    "Now look at how much of the data is preserved without the rounding errors for each column"
   ]
  },
  {
   "cell_type": "code",
   "execution_count": 41,
   "id": "6ad1ae05",
   "metadata": {},
   "outputs": [
    {
     "data": {
      "text/html": [
       "<div>\n",
       "<style scoped>\n",
       "    .dataframe tbody tr th:only-of-type {\n",
       "        vertical-align: middle;\n",
       "    }\n",
       "\n",
       "    .dataframe tbody tr th {\n",
       "        vertical-align: top;\n",
       "    }\n",
       "\n",
       "    .dataframe thead th {\n",
       "        text-align: right;\n",
       "    }\n",
       "</style>\n",
       "<table border=\"1\" class=\"dataframe\">\n",
       "  <thead>\n",
       "    <tr style=\"text-align: right;\">\n",
       "      <th></th>\n",
       "      <th>column</th>\n",
       "      <th>proportion_saved</th>\n",
       "    </tr>\n",
       "  </thead>\n",
       "  <tbody>\n",
       "    <tr>\n",
       "      <th>0</th>\n",
       "      <td>calculatedfinishedsquarefeet</td>\n",
       "      <td>0.989908</td>\n",
       "    </tr>\n",
       "    <tr>\n",
       "      <th>1</th>\n",
       "      <td>taxvaluedollarcnt</td>\n",
       "      <td>0.949871</td>\n",
       "    </tr>\n",
       "    <tr>\n",
       "      <th>2</th>\n",
       "      <td>taxamount</td>\n",
       "      <td>0.858347</td>\n",
       "    </tr>\n",
       "  </tbody>\n",
       "</table>\n",
       "</div>"
      ],
      "text/plain": [
       "                         column  proportion_saved\n",
       "0  calculatedfinishedsquarefeet          0.989908\n",
       "1             taxvaluedollarcnt          0.949871\n",
       "2                     taxamount          0.858347"
      ]
     },
     "execution_count": 41,
     "metadata": {},
     "output_type": "execute_result"
    }
   ],
   "source": [
    "outputs = []\n",
    "for column in cols_to_scale:\n",
    "    prop = df_stand_cols[df_stand_cols[f\"{column}_change\"]==0].shape[0]/df_stand_cols[column].shape[0]\n",
    "    output = {\n",
    "        'column':column,\n",
    "        'proportion_saved':prop\n",
    "    }\n",
    "    outputs.append(output)\n",
    "pd.DataFrame(outputs)"
   ]
  },
  {
   "cell_type": "markdown",
   "id": "d9bd48d7",
   "metadata": {},
   "source": [
    "#### RobustScaler"
   ]
  },
  {
   "cell_type": "code",
   "execution_count": 42,
   "id": "0a2cb189",
   "metadata": {},
   "outputs": [
    {
     "name": "stderr",
     "output_type": "stream",
     "text": [
      "/var/folders/lw/_43z7rb5635_x1dwsyzrnc_m0000gn/T/ipykernel_55829/695497883.py:1: SettingWithCopyWarning: \n",
      "A value is trying to be set on a copy of a slice from a DataFrame.\n",
      "Try using .loc[row_indexer,col_indexer] = value instead\n",
      "\n",
      "See the caveats in the documentation: https://pandas.pydata.org/pandas-docs/stable/user_guide/indexing.html#returning-a-view-versus-a-copy\n",
      "  df_robust['taxamount_unscaled'] = robust_scaler.inverse_transform(df_robust[['taxamount_scaled']])\n"
     ]
    },
    {
     "data": {
      "text/html": [
       "<div>\n",
       "<style scoped>\n",
       "    .dataframe tbody tr th:only-of-type {\n",
       "        vertical-align: middle;\n",
       "    }\n",
       "\n",
       "    .dataframe tbody tr th {\n",
       "        vertical-align: top;\n",
       "    }\n",
       "\n",
       "    .dataframe thead th {\n",
       "        text-align: right;\n",
       "    }\n",
       "</style>\n",
       "<table border=\"1\" class=\"dataframe\">\n",
       "  <thead>\n",
       "    <tr style=\"text-align: right;\">\n",
       "      <th></th>\n",
       "      <th>taxamount</th>\n",
       "      <th>taxamount_scaled</th>\n",
       "      <th>taxamount_unscaled</th>\n",
       "    </tr>\n",
       "  </thead>\n",
       "  <tbody>\n",
       "    <tr>\n",
       "      <th>1571052</th>\n",
       "      <td>10125.24</td>\n",
       "      <td>1.639293</td>\n",
       "      <td>10125.24</td>\n",
       "    </tr>\n",
       "    <tr>\n",
       "      <th>1938950</th>\n",
       "      <td>3174.39</td>\n",
       "      <td>-0.234255</td>\n",
       "      <td>3174.39</td>\n",
       "    </tr>\n",
       "    <tr>\n",
       "      <th>1171526</th>\n",
       "      <td>4585.82</td>\n",
       "      <td>0.146185</td>\n",
       "      <td>4585.82</td>\n",
       "    </tr>\n",
       "    <tr>\n",
       "      <th>1386826</th>\n",
       "      <td>7055.68</td>\n",
       "      <td>0.811917</td>\n",
       "      <td>7055.68</td>\n",
       "    </tr>\n",
       "    <tr>\n",
       "      <th>95133</th>\n",
       "      <td>5634.60</td>\n",
       "      <td>0.428876</td>\n",
       "      <td>5634.60</td>\n",
       "    </tr>\n",
       "    <tr>\n",
       "      <th>...</th>\n",
       "      <td>...</td>\n",
       "      <td>...</td>\n",
       "      <td>...</td>\n",
       "    </tr>\n",
       "    <tr>\n",
       "      <th>460612</th>\n",
       "      <td>3097.98</td>\n",
       "      <td>-0.254851</td>\n",
       "      <td>3097.98</td>\n",
       "    </tr>\n",
       "    <tr>\n",
       "      <th>665697</th>\n",
       "      <td>4450.92</td>\n",
       "      <td>0.109824</td>\n",
       "      <td>4450.92</td>\n",
       "    </tr>\n",
       "    <tr>\n",
       "      <th>1635382</th>\n",
       "      <td>4461.74</td>\n",
       "      <td>0.112740</td>\n",
       "      <td>4461.74</td>\n",
       "    </tr>\n",
       "    <tr>\n",
       "      <th>1977329</th>\n",
       "      <td>5667.42</td>\n",
       "      <td>0.437722</td>\n",
       "      <td>5667.42</td>\n",
       "    </tr>\n",
       "    <tr>\n",
       "      <th>1091799</th>\n",
       "      <td>893.77</td>\n",
       "      <td>-0.848979</td>\n",
       "      <td>893.77</td>\n",
       "    </tr>\n",
       "  </tbody>\n",
       "</table>\n",
       "<p>1173304 rows × 3 columns</p>\n",
       "</div>"
      ],
      "text/plain": [
       "         taxamount  taxamount_scaled  taxamount_unscaled\n",
       "1571052   10125.24          1.639293            10125.24\n",
       "1938950    3174.39         -0.234255             3174.39\n",
       "1171526    4585.82          0.146185             4585.82\n",
       "1386826    7055.68          0.811917             7055.68\n",
       "95133      5634.60          0.428876             5634.60\n",
       "...            ...               ...                 ...\n",
       "460612     3097.98         -0.254851             3097.98\n",
       "665697     4450.92          0.109824             4450.92\n",
       "1635382    4461.74          0.112740             4461.74\n",
       "1977329    5667.42          0.437722             5667.42\n",
       "1091799     893.77         -0.848979              893.77\n",
       "\n",
       "[1173304 rows x 3 columns]"
      ]
     },
     "execution_count": 42,
     "metadata": {},
     "output_type": "execute_result"
    }
   ],
   "source": [
    "df_robust['taxamount_unscaled'] = robust_scaler.inverse_transform(df_robust[['taxamount_scaled']])\n",
    "df_robust"
   ]
  },
  {
   "cell_type": "code",
   "execution_count": 43,
   "id": "4c359b0e",
   "metadata": {},
   "outputs": [
    {
     "name": "stderr",
     "output_type": "stream",
     "text": [
      "/var/folders/lw/_43z7rb5635_x1dwsyzrnc_m0000gn/T/ipykernel_55829/980202199.py:2: SettingWithCopyWarning: \n",
      "A value is trying to be set on a copy of a slice from a DataFrame.\n",
      "Try using .loc[row_indexer,col_indexer] = value instead\n",
      "\n",
      "See the caveats in the documentation: https://pandas.pydata.org/pandas-docs/stable/user_guide/indexing.html#returning-a-view-versus-a-copy\n",
      "  df_robust['change_when_inverse'] = (abs(df_robust.taxamount - df_robust.taxamount_unscaled))\n"
     ]
    },
    {
     "data": {
      "text/plain": [
       "count    1.173304e+06\n",
       "mean     3.373677e-14\n",
       "std      1.650568e-13\n",
       "min      0.000000e+00\n",
       "25%      0.000000e+00\n",
       "50%      0.000000e+00\n",
       "75%      0.000000e+00\n",
       "max      7.275958e-12\n",
       "Name: change_when_inverse, dtype: float64"
      ]
     },
     "execution_count": 43,
     "metadata": {},
     "output_type": "execute_result"
    }
   ],
   "source": [
    "#how off are they?\n",
    "df_robust['change_when_inverse'] = (abs(df_robust.taxamount - df_robust.taxamount_unscaled))\n",
    "df_robust['change_when_inverse'].describe()"
   ]
  },
  {
   "cell_type": "code",
   "execution_count": 44,
   "id": "9b1d29da",
   "metadata": {},
   "outputs": [
    {
     "data": {
      "text/plain": [
       "0.8847792217532711"
      ]
     },
     "execution_count": 44,
     "metadata": {},
     "output_type": "execute_result"
    }
   ],
   "source": [
    "df_robust[df_robust['change_when_inverse'] == 0].shape[0]/df_robust.shape[0]"
   ]
  },
  {
   "cell_type": "markdown",
   "id": "7a0fa245",
   "metadata": {},
   "source": [
    "88% of the data returns to the same value, and most of it is off by very little.  But these might be a programming artifact.\n",
    "\n",
    "\n",
    "Overall, the `RobustScaler` is the best one."
   ]
  },
  {
   "cell_type": "code",
   "execution_count": 45,
   "id": "9045fe89",
   "metadata": {},
   "outputs": [
    {
     "data": {
      "text/plain": [
       "[{'column': 'calculatedfinishedsquarefeet', 'scaler': RobustScaler()},\n",
       " {'column': 'taxvaluedollarcnt', 'scaler': RobustScaler()},\n",
       " {'column': 'taxamount', 'scaler': RobustScaler()}]"
      ]
     },
     "execution_count": 45,
     "metadata": {},
     "output_type": "execute_result"
    }
   ],
   "source": [
    "robust_scalers"
   ]
  },
  {
   "cell_type": "code",
   "execution_count": 46,
   "id": "2b0697cf",
   "metadata": {
    "scrolled": false
   },
   "outputs": [
    {
     "name": "stderr",
     "output_type": "stream",
     "text": [
      "/var/folders/lw/_43z7rb5635_x1dwsyzrnc_m0000gn/T/ipykernel_55829/4029268828.py:5: SettingWithCopyWarning: \n",
      "A value is trying to be set on a copy of a slice from a DataFrame.\n",
      "Try using .loc[row_indexer,col_indexer] = value instead\n",
      "\n",
      "See the caveats in the documentation: https://pandas.pydata.org/pandas-docs/stable/user_guide/indexing.html#returning-a-view-versus-a-copy\n",
      "  df_robust_cols[f'{column}_unscaled'] = scaler.inverse_transform(df_robust_cols[[f'{column}_scaled']])\n",
      "/var/folders/lw/_43z7rb5635_x1dwsyzrnc_m0000gn/T/ipykernel_55829/4029268828.py:6: SettingWithCopyWarning: \n",
      "A value is trying to be set on a copy of a slice from a DataFrame.\n",
      "Try using .loc[row_indexer,col_indexer] = value instead\n",
      "\n",
      "See the caveats in the documentation: https://pandas.pydata.org/pandas-docs/stable/user_guide/indexing.html#returning-a-view-versus-a-copy\n",
      "  df_robust_cols[f'{column}_change'] = abs(df_robust_cols[column] - df_robust_cols[f\"{column}_unscaled\"])\n",
      "/var/folders/lw/_43z7rb5635_x1dwsyzrnc_m0000gn/T/ipykernel_55829/4029268828.py:5: SettingWithCopyWarning: \n",
      "A value is trying to be set on a copy of a slice from a DataFrame.\n",
      "Try using .loc[row_indexer,col_indexer] = value instead\n",
      "\n",
      "See the caveats in the documentation: https://pandas.pydata.org/pandas-docs/stable/user_guide/indexing.html#returning-a-view-versus-a-copy\n",
      "  df_robust_cols[f'{column}_unscaled'] = scaler.inverse_transform(df_robust_cols[[f'{column}_scaled']])\n"
     ]
    },
    {
     "data": {
      "text/html": [
       "<div>\n",
       "<style scoped>\n",
       "    .dataframe tbody tr th:only-of-type {\n",
       "        vertical-align: middle;\n",
       "    }\n",
       "\n",
       "    .dataframe tbody tr th {\n",
       "        vertical-align: top;\n",
       "    }\n",
       "\n",
       "    .dataframe thead th {\n",
       "        text-align: right;\n",
       "    }\n",
       "</style>\n",
       "<table border=\"1\" class=\"dataframe\">\n",
       "  <thead>\n",
       "    <tr style=\"text-align: right;\">\n",
       "      <th></th>\n",
       "      <th>calculatedfinishedsquarefeet_change</th>\n",
       "      <th>taxvaluedollarcnt_change</th>\n",
       "      <th>taxamount_change</th>\n",
       "    </tr>\n",
       "  </thead>\n",
       "  <tbody>\n",
       "    <tr>\n",
       "      <th>count</th>\n",
       "      <td>1.173304e+06</td>\n",
       "      <td>1.173304e+06</td>\n",
       "      <td>1.173304e+06</td>\n",
       "    </tr>\n",
       "    <tr>\n",
       "      <th>mean</th>\n",
       "      <td>5.028830e-16</td>\n",
       "      <td>1.585661e-12</td>\n",
       "      <td>3.373677e-14</td>\n",
       "    </tr>\n",
       "    <tr>\n",
       "      <th>std</th>\n",
       "      <td>1.076865e-13</td>\n",
       "      <td>1.208413e-11</td>\n",
       "      <td>1.650568e-13</td>\n",
       "    </tr>\n",
       "    <tr>\n",
       "      <th>min</th>\n",
       "      <td>0.000000e+00</td>\n",
       "      <td>0.000000e+00</td>\n",
       "      <td>0.000000e+00</td>\n",
       "    </tr>\n",
       "    <tr>\n",
       "      <th>25%</th>\n",
       "      <td>0.000000e+00</td>\n",
       "      <td>0.000000e+00</td>\n",
       "      <td>0.000000e+00</td>\n",
       "    </tr>\n",
       "    <tr>\n",
       "      <th>50%</th>\n",
       "      <td>0.000000e+00</td>\n",
       "      <td>0.000000e+00</td>\n",
       "      <td>0.000000e+00</td>\n",
       "    </tr>\n",
       "    <tr>\n",
       "      <th>75%</th>\n",
       "      <td>0.000000e+00</td>\n",
       "      <td>0.000000e+00</td>\n",
       "      <td>0.000000e+00</td>\n",
       "    </tr>\n",
       "    <tr>\n",
       "      <th>max</th>\n",
       "      <td>1.164153e-10</td>\n",
       "      <td>2.328306e-10</td>\n",
       "      <td>7.275958e-12</td>\n",
       "    </tr>\n",
       "  </tbody>\n",
       "</table>\n",
       "</div>"
      ],
      "text/plain": [
       "       calculatedfinishedsquarefeet_change  taxvaluedollarcnt_change  \\\n",
       "count                         1.173304e+06              1.173304e+06   \n",
       "mean                          5.028830e-16              1.585661e-12   \n",
       "std                           1.076865e-13              1.208413e-11   \n",
       "min                           0.000000e+00              0.000000e+00   \n",
       "25%                           0.000000e+00              0.000000e+00   \n",
       "50%                           0.000000e+00              0.000000e+00   \n",
       "75%                           0.000000e+00              0.000000e+00   \n",
       "max                           1.164153e-10              2.328306e-10   \n",
       "\n",
       "       taxamount_change  \n",
       "count      1.173304e+06  \n",
       "mean       3.373677e-14  \n",
       "std        1.650568e-13  \n",
       "min        0.000000e+00  \n",
       "25%        0.000000e+00  \n",
       "50%        0.000000e+00  \n",
       "75%        0.000000e+00  \n",
       "max        7.275958e-12  "
      ]
     },
     "execution_count": 46,
     "metadata": {},
     "output_type": "execute_result"
    }
   ],
   "source": [
    "df_robust_cols\n",
    "for scaler_obj in robust_scalers:\n",
    "    scaler = scaler_obj['scaler']\n",
    "    column = scaler_obj['column']\n",
    "    df_robust_cols[f'{column}_unscaled'] = scaler.inverse_transform(df_robust_cols[[f'{column}_scaled']])\n",
    "    df_robust_cols[f'{column}_change'] = abs(df_robust_cols[column] - df_robust_cols[f\"{column}_unscaled\"])\n",
    "df_robust_cols[[f'{cols_to_scale[0]}_change',f'{cols_to_scale[1]}_change', f'{cols_to_scale[2]}_change']].describe()"
   ]
  },
  {
   "cell_type": "markdown",
   "id": "aa6e29f7",
   "metadata": {},
   "source": [
    "Now look at how much of the data is preserved without the rounding errors for each column. <a name='preserved'></a><a href='#five'>back to 6</a>"
   ]
  },
  {
   "cell_type": "code",
   "execution_count": 47,
   "id": "037cb07c",
   "metadata": {},
   "outputs": [
    {
     "data": {
      "text/html": [
       "<div>\n",
       "<style scoped>\n",
       "    .dataframe tbody tr th:only-of-type {\n",
       "        vertical-align: middle;\n",
       "    }\n",
       "\n",
       "    .dataframe tbody tr th {\n",
       "        vertical-align: top;\n",
       "    }\n",
       "\n",
       "    .dataframe thead th {\n",
       "        text-align: right;\n",
       "    }\n",
       "</style>\n",
       "<table border=\"1\" class=\"dataframe\">\n",
       "  <thead>\n",
       "    <tr style=\"text-align: right;\">\n",
       "      <th></th>\n",
       "      <th>column</th>\n",
       "      <th>proportion_saved</th>\n",
       "    </tr>\n",
       "  </thead>\n",
       "  <tbody>\n",
       "    <tr>\n",
       "      <th>0</th>\n",
       "      <td>calculatedfinishedsquarefeet</td>\n",
       "      <td>0.996448</td>\n",
       "    </tr>\n",
       "    <tr>\n",
       "      <th>1</th>\n",
       "      <td>taxvaluedollarcnt</td>\n",
       "      <td>0.963340</td>\n",
       "    </tr>\n",
       "    <tr>\n",
       "      <th>2</th>\n",
       "      <td>taxamount</td>\n",
       "      <td>0.884779</td>\n",
       "    </tr>\n",
       "  </tbody>\n",
       "</table>\n",
       "</div>"
      ],
      "text/plain": [
       "                         column  proportion_saved\n",
       "0  calculatedfinishedsquarefeet          0.996448\n",
       "1             taxvaluedollarcnt          0.963340\n",
       "2                     taxamount          0.884779"
      ]
     },
     "execution_count": 47,
     "metadata": {},
     "output_type": "execute_result"
    }
   ],
   "source": [
    "outputs = []\n",
    "for column in cols_to_scale:\n",
    "    prop = df_robust_cols[df_robust_cols[f\"{column}_change\"]==0].shape[0]/df_robust_cols[column].shape[0]\n",
    "    output = {\n",
    "        'column':column,\n",
    "        'proportion_saved':prop\n",
    "    }\n",
    "    outputs.append(output)\n",
    "pd.DataFrame(outputs)"
   ]
  },
  {
   "cell_type": "markdown",
   "id": "45df8d50",
   "metadata": {},
   "source": [
    "## Using `QuantileTransformer`\n",
    "\n",
    "3. Read the documentation for sklearn's QuantileTransformer. Use normal for the output_distribution and apply this scaler to your data. Visualize the result of your data scaling."
   ]
  },
  {
   "cell_type": "code",
   "execution_count": 48,
   "id": "43d08ef1",
   "metadata": {},
   "outputs": [
    {
     "data": {
      "text/plain": [
       "QuantileTransformer(output_distribution='normal')"
      ]
     },
     "execution_count": 48,
     "metadata": {},
     "output_type": "execute_result"
    }
   ],
   "source": [
    "df_qnt = df[['taxamount']]\n",
    "qnt_transformer = QuantileTransformer(output_distribution = 'normal')\n",
    "qnt_transformer.fit(df[['taxamount']])"
   ]
  },
  {
   "cell_type": "code",
   "execution_count": 49,
   "id": "8aaefa8f",
   "metadata": {},
   "outputs": [
    {
     "name": "stderr",
     "output_type": "stream",
     "text": [
      "/var/folders/lw/_43z7rb5635_x1dwsyzrnc_m0000gn/T/ipykernel_55829/3045407943.py:2: SettingWithCopyWarning: \n",
      "A value is trying to be set on a copy of a slice from a DataFrame.\n",
      "Try using .loc[row_indexer,col_indexer] = value instead\n",
      "\n",
      "See the caveats in the documentation: https://pandas.pydata.org/pandas-docs/stable/user_guide/indexing.html#returning-a-view-versus-a-copy\n",
      "  df_qnt['taxamount_scaled'] = scaled_qnt\n"
     ]
    },
    {
     "data": {
      "text/plain": [
       "array([[ 1.40259687],\n",
       "       [-0.34679888],\n",
       "       [ 0.19602074],\n",
       "       ...,\n",
       "       [ 0.15380799],\n",
       "       [ 0.5312421 ],\n",
       "       [-1.8134295 ]])"
      ]
     },
     "execution_count": 49,
     "metadata": {},
     "output_type": "execute_result"
    }
   ],
   "source": [
    "scaled_qnt = qnt_transformer.transform(df_qnt)\n",
    "df_qnt['taxamount_scaled'] = scaled_qnt\n",
    "scaled_qnt"
   ]
  },
  {
   "cell_type": "code",
   "execution_count": 50,
   "id": "25549dcf",
   "metadata": {},
   "outputs": [
    {
     "data": {
      "text/html": [
       "<div>\n",
       "<style scoped>\n",
       "    .dataframe tbody tr th:only-of-type {\n",
       "        vertical-align: middle;\n",
       "    }\n",
       "\n",
       "    .dataframe tbody tr th {\n",
       "        vertical-align: top;\n",
       "    }\n",
       "\n",
       "    .dataframe thead th {\n",
       "        text-align: right;\n",
       "    }\n",
       "</style>\n",
       "<table border=\"1\" class=\"dataframe\">\n",
       "  <thead>\n",
       "    <tr style=\"text-align: right;\">\n",
       "      <th></th>\n",
       "      <th>taxamount</th>\n",
       "      <th>taxamount_scaled</th>\n",
       "    </tr>\n",
       "  </thead>\n",
       "  <tbody>\n",
       "    <tr>\n",
       "      <th>count</th>\n",
       "      <td>1.173304e+06</td>\n",
       "      <td>1.173304e+06</td>\n",
       "    </tr>\n",
       "    <tr>\n",
       "      <th>mean</th>\n",
       "      <td>4.917770e+03</td>\n",
       "      <td>4.521189e-03</td>\n",
       "    </tr>\n",
       "    <tr>\n",
       "      <th>std</th>\n",
       "      <td>3.652810e+03</td>\n",
       "      <td>9.956078e-01</td>\n",
       "    </tr>\n",
       "    <tr>\n",
       "      <th>min</th>\n",
       "      <td>1.336000e+01</td>\n",
       "      <td>-5.199338e+00</td>\n",
       "    </tr>\n",
       "    <tr>\n",
       "      <th>25%</th>\n",
       "      <td>2.508438e+03</td>\n",
       "      <td>-6.641247e-01</td>\n",
       "    </tr>\n",
       "    <tr>\n",
       "      <th>50%</th>\n",
       "      <td>4.043475e+03</td>\n",
       "      <td>5.872807e-03</td>\n",
       "    </tr>\n",
       "    <tr>\n",
       "      <th>75%</th>\n",
       "      <td>6.218430e+03</td>\n",
       "      <td>6.776415e-01</td>\n",
       "    </tr>\n",
       "    <tr>\n",
       "      <th>max</th>\n",
       "      <td>1.003793e+05</td>\n",
       "      <td>5.199338e+00</td>\n",
       "    </tr>\n",
       "  </tbody>\n",
       "</table>\n",
       "</div>"
      ],
      "text/plain": [
       "          taxamount  taxamount_scaled\n",
       "count  1.173304e+06      1.173304e+06\n",
       "mean   4.917770e+03      4.521189e-03\n",
       "std    3.652810e+03      9.956078e-01\n",
       "min    1.336000e+01     -5.199338e+00\n",
       "25%    2.508438e+03     -6.641247e-01\n",
       "50%    4.043475e+03      5.872807e-03\n",
       "75%    6.218430e+03      6.776415e-01\n",
       "max    1.003793e+05      5.199338e+00"
      ]
     },
     "execution_count": 50,
     "metadata": {},
     "output_type": "execute_result"
    }
   ],
   "source": [
    "df_qnt.describe()"
   ]
  },
  {
   "cell_type": "code",
   "execution_count": 51,
   "id": "c5903908",
   "metadata": {
    "scrolled": false
   },
   "outputs": [
    {
     "data": {
      "text/plain": [
       "Text(0.5, 1.0, 'Scaled')"
      ]
     },
     "execution_count": 51,
     "metadata": {},
     "output_type": "execute_result"
    },
    {
     "data": {
      "image/png": "[encoded data removed]",
      "text/plain": [
       "<Figure size 936x432 with 2 Axes>"
      ]
     },
     "metadata": {
      "needs_background": "light"
     },
     "output_type": "display_data"
    }
   ],
   "source": [
    "plt.figure(figsize=(13, 6))\n",
    "plt.subplot(121)\n",
    "plt.hist(df_qnt['taxamount'], bins=200)\n",
    "plt.title('Original')\n",
    "plt.subplot(122)\n",
    "plt.hist(df_qnt['taxamount_scaled'], bins=200)\n",
    "plt.title('Scaled')"
   ]
  },
  {
   "cell_type": "markdown",
   "id": "a958427c",
   "metadata": {},
   "source": [
    "It made the data normally distributed."
   ]
  },
  {
   "cell_type": "markdown",
   "id": "66c233f6",
   "metadata": {},
   "source": [
    "## `QuantileTransformer` with `uniform`\n",
    "\n",
    "4. Use the QuantileTransformer, but omit the output_distribution argument. Visualize your results. What do you notice?"
   ]
  },
  {
   "cell_type": "code",
   "execution_count": 52,
   "id": "4ae9f45f",
   "metadata": {},
   "outputs": [
    {
     "name": "stderr",
     "output_type": "stream",
     "text": [
      "/var/folders/lw/_43z7rb5635_x1dwsyzrnc_m0000gn/T/ipykernel_55829/4147721154.py:5: SettingWithCopyWarning: \n",
      "A value is trying to be set on a copy of a slice from a DataFrame.\n",
      "Try using .loc[row_indexer,col_indexer] = value instead\n",
      "\n",
      "See the caveats in the documentation: https://pandas.pydata.org/pandas-docs/stable/user_guide/indexing.html#returning-a-view-versus-a-copy\n",
      "  df_qnt_uni['taxamount_scaled'] = scaled_qnt_uni\n"
     ]
    },
    {
     "data": {
      "text/plain": [
       "array([[0.91907406],\n",
       "       [0.3593275 ],\n",
       "       [0.57512153],\n",
       "       ...,\n",
       "       [0.55900217],\n",
       "       [0.70194226],\n",
       "       [0.03332571]])"
      ]
     },
     "execution_count": 52,
     "metadata": {},
     "output_type": "execute_result"
    }
   ],
   "source": [
    "df_qnt_uni = df[['taxamount']]\n",
    "qnt_transformer_uni = QuantileTransformer()\n",
    "qnt_transformer_uni.fit(df[['taxamount']])\n",
    "scaled_qnt_uni = qnt_transformer_uni.transform(df_qnt_uni)\n",
    "df_qnt_uni['taxamount_scaled'] = scaled_qnt_uni\n",
    "scaled_qnt_uni"
   ]
  },
  {
   "cell_type": "code",
   "execution_count": 53,
   "id": "9f021dab",
   "metadata": {},
   "outputs": [
    {
     "data": {
      "text/html": [
       "<div>\n",
       "<style scoped>\n",
       "    .dataframe tbody tr th:only-of-type {\n",
       "        vertical-align: middle;\n",
       "    }\n",
       "\n",
       "    .dataframe tbody tr th {\n",
       "        vertical-align: top;\n",
       "    }\n",
       "\n",
       "    .dataframe thead th {\n",
       "        text-align: right;\n",
       "    }\n",
       "</style>\n",
       "<table border=\"1\" class=\"dataframe\">\n",
       "  <thead>\n",
       "    <tr style=\"text-align: right;\">\n",
       "      <th></th>\n",
       "      <th>taxamount</th>\n",
       "      <th>taxamount_scaled</th>\n",
       "    </tr>\n",
       "  </thead>\n",
       "  <tbody>\n",
       "    <tr>\n",
       "      <th>count</th>\n",
       "      <td>1.173304e+06</td>\n",
       "      <td>1.173304e+06</td>\n",
       "    </tr>\n",
       "    <tr>\n",
       "      <th>mean</th>\n",
       "      <td>4.917770e+03</td>\n",
       "      <td>4.996143e-01</td>\n",
       "    </tr>\n",
       "    <tr>\n",
       "      <th>std</th>\n",
       "      <td>3.652810e+03</td>\n",
       "      <td>2.895170e-01</td>\n",
       "    </tr>\n",
       "    <tr>\n",
       "      <th>min</th>\n",
       "      <td>1.336000e+01</td>\n",
       "      <td>0.000000e+00</td>\n",
       "    </tr>\n",
       "    <tr>\n",
       "      <th>25%</th>\n",
       "      <td>2.508438e+03</td>\n",
       "      <td>2.489226e-01</td>\n",
       "    </tr>\n",
       "    <tr>\n",
       "      <th>50%</th>\n",
       "      <td>4.043475e+03</td>\n",
       "      <td>4.993810e-01</td>\n",
       "    </tr>\n",
       "    <tr>\n",
       "      <th>75%</th>\n",
       "      <td>6.218430e+03</td>\n",
       "      <td>7.506744e-01</td>\n",
       "    </tr>\n",
       "    <tr>\n",
       "      <th>max</th>\n",
       "      <td>1.003793e+05</td>\n",
       "      <td>1.000000e+00</td>\n",
       "    </tr>\n",
       "  </tbody>\n",
       "</table>\n",
       "</div>"
      ],
      "text/plain": [
       "          taxamount  taxamount_scaled\n",
       "count  1.173304e+06      1.173304e+06\n",
       "mean   4.917770e+03      4.996143e-01\n",
       "std    3.652810e+03      2.895170e-01\n",
       "min    1.336000e+01      0.000000e+00\n",
       "25%    2.508438e+03      2.489226e-01\n",
       "50%    4.043475e+03      4.993810e-01\n",
       "75%    6.218430e+03      7.506744e-01\n",
       "max    1.003793e+05      1.000000e+00"
      ]
     },
     "execution_count": 53,
     "metadata": {},
     "output_type": "execute_result"
    }
   ],
   "source": [
    "df_qnt_uni.describe()"
   ]
  },
  {
   "cell_type": "code",
   "execution_count": 54,
   "id": "7380af8f",
   "metadata": {},
   "outputs": [
    {
     "data": {
      "text/plain": [
       "Text(0.5, 1.0, 'Scaled')"
      ]
     },
     "execution_count": 54,
     "metadata": {},
     "output_type": "execute_result"
    },
    {
     "data": {
      "image/png": "[encoded data removed]",
      "text/plain": [
       "<Figure size 936x432 with 2 Axes>"
      ]
     },
     "metadata": {
      "needs_background": "light"
     },
     "output_type": "display_data"
    }
   ],
   "source": [
    "plt.figure(figsize=(13, 6))\n",
    "plt.subplot(121)\n",
    "plt.hist(df_qnt_uni['taxamount'], bins=200)\n",
    "plt.title('Original')\n",
    "plt.subplot(122)\n",
    "plt.hist(df_qnt_uni['taxamount_scaled'], bins=200)\n",
    "plt.title('Scaled')"
   ]
  },
  {
   "cell_type": "markdown",
   "id": "1e028041",
   "metadata": {},
   "source": [
    "Made the distribution roughly uniform"
   ]
  },
  {
   "cell_type": "markdown",
   "id": "7c9b1786",
   "metadata": {},
   "source": [
    "## `prepare.py` discussion <a name='five'></a>\n",
    "\n",
    "5. Based on the work you've done, choose a scaling method for your dataset. Write a function within your prepare.py that accepts as input the train, validate, and test data splits, and returns the scaled versions of each. Be sure to only learn the parameters for scaling from your training data!\n",
    "\n",
    "It looks like the robust scaler preserves the data the best, at at least 88% of the data remaining the same after the inverse <a href='#preserved'>(see here for robust model stats)</a>. Use it for the `prepare.py` function.\n",
    "\n"
   ]
  },
  {
   "cell_type": "code",
   "execution_count": 55,
   "id": "da2dec5a",
   "metadata": {},
   "outputs": [
    {
     "data": {
      "text/html": [
       "<div>\n",
       "<style scoped>\n",
       "    .dataframe tbody tr th:only-of-type {\n",
       "        vertical-align: middle;\n",
       "    }\n",
       "\n",
       "    .dataframe tbody tr th {\n",
       "        vertical-align: top;\n",
       "    }\n",
       "\n",
       "    .dataframe thead th {\n",
       "        text-align: right;\n",
       "    }\n",
       "</style>\n",
       "<table border=\"1\" class=\"dataframe\">\n",
       "  <thead>\n",
       "    <tr style=\"text-align: right;\">\n",
       "      <th></th>\n",
       "      <th>parcelid</th>\n",
       "      <th>bedroomcnt</th>\n",
       "      <th>bathroomcnt</th>\n",
       "      <th>calculatedfinishedsquarefeet</th>\n",
       "      <th>yearbuilt</th>\n",
       "      <th>fips</th>\n",
       "      <th>taxvaluedollarcnt</th>\n",
       "      <th>taxamount</th>\n",
       "      <th>propertylandusetypeid</th>\n",
       "      <th>propertylandusedesc</th>\n",
       "    </tr>\n",
       "  </thead>\n",
       "  <tbody>\n",
       "    <tr>\n",
       "      <th>1571052</th>\n",
       "      <td>14409782</td>\n",
       "      <td>4.0</td>\n",
       "      <td>4.5</td>\n",
       "      <td>5264.0</td>\n",
       "      <td>1990.0</td>\n",
       "      <td>6059.0</td>\n",
       "      <td>971668.0</td>\n",
       "      <td>10125.24</td>\n",
       "      <td>261.0</td>\n",
       "      <td>Single Family Residential</td>\n",
       "    </tr>\n",
       "    <tr>\n",
       "      <th>1938950</th>\n",
       "      <td>10874524</td>\n",
       "      <td>3.0</td>\n",
       "      <td>2.0</td>\n",
       "      <td>1275.0</td>\n",
       "      <td>1953.0</td>\n",
       "      <td>6037.0</td>\n",
       "      <td>254438.0</td>\n",
       "      <td>3174.39</td>\n",
       "      <td>261.0</td>\n",
       "      <td>Single Family Residential</td>\n",
       "    </tr>\n",
       "    <tr>\n",
       "      <th>1171526</th>\n",
       "      <td>14133008</td>\n",
       "      <td>3.0</td>\n",
       "      <td>2.5</td>\n",
       "      <td>1692.0</td>\n",
       "      <td>1992.0</td>\n",
       "      <td>6059.0</td>\n",
       "      <td>386787.0</td>\n",
       "      <td>4585.82</td>\n",
       "      <td>261.0</td>\n",
       "      <td>Single Family Residential</td>\n",
       "    </tr>\n",
       "    <tr>\n",
       "      <th>1386826</th>\n",
       "      <td>14087817</td>\n",
       "      <td>5.0</td>\n",
       "      <td>3.0</td>\n",
       "      <td>2393.0</td>\n",
       "      <td>2004.0</td>\n",
       "      <td>6059.0</td>\n",
       "      <td>608919.0</td>\n",
       "      <td>7055.68</td>\n",
       "      <td>261.0</td>\n",
       "      <td>Single Family Residential</td>\n",
       "    </tr>\n",
       "    <tr>\n",
       "      <th>95133</th>\n",
       "      <td>14192299</td>\n",
       "      <td>3.0</td>\n",
       "      <td>2.0</td>\n",
       "      <td>1439.0</td>\n",
       "      <td>1971.0</td>\n",
       "      <td>6059.0</td>\n",
       "      <td>472162.0</td>\n",
       "      <td>5634.60</td>\n",
       "      <td>261.0</td>\n",
       "      <td>Single Family Residential</td>\n",
       "    </tr>\n",
       "  </tbody>\n",
       "</table>\n",
       "</div>"
      ],
      "text/plain": [
       "         parcelid  bedroomcnt  bathroomcnt  calculatedfinishedsquarefeet  \\\n",
       "1571052  14409782         4.0          4.5                        5264.0   \n",
       "1938950  10874524         3.0          2.0                        1275.0   \n",
       "1171526  14133008         3.0          2.5                        1692.0   \n",
       "1386826  14087817         5.0          3.0                        2393.0   \n",
       "95133    14192299         3.0          2.0                        1439.0   \n",
       "\n",
       "         yearbuilt    fips  taxvaluedollarcnt  taxamount  \\\n",
       "1571052     1990.0  6059.0           971668.0   10125.24   \n",
       "1938950     1953.0  6037.0           254438.0    3174.39   \n",
       "1171526     1992.0  6059.0           386787.0    4585.82   \n",
       "1386826     2004.0  6059.0           608919.0    7055.68   \n",
       "95133       1971.0  6059.0           472162.0    5634.60   \n",
       "\n",
       "         propertylandusetypeid        propertylandusedesc  \n",
       "1571052                  261.0  Single Family Residential  \n",
       "1938950                  261.0  Single Family Residential  \n",
       "1171526                  261.0  Single Family Residential  \n",
       "1386826                  261.0  Single Family Residential  \n",
       "95133                    261.0  Single Family Residential  "
      ]
     },
     "execution_count": 55,
     "metadata": {},
     "output_type": "execute_result"
    }
   ],
   "source": [
    "df.head()"
   ]
  },
  {
   "cell_type": "code",
   "execution_count": 56,
   "id": "49b2040c",
   "metadata": {},
   "outputs": [],
   "source": [
    "def zillow_scale(df,\n",
    "                columns = ['calculatedfinishedsquarefeet', 'taxvaluedollarcnt', 'taxamount'],\n",
    "                scaler_in=RobustScaler(),\n",
    "                return_scalers=False):\n",
    "    '''\n",
    "    Returns a dataframe of the scaled columns\n",
    "    \n",
    "    Args:\n",
    "        df (DataFrame) : The dataframe with the columns to scale\n",
    "        columns (list) : The columns to scale, \n",
    "            default = ['calculatedfinishedsquarefeet', 'taxvaluedollarcnt', 'taxamount']\n",
    "        scaler_in (sklearn.preprocessing) : scaler to use, default = RobustScaler()\n",
    "        return_scalers (bool) : boolean to return a dictionary of the scalers used for \n",
    "            the columns, default = False\n",
    "    Returns:\n",
    "        df_scaled (DataFrame) : A dataframe containing the scaled columns\n",
    "        scalers (dictionary) : a dictionary containing 'column' for the column name, \n",
    "            and 'scaler' for the scaler object used on that column\n",
    "    '''\n",
    "    scalers = []\n",
    "    df_scaled = df[columns]\n",
    "    for column in columns:\n",
    "        scaler = scaler_in\n",
    "        scaler.fit(df[[column]])\n",
    "        scaled_col = scaler.transform(df[[column]])\n",
    "        scaler = {\n",
    "            'column':column,\n",
    "            'scaler':scaler\n",
    "        }\n",
    "        scalers.append(scaler)\n",
    "        df_scaled[f\"{column}_scaled\"] = scaled_col\n",
    "    \n",
    "    if return_scalers:\n",
    "        return df_scaled.drop(columns = columns), scalers\n",
    "    else:\n",
    "        return df_scaled.drop(columns = columns)"
   ]
  },
  {
   "cell_type": "code",
   "execution_count": 57,
   "id": "14265b7c",
   "metadata": {},
   "outputs": [
    {
     "name": "stderr",
     "output_type": "stream",
     "text": [
      "/var/folders/lw/_43z7rb5635_x1dwsyzrnc_m0000gn/T/ipykernel_55829/1481772977.py:31: SettingWithCopyWarning: \n",
      "A value is trying to be set on a copy of a slice from a DataFrame.\n",
      "Try using .loc[row_indexer,col_indexer] = value instead\n",
      "\n",
      "See the caveats in the documentation: https://pandas.pydata.org/pandas-docs/stable/user_guide/indexing.html#returning-a-view-versus-a-copy\n",
      "  df_scaled[f\"{column}_scaled\"] = scaled_col\n",
      "/var/folders/lw/_43z7rb5635_x1dwsyzrnc_m0000gn/T/ipykernel_55829/1481772977.py:31: SettingWithCopyWarning: \n",
      "A value is trying to be set on a copy of a slice from a DataFrame.\n",
      "Try using .loc[row_indexer,col_indexer] = value instead\n",
      "\n",
      "See the caveats in the documentation: https://pandas.pydata.org/pandas-docs/stable/user_guide/indexing.html#returning-a-view-versus-a-copy\n",
      "  df_scaled[f\"{column}_scaled\"] = scaled_col\n",
      "/var/folders/lw/_43z7rb5635_x1dwsyzrnc_m0000gn/T/ipykernel_55829/1481772977.py:31: SettingWithCopyWarning: \n",
      "A value is trying to be set on a copy of a slice from a DataFrame.\n",
      "Try using .loc[row_indexer,col_indexer] = value instead\n",
      "\n",
      "See the caveats in the documentation: https://pandas.pydata.org/pandas-docs/stable/user_guide/indexing.html#returning-a-view-versus-a-copy\n",
      "  df_scaled[f\"{column}_scaled\"] = scaled_col\n"
     ]
    },
    {
     "data": {
      "text/html": [
       "<div>\n",
       "<style scoped>\n",
       "    .dataframe tbody tr th:only-of-type {\n",
       "        vertical-align: middle;\n",
       "    }\n",
       "\n",
       "    .dataframe tbody tr th {\n",
       "        vertical-align: top;\n",
       "    }\n",
       "\n",
       "    .dataframe thead th {\n",
       "        text-align: right;\n",
       "    }\n",
       "</style>\n",
       "<table border=\"1\" class=\"dataframe\">\n",
       "  <thead>\n",
       "    <tr style=\"text-align: right;\">\n",
       "      <th></th>\n",
       "      <th>calculatedfinishedsquarefeet_scaled</th>\n",
       "      <th>taxvaluedollarcnt_scaled</th>\n",
       "      <th>taxamount_scaled</th>\n",
       "    </tr>\n",
       "  </thead>\n",
       "  <tbody>\n",
       "    <tr>\n",
       "      <th>1571052</th>\n",
       "      <td>4.018681</td>\n",
       "      <td>1.957395</td>\n",
       "      <td>1.639293</td>\n",
       "    </tr>\n",
       "    <tr>\n",
       "      <th>1938950</th>\n",
       "      <td>-0.364835</td>\n",
       "      <td>-0.205223</td>\n",
       "      <td>-0.234255</td>\n",
       "    </tr>\n",
       "    <tr>\n",
       "      <th>1171526</th>\n",
       "      <td>0.093407</td>\n",
       "      <td>0.193840</td>\n",
       "      <td>0.146185</td>\n",
       "    </tr>\n",
       "    <tr>\n",
       "      <th>1386826</th>\n",
       "      <td>0.863736</td>\n",
       "      <td>0.863621</td>\n",
       "      <td>0.811917</td>\n",
       "    </tr>\n",
       "    <tr>\n",
       "      <th>95133</th>\n",
       "      <td>-0.184615</td>\n",
       "      <td>0.451266</td>\n",
       "      <td>0.428876</td>\n",
       "    </tr>\n",
       "    <tr>\n",
       "      <th>...</th>\n",
       "      <td>...</td>\n",
       "      <td>...</td>\n",
       "      <td>...</td>\n",
       "    </tr>\n",
       "    <tr>\n",
       "      <th>460612</th>\n",
       "      <td>0.283516</td>\n",
       "      <td>-0.168473</td>\n",
       "      <td>-0.254851</td>\n",
       "    </tr>\n",
       "    <tr>\n",
       "      <th>665697</th>\n",
       "      <td>0.976923</td>\n",
       "      <td>0.191199</td>\n",
       "      <td>0.109824</td>\n",
       "    </tr>\n",
       "    <tr>\n",
       "      <th>1635382</th>\n",
       "      <td>-0.023077</td>\n",
       "      <td>0.123088</td>\n",
       "      <td>0.112740</td>\n",
       "    </tr>\n",
       "    <tr>\n",
       "      <th>1977329</th>\n",
       "      <td>0.787912</td>\n",
       "      <td>0.355282</td>\n",
       "      <td>0.437722</td>\n",
       "    </tr>\n",
       "    <tr>\n",
       "      <th>1091799</th>\n",
       "      <td>-0.453846</td>\n",
       "      <td>-0.730341</td>\n",
       "      <td>-0.848979</td>\n",
       "    </tr>\n",
       "  </tbody>\n",
       "</table>\n",
       "<p>1173304 rows × 3 columns</p>\n",
       "</div>"
      ],
      "text/plain": [
       "         calculatedfinishedsquarefeet_scaled  taxvaluedollarcnt_scaled  \\\n",
       "1571052                             4.018681                  1.957395   \n",
       "1938950                            -0.364835                 -0.205223   \n",
       "1171526                             0.093407                  0.193840   \n",
       "1386826                             0.863736                  0.863621   \n",
       "95133                              -0.184615                  0.451266   \n",
       "...                                      ...                       ...   \n",
       "460612                              0.283516                 -0.168473   \n",
       "665697                              0.976923                  0.191199   \n",
       "1635382                            -0.023077                  0.123088   \n",
       "1977329                             0.787912                  0.355282   \n",
       "1091799                            -0.453846                 -0.730341   \n",
       "\n",
       "         taxamount_scaled  \n",
       "1571052          1.639293  \n",
       "1938950         -0.234255  \n",
       "1171526          0.146185  \n",
       "1386826          0.811917  \n",
       "95133            0.428876  \n",
       "...                   ...  \n",
       "460612          -0.254851  \n",
       "665697           0.109824  \n",
       "1635382          0.112740  \n",
       "1977329          0.437722  \n",
       "1091799         -0.848979  \n",
       "\n",
       "[1173304 rows x 3 columns]"
      ]
     },
     "execution_count": 57,
     "metadata": {},
     "output_type": "execute_result"
    }
   ],
   "source": [
    "scaled_df = zillow_scale(df)\n",
    "scaled_df"
   ]
  },
  {
   "cell_type": "code",
   "execution_count": 58,
   "id": "67836453",
   "metadata": {},
   "outputs": [
    {
     "name": "stderr",
     "output_type": "stream",
     "text": [
      "/var/folders/lw/_43z7rb5635_x1dwsyzrnc_m0000gn/T/ipykernel_55829/1481772977.py:31: SettingWithCopyWarning: \n",
      "A value is trying to be set on a copy of a slice from a DataFrame.\n",
      "Try using .loc[row_indexer,col_indexer] = value instead\n",
      "\n",
      "See the caveats in the documentation: https://pandas.pydata.org/pandas-docs/stable/user_guide/indexing.html#returning-a-view-versus-a-copy\n",
      "  df_scaled[f\"{column}_scaled\"] = scaled_col\n",
      "/var/folders/lw/_43z7rb5635_x1dwsyzrnc_m0000gn/T/ipykernel_55829/1481772977.py:31: SettingWithCopyWarning: \n",
      "A value is trying to be set on a copy of a slice from a DataFrame.\n",
      "Try using .loc[row_indexer,col_indexer] = value instead\n",
      "\n",
      "See the caveats in the documentation: https://pandas.pydata.org/pandas-docs/stable/user_guide/indexing.html#returning-a-view-versus-a-copy\n",
      "  df_scaled[f\"{column}_scaled\"] = scaled_col\n",
      "/var/folders/lw/_43z7rb5635_x1dwsyzrnc_m0000gn/T/ipykernel_55829/1481772977.py:31: SettingWithCopyWarning: \n",
      "A value is trying to be set on a copy of a slice from a DataFrame.\n",
      "Try using .loc[row_indexer,col_indexer] = value instead\n",
      "\n",
      "See the caveats in the documentation: https://pandas.pydata.org/pandas-docs/stable/user_guide/indexing.html#returning-a-view-versus-a-copy\n",
      "  df_scaled[f\"{column}_scaled\"] = scaled_col\n"
     ]
    },
    {
     "data": {
      "text/plain": [
       "[{'column': 'calculatedfinishedsquarefeet', 'scaler': RobustScaler()},\n",
       " {'column': 'taxvaluedollarcnt', 'scaler': RobustScaler()},\n",
       " {'column': 'taxamount', 'scaler': RobustScaler()}]"
      ]
     },
     "execution_count": 58,
     "metadata": {},
     "output_type": "execute_result"
    }
   ],
   "source": [
    "scaled_df, scalers = zillow_scale(df, return_scalers=True)\n",
    "scalers"
   ]
  },
  {
   "cell_type": "markdown",
   "id": "d4dc374c",
   "metadata": {},
   "source": [
    "test the `wrangle.py` script"
   ]
  },
  {
   "cell_type": "code",
   "execution_count": 59,
   "id": "32f40ddb",
   "metadata": {},
   "outputs": [
    {
     "name": "stdout",
     "output_type": "stream",
     "text": [
      "Returning saved csv file.\n"
     ]
    },
    {
     "name": "stderr",
     "output_type": "stream",
     "text": [
      "/var/folders/lw/_43z7rb5635_x1dwsyzrnc_m0000gn/T/ipykernel_55829/1481772977.py:31: SettingWithCopyWarning: \n",
      "A value is trying to be set on a copy of a slice from a DataFrame.\n",
      "Try using .loc[row_indexer,col_indexer] = value instead\n",
      "\n",
      "See the caveats in the documentation: https://pandas.pydata.org/pandas-docs/stable/user_guide/indexing.html#returning-a-view-versus-a-copy\n",
      "  df_scaled[f\"{column}_scaled\"] = scaled_col\n",
      "/var/folders/lw/_43z7rb5635_x1dwsyzrnc_m0000gn/T/ipykernel_55829/1481772977.py:31: SettingWithCopyWarning: \n",
      "A value is trying to be set on a copy of a slice from a DataFrame.\n",
      "Try using .loc[row_indexer,col_indexer] = value instead\n",
      "\n",
      "See the caveats in the documentation: https://pandas.pydata.org/pandas-docs/stable/user_guide/indexing.html#returning-a-view-versus-a-copy\n",
      "  df_scaled[f\"{column}_scaled\"] = scaled_col\n",
      "/var/folders/lw/_43z7rb5635_x1dwsyzrnc_m0000gn/T/ipykernel_55829/1481772977.py:31: SettingWithCopyWarning: \n",
      "A value is trying to be set on a copy of a slice from a DataFrame.\n",
      "Try using .loc[row_indexer,col_indexer] = value instead\n",
      "\n",
      "See the caveats in the documentation: https://pandas.pydata.org/pandas-docs/stable/user_guide/indexing.html#returning-a-view-versus-a-copy\n",
      "  df_scaled[f\"{column}_scaled\"] = scaled_col\n"
     ]
    },
    {
     "data": {
      "text/html": [
       "<div>\n",
       "<style scoped>\n",
       "    .dataframe tbody tr th:only-of-type {\n",
       "        vertical-align: middle;\n",
       "    }\n",
       "\n",
       "    .dataframe tbody tr th {\n",
       "        vertical-align: top;\n",
       "    }\n",
       "\n",
       "    .dataframe thead th {\n",
       "        text-align: right;\n",
       "    }\n",
       "</style>\n",
       "<table border=\"1\" class=\"dataframe\">\n",
       "  <thead>\n",
       "    <tr style=\"text-align: right;\">\n",
       "      <th></th>\n",
       "      <th>calculatedfinishedsquarefeet_scaled</th>\n",
       "      <th>taxvaluedollarcnt_scaled</th>\n",
       "      <th>taxamount_scaled</th>\n",
       "    </tr>\n",
       "  </thead>\n",
       "  <tbody>\n",
       "    <tr>\n",
       "      <th>1571052</th>\n",
       "      <td>4.018681</td>\n",
       "      <td>1.957395</td>\n",
       "      <td>1.639293</td>\n",
       "    </tr>\n",
       "    <tr>\n",
       "      <th>1938950</th>\n",
       "      <td>-0.364835</td>\n",
       "      <td>-0.205223</td>\n",
       "      <td>-0.234255</td>\n",
       "    </tr>\n",
       "    <tr>\n",
       "      <th>1171526</th>\n",
       "      <td>0.093407</td>\n",
       "      <td>0.193840</td>\n",
       "      <td>0.146185</td>\n",
       "    </tr>\n",
       "    <tr>\n",
       "      <th>1386826</th>\n",
       "      <td>0.863736</td>\n",
       "      <td>0.863621</td>\n",
       "      <td>0.811917</td>\n",
       "    </tr>\n",
       "    <tr>\n",
       "      <th>95133</th>\n",
       "      <td>-0.184615</td>\n",
       "      <td>0.451266</td>\n",
       "      <td>0.428876</td>\n",
       "    </tr>\n",
       "    <tr>\n",
       "      <th>...</th>\n",
       "      <td>...</td>\n",
       "      <td>...</td>\n",
       "      <td>...</td>\n",
       "    </tr>\n",
       "    <tr>\n",
       "      <th>460612</th>\n",
       "      <td>0.283516</td>\n",
       "      <td>-0.168473</td>\n",
       "      <td>-0.254851</td>\n",
       "    </tr>\n",
       "    <tr>\n",
       "      <th>665697</th>\n",
       "      <td>0.976923</td>\n",
       "      <td>0.191199</td>\n",
       "      <td>0.109824</td>\n",
       "    </tr>\n",
       "    <tr>\n",
       "      <th>1635382</th>\n",
       "      <td>-0.023077</td>\n",
       "      <td>0.123088</td>\n",
       "      <td>0.112740</td>\n",
       "    </tr>\n",
       "    <tr>\n",
       "      <th>1977329</th>\n",
       "      <td>0.787912</td>\n",
       "      <td>0.355282</td>\n",
       "      <td>0.437722</td>\n",
       "    </tr>\n",
       "    <tr>\n",
       "      <th>1091799</th>\n",
       "      <td>-0.453846</td>\n",
       "      <td>-0.730341</td>\n",
       "      <td>-0.848979</td>\n",
       "    </tr>\n",
       "  </tbody>\n",
       "</table>\n",
       "<p>1173304 rows × 3 columns</p>\n",
       "</div>"
      ],
      "text/plain": [
       "         calculatedfinishedsquarefeet_scaled  taxvaluedollarcnt_scaled  \\\n",
       "1571052                             4.018681                  1.957395   \n",
       "1938950                            -0.364835                 -0.205223   \n",
       "1171526                             0.093407                  0.193840   \n",
       "1386826                             0.863736                  0.863621   \n",
       "95133                              -0.184615                  0.451266   \n",
       "...                                      ...                       ...   \n",
       "460612                              0.283516                 -0.168473   \n",
       "665697                              0.976923                  0.191199   \n",
       "1635382                            -0.023077                  0.123088   \n",
       "1977329                             0.787912                  0.355282   \n",
       "1091799                            -0.453846                 -0.730341   \n",
       "\n",
       "         taxamount_scaled  \n",
       "1571052          1.639293  \n",
       "1938950         -0.234255  \n",
       "1171526          0.146185  \n",
       "1386826          0.811917  \n",
       "95133            0.428876  \n",
       "...                   ...  \n",
       "460612          -0.254851  \n",
       "665697           0.109824  \n",
       "1635382          0.112740  \n",
       "1977329          0.437722  \n",
       "1091799         -0.848979  \n",
       "\n",
       "[1173304 rows x 3 columns]"
      ]
     },
     "execution_count": 59,
     "metadata": {},
     "output_type": "execute_result"
    }
   ],
   "source": [
    "df = w.wrangle_zillow_data()\n",
    "train, validate, test = w.split_zillow_data(df)\n",
    "scaled_df = zillow_scale(train)\n",
    "scaled_df"
   ]
  }
 ],
 "metadata": {
  "kernelspec": {
   "display_name": "Python 3 (ipykernel)",
   "language": "python",
   "name": "python3"
  },
  "language_info": {
   "codemirror_mode": {
    "name": "ipython",
    "version": 3
   },
   "file_extension": ".py",
   "mimetype": "text/x-python",
   "name": "python",
   "nbconvert_exporter": "python",
   "pygments_lexer": "ipython3",
   "version": "3.9.7"
  }
 },
 "nbformat": 4,
 "nbformat_minor": 5
}
