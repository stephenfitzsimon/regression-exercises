{
 "cells": [
  {
   "cell_type": "markdown",
   "id": "cc8d6b91",
   "metadata": {},
   "source": [
    "# Acquire and Prep - Wrangle Exercises"
   ]
  },
  {
   "cell_type": "code",
   "execution_count": 1,
   "id": "075507f7",
   "metadata": {},
   "outputs": [],
   "source": [
    "import pandas as pd\n",
    "import seaborn as sns\n",
    "import matplotlib.pyplot as plt\n",
    "from sklearn.impute import SimpleImputer\n",
    "from env import get_db_url"
   ]
  },
  {
   "cell_type": "markdown",
   "id": "c190530a",
   "metadata": {},
   "source": [
    "1. Acquire bedroomcnt, bathroomcnt, calculatedfinishedsquarefeet, taxvaluedollarcnt, yearbuilt, taxamount, and fips from the zillow database for all 'Single Family Residential' properties."
   ]
  },
  {
   "cell_type": "code",
   "execution_count": 2,
   "id": "976b1193",
   "metadata": {},
   "outputs": [],
   "source": [
    "query = '''SELECT parcelid, bedroomcnt, bathroomcnt, calculatedfinishedsquarefeet, yearbuilt, fips, taxvaluedollarcnt, taxamount, propertylandusetypeid, propertylandusedesc\n",
    "\tFROM properties_2017\n",
    "\t\tJOIN propertylandusetype USING (propertylandusetypeid)\n",
    "    WHERE propertylandusedesc = 'Single Family Residential';'''\n",
    "\n",
    "df = pd.read_sql(query, get_db_url('zillow'))"
   ]
  },
  {
   "cell_type": "code",
   "execution_count": 3,
   "id": "cfe279cb",
   "metadata": {
    "scrolled": false
   },
   "outputs": [
    {
     "data": {
      "text/html": [
       "<div>\n",
       "<style scoped>\n",
       "    .dataframe tbody tr th:only-of-type {\n",
       "        vertical-align: middle;\n",
       "    }\n",
       "\n",
       "    .dataframe tbody tr th {\n",
       "        vertical-align: top;\n",
       "    }\n",
       "\n",
       "    .dataframe thead th {\n",
       "        text-align: right;\n",
       "    }\n",
       "</style>\n",
       "<table border=\"1\" class=\"dataframe\">\n",
       "  <thead>\n",
       "    <tr style=\"text-align: right;\">\n",
       "      <th></th>\n",
       "      <th>parcelid</th>\n",
       "      <th>bedroomcnt</th>\n",
       "      <th>bathroomcnt</th>\n",
       "      <th>calculatedfinishedsquarefeet</th>\n",
       "      <th>yearbuilt</th>\n",
       "      <th>fips</th>\n",
       "      <th>taxvaluedollarcnt</th>\n",
       "      <th>taxamount</th>\n",
       "      <th>propertylandusetypeid</th>\n",
       "      <th>propertylandusedesc</th>\n",
       "    </tr>\n",
       "  </thead>\n",
       "  <tbody>\n",
       "    <tr>\n",
       "      <th>0</th>\n",
       "      <td>10759547</td>\n",
       "      <td>0.0</td>\n",
       "      <td>0.0</td>\n",
       "      <td>NaN</td>\n",
       "      <td>NaN</td>\n",
       "      <td>6037.0</td>\n",
       "      <td>27516.0</td>\n",
       "      <td>NaN</td>\n",
       "      <td>261.0</td>\n",
       "      <td>Single Family Residential</td>\n",
       "    </tr>\n",
       "    <tr>\n",
       "      <th>1</th>\n",
       "      <td>11193347</td>\n",
       "      <td>0.0</td>\n",
       "      <td>0.0</td>\n",
       "      <td>NaN</td>\n",
       "      <td>NaN</td>\n",
       "      <td>6037.0</td>\n",
       "      <td>10.0</td>\n",
       "      <td>NaN</td>\n",
       "      <td>261.0</td>\n",
       "      <td>Single Family Residential</td>\n",
       "    </tr>\n",
       "    <tr>\n",
       "      <th>2</th>\n",
       "      <td>11215747</td>\n",
       "      <td>0.0</td>\n",
       "      <td>0.0</td>\n",
       "      <td>NaN</td>\n",
       "      <td>NaN</td>\n",
       "      <td>6037.0</td>\n",
       "      <td>10.0</td>\n",
       "      <td>NaN</td>\n",
       "      <td>261.0</td>\n",
       "      <td>Single Family Residential</td>\n",
       "    </tr>\n",
       "    <tr>\n",
       "      <th>3</th>\n",
       "      <td>11229347</td>\n",
       "      <td>0.0</td>\n",
       "      <td>0.0</td>\n",
       "      <td>NaN</td>\n",
       "      <td>NaN</td>\n",
       "      <td>6037.0</td>\n",
       "      <td>2108.0</td>\n",
       "      <td>174.21</td>\n",
       "      <td>261.0</td>\n",
       "      <td>Single Family Residential</td>\n",
       "    </tr>\n",
       "    <tr>\n",
       "      <th>4</th>\n",
       "      <td>11324547</td>\n",
       "      <td>4.0</td>\n",
       "      <td>2.0</td>\n",
       "      <td>3633.0</td>\n",
       "      <td>2005.0</td>\n",
       "      <td>6037.0</td>\n",
       "      <td>296425.0</td>\n",
       "      <td>6941.39</td>\n",
       "      <td>261.0</td>\n",
       "      <td>Single Family Residential</td>\n",
       "    </tr>\n",
       "    <tr>\n",
       "      <th>...</th>\n",
       "      <td>...</td>\n",
       "      <td>...</td>\n",
       "      <td>...</td>\n",
       "      <td>...</td>\n",
       "      <td>...</td>\n",
       "      <td>...</td>\n",
       "      <td>...</td>\n",
       "      <td>...</td>\n",
       "      <td>...</td>\n",
       "      <td>...</td>\n",
       "    </tr>\n",
       "    <tr>\n",
       "      <th>2152858</th>\n",
       "      <td>14356230</td>\n",
       "      <td>4.0</td>\n",
       "      <td>3.0</td>\n",
       "      <td>2262.0</td>\n",
       "      <td>2015.0</td>\n",
       "      <td>6059.0</td>\n",
       "      <td>960756.0</td>\n",
       "      <td>13494.52</td>\n",
       "      <td>261.0</td>\n",
       "      <td>Single Family Residential</td>\n",
       "    </tr>\n",
       "    <tr>\n",
       "      <th>2152859</th>\n",
       "      <td>14157725</td>\n",
       "      <td>4.0</td>\n",
       "      <td>4.5</td>\n",
       "      <td>3127.0</td>\n",
       "      <td>2014.0</td>\n",
       "      <td>6059.0</td>\n",
       "      <td>536061.0</td>\n",
       "      <td>6244.16</td>\n",
       "      <td>261.0</td>\n",
       "      <td>Single Family Residential</td>\n",
       "    </tr>\n",
       "    <tr>\n",
       "      <th>2152860</th>\n",
       "      <td>14356183</td>\n",
       "      <td>0.0</td>\n",
       "      <td>0.0</td>\n",
       "      <td>NaN</td>\n",
       "      <td>NaN</td>\n",
       "      <td>6059.0</td>\n",
       "      <td>208057.0</td>\n",
       "      <td>5783.88</td>\n",
       "      <td>261.0</td>\n",
       "      <td>Single Family Residential</td>\n",
       "    </tr>\n",
       "    <tr>\n",
       "      <th>2152861</th>\n",
       "      <td>14367624</td>\n",
       "      <td>3.0</td>\n",
       "      <td>2.5</td>\n",
       "      <td>1974.0</td>\n",
       "      <td>2015.0</td>\n",
       "      <td>6059.0</td>\n",
       "      <td>424353.0</td>\n",
       "      <td>5302.70</td>\n",
       "      <td>261.0</td>\n",
       "      <td>Single Family Residential</td>\n",
       "    </tr>\n",
       "    <tr>\n",
       "      <th>2152862</th>\n",
       "      <td>12385768</td>\n",
       "      <td>4.0</td>\n",
       "      <td>4.0</td>\n",
       "      <td>2110.0</td>\n",
       "      <td>2014.0</td>\n",
       "      <td>6037.0</td>\n",
       "      <td>554009.0</td>\n",
       "      <td>6761.20</td>\n",
       "      <td>261.0</td>\n",
       "      <td>Single Family Residential</td>\n",
       "    </tr>\n",
       "  </tbody>\n",
       "</table>\n",
       "<p>2152863 rows × 10 columns</p>\n",
       "</div>"
      ],
      "text/plain": [
       "         parcelid  bedroomcnt  bathroomcnt  calculatedfinishedsquarefeet  \\\n",
       "0        10759547         0.0          0.0                           NaN   \n",
       "1        11193347         0.0          0.0                           NaN   \n",
       "2        11215747         0.0          0.0                           NaN   \n",
       "3        11229347         0.0          0.0                           NaN   \n",
       "4        11324547         4.0          2.0                        3633.0   \n",
       "...           ...         ...          ...                           ...   \n",
       "2152858  14356230         4.0          3.0                        2262.0   \n",
       "2152859  14157725         4.0          4.5                        3127.0   \n",
       "2152860  14356183         0.0          0.0                           NaN   \n",
       "2152861  14367624         3.0          2.5                        1974.0   \n",
       "2152862  12385768         4.0          4.0                        2110.0   \n",
       "\n",
       "         yearbuilt    fips  taxvaluedollarcnt  taxamount  \\\n",
       "0              NaN  6037.0            27516.0        NaN   \n",
       "1              NaN  6037.0               10.0        NaN   \n",
       "2              NaN  6037.0               10.0        NaN   \n",
       "3              NaN  6037.0             2108.0     174.21   \n",
       "4           2005.0  6037.0           296425.0    6941.39   \n",
       "...            ...     ...                ...        ...   \n",
       "2152858     2015.0  6059.0           960756.0   13494.52   \n",
       "2152859     2014.0  6059.0           536061.0    6244.16   \n",
       "2152860        NaN  6059.0           208057.0    5783.88   \n",
       "2152861     2015.0  6059.0           424353.0    5302.70   \n",
       "2152862     2014.0  6037.0           554009.0    6761.20   \n",
       "\n",
       "         propertylandusetypeid        propertylandusedesc  \n",
       "0                        261.0  Single Family Residential  \n",
       "1                        261.0  Single Family Residential  \n",
       "2                        261.0  Single Family Residential  \n",
       "3                        261.0  Single Family Residential  \n",
       "4                        261.0  Single Family Residential  \n",
       "...                        ...                        ...  \n",
       "2152858                  261.0  Single Family Residential  \n",
       "2152859                  261.0  Single Family Residential  \n",
       "2152860                  261.0  Single Family Residential  \n",
       "2152861                  261.0  Single Family Residential  \n",
       "2152862                  261.0  Single Family Residential  \n",
       "\n",
       "[2152863 rows x 10 columns]"
      ]
     },
     "execution_count": 3,
     "metadata": {},
     "output_type": "execute_result"
    }
   ],
   "source": [
    "df"
   ]
  },
  {
   "cell_type": "code",
   "execution_count": 4,
   "id": "139bcd82",
   "metadata": {},
   "outputs": [],
   "source": [
    "original_num_of_rows = df.shape[0]"
   ]
  },
  {
   "cell_type": "markdown",
   "id": "360190f2",
   "metadata": {},
   "source": [
    "2. Using your acquired Zillow data, walk through the summarization and cleaning steps in your wrangle.ipynb file like we did above. You may handle the missing values however you feel is appropriate and meaninful; remember to document your process and decisions using markdown and code commenting where helpful."
   ]
  },
  {
   "cell_type": "code",
   "execution_count": 5,
   "id": "6bc17cec",
   "metadata": {},
   "outputs": [
    {
     "data": {
      "text/html": [
       "<div>\n",
       "<style scoped>\n",
       "    .dataframe tbody tr th:only-of-type {\n",
       "        vertical-align: middle;\n",
       "    }\n",
       "\n",
       "    .dataframe tbody tr th {\n",
       "        vertical-align: top;\n",
       "    }\n",
       "\n",
       "    .dataframe thead th {\n",
       "        text-align: right;\n",
       "    }\n",
       "</style>\n",
       "<table border=\"1\" class=\"dataframe\">\n",
       "  <thead>\n",
       "    <tr style=\"text-align: right;\">\n",
       "      <th></th>\n",
       "      <th>parcelid</th>\n",
       "      <th>bedroomcnt</th>\n",
       "      <th>bathroomcnt</th>\n",
       "      <th>calculatedfinishedsquarefeet</th>\n",
       "      <th>yearbuilt</th>\n",
       "      <th>fips</th>\n",
       "      <th>taxvaluedollarcnt</th>\n",
       "      <th>taxamount</th>\n",
       "      <th>propertylandusetypeid</th>\n",
       "    </tr>\n",
       "  </thead>\n",
       "  <tbody>\n",
       "    <tr>\n",
       "      <th>count</th>\n",
       "      <td>2.152863e+06</td>\n",
       "      <td>2.152852e+06</td>\n",
       "      <td>2.152852e+06</td>\n",
       "      <td>2.144379e+06</td>\n",
       "      <td>2.143526e+06</td>\n",
       "      <td>2.152863e+06</td>\n",
       "      <td>2.152370e+06</td>\n",
       "      <td>2.148421e+06</td>\n",
       "      <td>2152863.0</td>\n",
       "    </tr>\n",
       "    <tr>\n",
       "      <th>mean</th>\n",
       "      <td>1.309657e+07</td>\n",
       "      <td>3.287196e+00</td>\n",
       "      <td>2.230688e+00</td>\n",
       "      <td>1.862855e+03</td>\n",
       "      <td>1.960950e+03</td>\n",
       "      <td>6.048377e+03</td>\n",
       "      <td>4.618962e+05</td>\n",
       "      <td>5.634866e+03</td>\n",
       "      <td>261.0</td>\n",
       "    </tr>\n",
       "    <tr>\n",
       "      <th>std</th>\n",
       "      <td>5.171557e+06</td>\n",
       "      <td>9.547544e-01</td>\n",
       "      <td>9.992796e-01</td>\n",
       "      <td>1.222125e+03</td>\n",
       "      <td>2.216220e+01</td>\n",
       "      <td>2.043329e+01</td>\n",
       "      <td>6.996760e+05</td>\n",
       "      <td>8.178910e+03</td>\n",
       "      <td>0.0</td>\n",
       "    </tr>\n",
       "    <tr>\n",
       "      <th>min</th>\n",
       "      <td>1.071172e+07</td>\n",
       "      <td>0.000000e+00</td>\n",
       "      <td>0.000000e+00</td>\n",
       "      <td>1.000000e+00</td>\n",
       "      <td>1.801000e+03</td>\n",
       "      <td>6.037000e+03</td>\n",
       "      <td>1.000000e+00</td>\n",
       "      <td>1.850000e+00</td>\n",
       "      <td>261.0</td>\n",
       "    </tr>\n",
       "    <tr>\n",
       "      <th>25%</th>\n",
       "      <td>1.165907e+07</td>\n",
       "      <td>3.000000e+00</td>\n",
       "      <td>2.000000e+00</td>\n",
       "      <td>1.257000e+03</td>\n",
       "      <td>1.949000e+03</td>\n",
       "      <td>6.037000e+03</td>\n",
       "      <td>1.881702e+05</td>\n",
       "      <td>2.534980e+03</td>\n",
       "      <td>261.0</td>\n",
       "    </tr>\n",
       "    <tr>\n",
       "      <th>50%</th>\n",
       "      <td>1.259852e+07</td>\n",
       "      <td>3.000000e+00</td>\n",
       "      <td>2.000000e+00</td>\n",
       "      <td>1.623000e+03</td>\n",
       "      <td>1.958000e+03</td>\n",
       "      <td>6.037000e+03</td>\n",
       "      <td>3.276710e+05</td>\n",
       "      <td>4.108950e+03</td>\n",
       "      <td>261.0</td>\n",
       "    </tr>\n",
       "    <tr>\n",
       "      <th>75%</th>\n",
       "      <td>1.405609e+07</td>\n",
       "      <td>4.000000e+00</td>\n",
       "      <td>3.000000e+00</td>\n",
       "      <td>2.208000e+03</td>\n",
       "      <td>1.976000e+03</td>\n",
       "      <td>6.059000e+03</td>\n",
       "      <td>5.345270e+05</td>\n",
       "      <td>6.414320e+03</td>\n",
       "      <td>261.0</td>\n",
       "    </tr>\n",
       "    <tr>\n",
       "      <th>max</th>\n",
       "      <td>1.696019e+08</td>\n",
       "      <td>2.500000e+01</td>\n",
       "      <td>3.200000e+01</td>\n",
       "      <td>9.525760e+05</td>\n",
       "      <td>2.016000e+03</td>\n",
       "      <td>6.111000e+03</td>\n",
       "      <td>9.842891e+07</td>\n",
       "      <td>1.337756e+06</td>\n",
       "      <td>261.0</td>\n",
       "    </tr>\n",
       "  </tbody>\n",
       "</table>\n",
       "</div>"
      ],
      "text/plain": [
       "           parcelid    bedroomcnt   bathroomcnt  calculatedfinishedsquarefeet  \\\n",
       "count  2.152863e+06  2.152852e+06  2.152852e+06                  2.144379e+06   \n",
       "mean   1.309657e+07  3.287196e+00  2.230688e+00                  1.862855e+03   \n",
       "std    5.171557e+06  9.547544e-01  9.992796e-01                  1.222125e+03   \n",
       "min    1.071172e+07  0.000000e+00  0.000000e+00                  1.000000e+00   \n",
       "25%    1.165907e+07  3.000000e+00  2.000000e+00                  1.257000e+03   \n",
       "50%    1.259852e+07  3.000000e+00  2.000000e+00                  1.623000e+03   \n",
       "75%    1.405609e+07  4.000000e+00  3.000000e+00                  2.208000e+03   \n",
       "max    1.696019e+08  2.500000e+01  3.200000e+01                  9.525760e+05   \n",
       "\n",
       "          yearbuilt          fips  taxvaluedollarcnt     taxamount  \\\n",
       "count  2.143526e+06  2.152863e+06       2.152370e+06  2.148421e+06   \n",
       "mean   1.960950e+03  6.048377e+03       4.618962e+05  5.634866e+03   \n",
       "std    2.216220e+01  2.043329e+01       6.996760e+05  8.178910e+03   \n",
       "min    1.801000e+03  6.037000e+03       1.000000e+00  1.850000e+00   \n",
       "25%    1.949000e+03  6.037000e+03       1.881702e+05  2.534980e+03   \n",
       "50%    1.958000e+03  6.037000e+03       3.276710e+05  4.108950e+03   \n",
       "75%    1.976000e+03  6.059000e+03       5.345270e+05  6.414320e+03   \n",
       "max    2.016000e+03  6.111000e+03       9.842891e+07  1.337756e+06   \n",
       "\n",
       "       propertylandusetypeid  \n",
       "count              2152863.0  \n",
       "mean                   261.0  \n",
       "std                      0.0  \n",
       "min                    261.0  \n",
       "25%                    261.0  \n",
       "50%                    261.0  \n",
       "75%                    261.0  \n",
       "max                    261.0  "
      ]
     },
     "execution_count": 5,
     "metadata": {},
     "output_type": "execute_result"
    }
   ],
   "source": [
    "df.describe()"
   ]
  },
  {
   "cell_type": "code",
   "execution_count": 6,
   "id": "6c2283ca",
   "metadata": {
    "scrolled": true
   },
   "outputs": [
    {
     "name": "stdout",
     "output_type": "stream",
     "text": [
      "<class 'pandas.core.frame.DataFrame'>\n",
      "RangeIndex: 2152863 entries, 0 to 2152862\n",
      "Data columns (total 10 columns):\n",
      " #   Column                        Non-Null Count    Dtype  \n",
      "---  ------                        --------------    -----  \n",
      " 0   parcelid                      2152863 non-null  int64  \n",
      " 1   bedroomcnt                    2152852 non-null  float64\n",
      " 2   bathroomcnt                   2152852 non-null  float64\n",
      " 3   calculatedfinishedsquarefeet  2144379 non-null  float64\n",
      " 4   yearbuilt                     2143526 non-null  float64\n",
      " 5   fips                          2152863 non-null  float64\n",
      " 6   taxvaluedollarcnt             2152370 non-null  float64\n",
      " 7   taxamount                     2148421 non-null  float64\n",
      " 8   propertylandusetypeid         2152863 non-null  float64\n",
      " 9   propertylandusedesc           2152863 non-null  object \n",
      "dtypes: float64(8), int64(1), object(1)\n",
      "memory usage: 164.3+ MB\n"
     ]
    }
   ],
   "source": [
    "df.info(show_counts = True)"
   ]
  },
  {
   "cell_type": "code",
   "execution_count": 7,
   "id": "29dace43",
   "metadata": {
    "scrolled": true
   },
   "outputs": [
    {
     "data": {
      "text/plain": [
       "parcelid                           0\n",
       "bedroomcnt                        11\n",
       "bathroomcnt                       11\n",
       "calculatedfinishedsquarefeet    8484\n",
       "yearbuilt                       9337\n",
       "fips                               0\n",
       "taxvaluedollarcnt                493\n",
       "taxamount                       4442\n",
       "propertylandusetypeid              0\n",
       "propertylandusedesc                0\n",
       "dtype: int64"
      ]
     },
     "execution_count": 7,
     "metadata": {},
     "output_type": "execute_result"
    }
   ],
   "source": [
    "df.isnull().sum()"
   ]
  },
  {
   "cell_type": "markdown",
   "id": "dd5468da",
   "metadata": {},
   "source": [
    "- Lots and lots of nulls in every column except `parcelid`, `fips`, `propertylandusetypeid` and `propertylandusedesc`.\n",
    "- For the excercises, `propertylandusetypeid` and `propertylandusedesc` are both unneccesary and can be dropped.\n",
    "- However, it looks like all the `dtype` are fine."
   ]
  },
  {
   "cell_type": "markdown",
   "id": "40658280",
   "metadata": {},
   "source": [
    "### Solving the null values \n",
    "\n",
    "- `bedroomcnt` and `bathroomcnt` can be dropped because there are only 11 rows, and are not values that can be imputed\n",
    "- other values can possibly be imputed, but the distributions need to be looked at first\n",
    "\n",
    "#### Looking at `bedroomcnt`\n",
    "\n",
    "Look at the null rows"
   ]
  },
  {
   "cell_type": "code",
   "execution_count": 8,
   "id": "79dc2548",
   "metadata": {},
   "outputs": [
    {
     "data": {
      "text/html": [
       "<div>\n",
       "<style scoped>\n",
       "    .dataframe tbody tr th:only-of-type {\n",
       "        vertical-align: middle;\n",
       "    }\n",
       "\n",
       "    .dataframe tbody tr th {\n",
       "        vertical-align: top;\n",
       "    }\n",
       "\n",
       "    .dataframe thead th {\n",
       "        text-align: right;\n",
       "    }\n",
       "</style>\n",
       "<table border=\"1\" class=\"dataframe\">\n",
       "  <thead>\n",
       "    <tr style=\"text-align: right;\">\n",
       "      <th></th>\n",
       "      <th>parcelid</th>\n",
       "      <th>bedroomcnt</th>\n",
       "      <th>bathroomcnt</th>\n",
       "      <th>calculatedfinishedsquarefeet</th>\n",
       "      <th>yearbuilt</th>\n",
       "      <th>fips</th>\n",
       "      <th>taxvaluedollarcnt</th>\n",
       "      <th>taxamount</th>\n",
       "      <th>propertylandusetypeid</th>\n",
       "      <th>propertylandusedesc</th>\n",
       "    </tr>\n",
       "  </thead>\n",
       "  <tbody>\n",
       "    <tr>\n",
       "      <th>107763</th>\n",
       "      <td>79639557</td>\n",
       "      <td>NaN</td>\n",
       "      <td>NaN</td>\n",
       "      <td>NaN</td>\n",
       "      <td>1926.0</td>\n",
       "      <td>6059.0</td>\n",
       "      <td>67366.0</td>\n",
       "      <td>780.54</td>\n",
       "      <td>261.0</td>\n",
       "      <td>Single Family Residential</td>\n",
       "    </tr>\n",
       "    <tr>\n",
       "      <th>118612</th>\n",
       "      <td>79639558</td>\n",
       "      <td>NaN</td>\n",
       "      <td>NaN</td>\n",
       "      <td>NaN</td>\n",
       "      <td>1946.0</td>\n",
       "      <td>6059.0</td>\n",
       "      <td>43992.0</td>\n",
       "      <td>541.64</td>\n",
       "      <td>261.0</td>\n",
       "      <td>Single Family Residential</td>\n",
       "    </tr>\n",
       "    <tr>\n",
       "      <th>193993</th>\n",
       "      <td>79639565</td>\n",
       "      <td>NaN</td>\n",
       "      <td>NaN</td>\n",
       "      <td>1348.0</td>\n",
       "      <td>1952.0</td>\n",
       "      <td>6059.0</td>\n",
       "      <td>840698.0</td>\n",
       "      <td>NaN</td>\n",
       "      <td>261.0</td>\n",
       "      <td>Single Family Residential</td>\n",
       "    </tr>\n",
       "    <tr>\n",
       "      <th>1141339</th>\n",
       "      <td>76914853</td>\n",
       "      <td>NaN</td>\n",
       "      <td>NaN</td>\n",
       "      <td>200.0</td>\n",
       "      <td>NaN</td>\n",
       "      <td>6037.0</td>\n",
       "      <td>188972.0</td>\n",
       "      <td>NaN</td>\n",
       "      <td>261.0</td>\n",
       "      <td>Single Family Residential</td>\n",
       "    </tr>\n",
       "    <tr>\n",
       "      <th>1324608</th>\n",
       "      <td>76915070</td>\n",
       "      <td>NaN</td>\n",
       "      <td>NaN</td>\n",
       "      <td>990.0</td>\n",
       "      <td>1906.0</td>\n",
       "      <td>6037.0</td>\n",
       "      <td>435000.0</td>\n",
       "      <td>NaN</td>\n",
       "      <td>261.0</td>\n",
       "      <td>Single Family Residential</td>\n",
       "    </tr>\n",
       "    <tr>\n",
       "      <th>1442975</th>\n",
       "      <td>76916281</td>\n",
       "      <td>NaN</td>\n",
       "      <td>NaN</td>\n",
       "      <td>NaN</td>\n",
       "      <td>NaN</td>\n",
       "      <td>6037.0</td>\n",
       "      <td>273196.0</td>\n",
       "      <td>NaN</td>\n",
       "      <td>261.0</td>\n",
       "      <td>Single Family Residential</td>\n",
       "    </tr>\n",
       "    <tr>\n",
       "      <th>1647346</th>\n",
       "      <td>76915500</td>\n",
       "      <td>NaN</td>\n",
       "      <td>NaN</td>\n",
       "      <td>400.0</td>\n",
       "      <td>1954.0</td>\n",
       "      <td>6037.0</td>\n",
       "      <td>28347.0</td>\n",
       "      <td>NaN</td>\n",
       "      <td>261.0</td>\n",
       "      <td>Single Family Residential</td>\n",
       "    </tr>\n",
       "    <tr>\n",
       "      <th>1701026</th>\n",
       "      <td>76916105</td>\n",
       "      <td>NaN</td>\n",
       "      <td>NaN</td>\n",
       "      <td>NaN</td>\n",
       "      <td>1926.0</td>\n",
       "      <td>6037.0</td>\n",
       "      <td>407930.0</td>\n",
       "      <td>NaN</td>\n",
       "      <td>261.0</td>\n",
       "      <td>Single Family Residential</td>\n",
       "    </tr>\n",
       "    <tr>\n",
       "      <th>1722707</th>\n",
       "      <td>76914507</td>\n",
       "      <td>NaN</td>\n",
       "      <td>NaN</td>\n",
       "      <td>NaN</td>\n",
       "      <td>NaN</td>\n",
       "      <td>6037.0</td>\n",
       "      <td>477161.0</td>\n",
       "      <td>NaN</td>\n",
       "      <td>261.0</td>\n",
       "      <td>Single Family Residential</td>\n",
       "    </tr>\n",
       "    <tr>\n",
       "      <th>1776422</th>\n",
       "      <td>76915512</td>\n",
       "      <td>NaN</td>\n",
       "      <td>NaN</td>\n",
       "      <td>NaN</td>\n",
       "      <td>NaN</td>\n",
       "      <td>6037.0</td>\n",
       "      <td>38855.0</td>\n",
       "      <td>NaN</td>\n",
       "      <td>261.0</td>\n",
       "      <td>Single Family Residential</td>\n",
       "    </tr>\n",
       "    <tr>\n",
       "      <th>1797985</th>\n",
       "      <td>76916714</td>\n",
       "      <td>NaN</td>\n",
       "      <td>NaN</td>\n",
       "      <td>NaN</td>\n",
       "      <td>1990.0</td>\n",
       "      <td>6037.0</td>\n",
       "      <td>1017957.0</td>\n",
       "      <td>NaN</td>\n",
       "      <td>261.0</td>\n",
       "      <td>Single Family Residential</td>\n",
       "    </tr>\n",
       "  </tbody>\n",
       "</table>\n",
       "</div>"
      ],
      "text/plain": [
       "         parcelid  bedroomcnt  bathroomcnt  calculatedfinishedsquarefeet  \\\n",
       "107763   79639557         NaN          NaN                           NaN   \n",
       "118612   79639558         NaN          NaN                           NaN   \n",
       "193993   79639565         NaN          NaN                        1348.0   \n",
       "1141339  76914853         NaN          NaN                         200.0   \n",
       "1324608  76915070         NaN          NaN                         990.0   \n",
       "1442975  76916281         NaN          NaN                           NaN   \n",
       "1647346  76915500         NaN          NaN                         400.0   \n",
       "1701026  76916105         NaN          NaN                           NaN   \n",
       "1722707  76914507         NaN          NaN                           NaN   \n",
       "1776422  76915512         NaN          NaN                           NaN   \n",
       "1797985  76916714         NaN          NaN                           NaN   \n",
       "\n",
       "         yearbuilt    fips  taxvaluedollarcnt  taxamount  \\\n",
       "107763      1926.0  6059.0            67366.0     780.54   \n",
       "118612      1946.0  6059.0            43992.0     541.64   \n",
       "193993      1952.0  6059.0           840698.0        NaN   \n",
       "1141339        NaN  6037.0           188972.0        NaN   \n",
       "1324608     1906.0  6037.0           435000.0        NaN   \n",
       "1442975        NaN  6037.0           273196.0        NaN   \n",
       "1647346     1954.0  6037.0            28347.0        NaN   \n",
       "1701026     1926.0  6037.0           407930.0        NaN   \n",
       "1722707        NaN  6037.0           477161.0        NaN   \n",
       "1776422        NaN  6037.0            38855.0        NaN   \n",
       "1797985     1990.0  6037.0          1017957.0        NaN   \n",
       "\n",
       "         propertylandusetypeid        propertylandusedesc  \n",
       "107763                   261.0  Single Family Residential  \n",
       "118612                   261.0  Single Family Residential  \n",
       "193993                   261.0  Single Family Residential  \n",
       "1141339                  261.0  Single Family Residential  \n",
       "1324608                  261.0  Single Family Residential  \n",
       "1442975                  261.0  Single Family Residential  \n",
       "1647346                  261.0  Single Family Residential  \n",
       "1701026                  261.0  Single Family Residential  \n",
       "1722707                  261.0  Single Family Residential  \n",
       "1776422                  261.0  Single Family Residential  \n",
       "1797985                  261.0  Single Family Residential  "
      ]
     },
     "execution_count": 8,
     "metadata": {},
     "output_type": "execute_result"
    }
   ],
   "source": [
    "df[df.bedroomcnt.isna()]"
   ]
  },
  {
   "cell_type": "markdown",
   "id": "67a981a6",
   "metadata": {},
   "source": [
    "These can be dropped.  They are missing a lot of information anyways in other columns and are likely to be dropped anyways."
   ]
  },
  {
   "cell_type": "code",
   "execution_count": 9,
   "id": "13c28e63",
   "metadata": {
    "scrolled": true
   },
   "outputs": [
    {
     "data": {
      "text/plain": [
       "<AxesSubplot:>"
      ]
     },
     "execution_count": 9,
     "metadata": {},
     "output_type": "execute_result"
    },
    {
     "data": {
      "image/png": "[encoded data removed]",
      "text/plain": [
       "<Figure size 432x288 with 1 Axes>"
      ]
     },
     "metadata": {
      "needs_background": "light"
     },
     "output_type": "display_data"
    }
   ],
   "source": [
    "df.bedroomcnt.hist(bins=25)"
   ]
  },
  {
   "cell_type": "code",
   "execution_count": 10,
   "id": "2ca5b207",
   "metadata": {
    "scrolled": true
   },
   "outputs": [
    {
     "data": {
      "text/plain": [
       "3.0     964298\n",
       "4.0     634289\n",
       "2.0     335473\n",
       "5.0     150866\n",
       "6.0      25166\n",
       "1.0      23166\n",
       "0.0      13187\n",
       "7.0       4807\n",
       "8.0       1107\n",
       "9.0        291\n",
       "10.0       121\n",
       "11.0        34\n",
       "13.0        16\n",
       "12.0        12\n",
       "14.0         7\n",
       "15.0         6\n",
       "18.0         3\n",
       "16.0         2\n",
       "25.0         1\n",
       "Name: bedroomcnt, dtype: int64"
      ]
     },
     "execution_count": 10,
     "metadata": {},
     "output_type": "execute_result"
    }
   ],
   "source": [
    "df.bedroomcnt.value_counts()"
   ]
  },
  {
   "cell_type": "markdown",
   "id": "bd1bcd97",
   "metadata": {},
   "source": [
    "What are the houses with `bedroomcnt == 0`?"
   ]
  },
  {
   "cell_type": "code",
   "execution_count": 11,
   "id": "a598ce7d",
   "metadata": {
    "scrolled": false
   },
   "outputs": [
    {
     "name": "stdout",
     "output_type": "stream",
     "text": [
      "<class 'pandas.core.frame.DataFrame'>\n",
      "Int64Index: 13187 entries, 0 to 2152860\n",
      "Data columns (total 10 columns):\n",
      " #   Column                        Non-Null Count  Dtype  \n",
      "---  ------                        --------------  -----  \n",
      " 0   parcelid                      13187 non-null  int64  \n",
      " 1   bedroomcnt                    13187 non-null  float64\n",
      " 2   bathroomcnt                   13187 non-null  float64\n",
      " 3   calculatedfinishedsquarefeet  4926 non-null   float64\n",
      " 4   yearbuilt                     5106 non-null   float64\n",
      " 5   fips                          13187 non-null  float64\n",
      " 6   taxvaluedollarcnt             12803 non-null  float64\n",
      " 7   taxamount                     11245 non-null  float64\n",
      " 8   propertylandusetypeid         13187 non-null  float64\n",
      " 9   propertylandusedesc           13187 non-null  object \n",
      "dtypes: float64(8), int64(1), object(1)\n",
      "memory usage: 1.1+ MB\n"
     ]
    }
   ],
   "source": [
    "df[df.bedroomcnt == 0].info()"
   ]
  },
  {
   "cell_type": "markdown",
   "id": "5f9be97d",
   "metadata": {},
   "source": [
    "These are most likely to be missing `calculatedfinishedsquarefeet` and `yearbuilt`."
   ]
  },
  {
   "cell_type": "code",
   "execution_count": 12,
   "id": "311a39f2",
   "metadata": {},
   "outputs": [
    {
     "data": {
      "text/html": [
       "<div>\n",
       "<style scoped>\n",
       "    .dataframe tbody tr th:only-of-type {\n",
       "        vertical-align: middle;\n",
       "    }\n",
       "\n",
       "    .dataframe tbody tr th {\n",
       "        vertical-align: top;\n",
       "    }\n",
       "\n",
       "    .dataframe thead th {\n",
       "        text-align: right;\n",
       "    }\n",
       "</style>\n",
       "<table border=\"1\" class=\"dataframe\">\n",
       "  <thead>\n",
       "    <tr style=\"text-align: right;\">\n",
       "      <th></th>\n",
       "      <th>parcelid</th>\n",
       "      <th>bedroomcnt</th>\n",
       "      <th>bathroomcnt</th>\n",
       "      <th>calculatedfinishedsquarefeet</th>\n",
       "      <th>yearbuilt</th>\n",
       "      <th>fips</th>\n",
       "      <th>taxvaluedollarcnt</th>\n",
       "      <th>taxamount</th>\n",
       "      <th>propertylandusetypeid</th>\n",
       "    </tr>\n",
       "  </thead>\n",
       "  <tbody>\n",
       "    <tr>\n",
       "      <th>count</th>\n",
       "      <td>1.318700e+04</td>\n",
       "      <td>13187.0</td>\n",
       "      <td>13187.000000</td>\n",
       "      <td>4926.000000</td>\n",
       "      <td>5106.000000</td>\n",
       "      <td>13187.000000</td>\n",
       "      <td>1.280300e+04</td>\n",
       "      <td>1.124500e+04</td>\n",
       "      <td>13187.0</td>\n",
       "    </tr>\n",
       "    <tr>\n",
       "      <th>mean</th>\n",
       "      <td>1.986986e+07</td>\n",
       "      <td>0.0</td>\n",
       "      <td>0.128991</td>\n",
       "      <td>1174.879009</td>\n",
       "      <td>1951.683510</td>\n",
       "      <td>6055.711003</td>\n",
       "      <td>6.209315e+05</td>\n",
       "      <td>8.489532e+03</td>\n",
       "      <td>261.0</td>\n",
       "    </tr>\n",
       "    <tr>\n",
       "      <th>std</th>\n",
       "      <td>2.930287e+07</td>\n",
       "      <td>0.0</td>\n",
       "      <td>0.650117</td>\n",
       "      <td>2267.700998</td>\n",
       "      <td>26.157028</td>\n",
       "      <td>27.975772</td>\n",
       "      <td>2.399681e+06</td>\n",
       "      <td>3.511245e+04</td>\n",
       "      <td>0.0</td>\n",
       "    </tr>\n",
       "    <tr>\n",
       "      <th>min</th>\n",
       "      <td>1.071313e+07</td>\n",
       "      <td>0.0</td>\n",
       "      <td>0.000000</td>\n",
       "      <td>1.000000</td>\n",
       "      <td>1887.000000</td>\n",
       "      <td>6037.000000</td>\n",
       "      <td>1.000000e+00</td>\n",
       "      <td>1.850000e+00</td>\n",
       "      <td>261.0</td>\n",
       "    </tr>\n",
       "    <tr>\n",
       "      <th>25%</th>\n",
       "      <td>1.171067e+07</td>\n",
       "      <td>0.0</td>\n",
       "      <td>0.000000</td>\n",
       "      <td>360.000000</td>\n",
       "      <td>1929.000000</td>\n",
       "      <td>6037.000000</td>\n",
       "      <td>2.629650e+04</td>\n",
       "      <td>5.872200e+02</td>\n",
       "      <td>261.0</td>\n",
       "    </tr>\n",
       "    <tr>\n",
       "      <th>50%</th>\n",
       "      <td>1.270201e+07</td>\n",
       "      <td>0.0</td>\n",
       "      <td>0.000000</td>\n",
       "      <td>626.000000</td>\n",
       "      <td>1951.000000</td>\n",
       "      <td>6037.000000</td>\n",
       "      <td>1.103190e+05</td>\n",
       "      <td>1.915280e+03</td>\n",
       "      <td>261.0</td>\n",
       "    </tr>\n",
       "    <tr>\n",
       "      <th>75%</th>\n",
       "      <td>1.459117e+07</td>\n",
       "      <td>0.0</td>\n",
       "      <td>0.000000</td>\n",
       "      <td>1210.000000</td>\n",
       "      <td>1970.000000</td>\n",
       "      <td>6059.000000</td>\n",
       "      <td>3.858480e+05</td>\n",
       "      <td>5.655280e+03</td>\n",
       "      <td>261.0</td>\n",
       "    </tr>\n",
       "    <tr>\n",
       "      <th>max</th>\n",
       "      <td>1.681836e+08</td>\n",
       "      <td>0.0</td>\n",
       "      <td>20.000000</td>\n",
       "      <td>63692.000000</td>\n",
       "      <td>2016.000000</td>\n",
       "      <td>6111.000000</td>\n",
       "      <td>9.842891e+07</td>\n",
       "      <td>1.337756e+06</td>\n",
       "      <td>261.0</td>\n",
       "    </tr>\n",
       "  </tbody>\n",
       "</table>\n",
       "</div>"
      ],
      "text/plain": [
       "           parcelid  bedroomcnt   bathroomcnt  calculatedfinishedsquarefeet  \\\n",
       "count  1.318700e+04     13187.0  13187.000000                   4926.000000   \n",
       "mean   1.986986e+07         0.0      0.128991                   1174.879009   \n",
       "std    2.930287e+07         0.0      0.650117                   2267.700998   \n",
       "min    1.071313e+07         0.0      0.000000                      1.000000   \n",
       "25%    1.171067e+07         0.0      0.000000                    360.000000   \n",
       "50%    1.270201e+07         0.0      0.000000                    626.000000   \n",
       "75%    1.459117e+07         0.0      0.000000                   1210.000000   \n",
       "max    1.681836e+08         0.0     20.000000                  63692.000000   \n",
       "\n",
       "         yearbuilt          fips  taxvaluedollarcnt     taxamount  \\\n",
       "count  5106.000000  13187.000000       1.280300e+04  1.124500e+04   \n",
       "mean   1951.683510   6055.711003       6.209315e+05  8.489532e+03   \n",
       "std      26.157028     27.975772       2.399681e+06  3.511245e+04   \n",
       "min    1887.000000   6037.000000       1.000000e+00  1.850000e+00   \n",
       "25%    1929.000000   6037.000000       2.629650e+04  5.872200e+02   \n",
       "50%    1951.000000   6037.000000       1.103190e+05  1.915280e+03   \n",
       "75%    1970.000000   6059.000000       3.858480e+05  5.655280e+03   \n",
       "max    2016.000000   6111.000000       9.842891e+07  1.337756e+06   \n",
       "\n",
       "       propertylandusetypeid  \n",
       "count                13187.0  \n",
       "mean                   261.0  \n",
       "std                      0.0  \n",
       "min                    261.0  \n",
       "25%                    261.0  \n",
       "50%                    261.0  \n",
       "75%                    261.0  \n",
       "max                    261.0  "
      ]
     },
     "execution_count": 12,
     "metadata": {},
     "output_type": "execute_result"
    }
   ],
   "source": [
    "df[df.bedroomcnt == 0].describe()"
   ]
  },
  {
   "cell_type": "markdown",
   "id": "c3af5244",
   "metadata": {},
   "source": [
    "Looks like 0.75 of the rows also have no bathrooms.  In addition, they are very small homes.  I suspect that these are actually unknowns that were entered as `0.0`."
   ]
  },
  {
   "cell_type": "markdown",
   "id": "cfc7baad",
   "metadata": {},
   "source": [
    "Consider the connection between `bedroomcnt == 0` and `bathroomcnt == 0`"
   ]
  },
  {
   "cell_type": "code",
   "execution_count": 13,
   "id": "a52e9a83",
   "metadata": {
    "scrolled": false
   },
   "outputs": [
    {
     "data": {
      "text/html": [
       "<div>\n",
       "<style scoped>\n",
       "    .dataframe tbody tr th:only-of-type {\n",
       "        vertical-align: middle;\n",
       "    }\n",
       "\n",
       "    .dataframe tbody tr th {\n",
       "        vertical-align: top;\n",
       "    }\n",
       "\n",
       "    .dataframe thead th {\n",
       "        text-align: right;\n",
       "    }\n",
       "</style>\n",
       "<table border=\"1\" class=\"dataframe\">\n",
       "  <thead>\n",
       "    <tr style=\"text-align: right;\">\n",
       "      <th></th>\n",
       "      <th>parcelid</th>\n",
       "      <th>bedroomcnt</th>\n",
       "      <th>bathroomcnt</th>\n",
       "      <th>calculatedfinishedsquarefeet</th>\n",
       "      <th>yearbuilt</th>\n",
       "      <th>fips</th>\n",
       "      <th>taxvaluedollarcnt</th>\n",
       "      <th>taxamount</th>\n",
       "      <th>propertylandusetypeid</th>\n",
       "      <th>propertylandusedesc</th>\n",
       "    </tr>\n",
       "  </thead>\n",
       "  <tbody>\n",
       "    <tr>\n",
       "      <th>0</th>\n",
       "      <td>10759547</td>\n",
       "      <td>0.0</td>\n",
       "      <td>0.0</td>\n",
       "      <td>NaN</td>\n",
       "      <td>NaN</td>\n",
       "      <td>6037.0</td>\n",
       "      <td>27516.0</td>\n",
       "      <td>NaN</td>\n",
       "      <td>261.0</td>\n",
       "      <td>Single Family Residential</td>\n",
       "    </tr>\n",
       "    <tr>\n",
       "      <th>1</th>\n",
       "      <td>11193347</td>\n",
       "      <td>0.0</td>\n",
       "      <td>0.0</td>\n",
       "      <td>NaN</td>\n",
       "      <td>NaN</td>\n",
       "      <td>6037.0</td>\n",
       "      <td>10.0</td>\n",
       "      <td>NaN</td>\n",
       "      <td>261.0</td>\n",
       "      <td>Single Family Residential</td>\n",
       "    </tr>\n",
       "    <tr>\n",
       "      <th>2</th>\n",
       "      <td>11215747</td>\n",
       "      <td>0.0</td>\n",
       "      <td>0.0</td>\n",
       "      <td>NaN</td>\n",
       "      <td>NaN</td>\n",
       "      <td>6037.0</td>\n",
       "      <td>10.0</td>\n",
       "      <td>NaN</td>\n",
       "      <td>261.0</td>\n",
       "      <td>Single Family Residential</td>\n",
       "    </tr>\n",
       "    <tr>\n",
       "      <th>3</th>\n",
       "      <td>11229347</td>\n",
       "      <td>0.0</td>\n",
       "      <td>0.0</td>\n",
       "      <td>NaN</td>\n",
       "      <td>NaN</td>\n",
       "      <td>6037.0</td>\n",
       "      <td>2108.0</td>\n",
       "      <td>174.21</td>\n",
       "      <td>261.0</td>\n",
       "      <td>Single Family Residential</td>\n",
       "    </tr>\n",
       "    <tr>\n",
       "      <th>5</th>\n",
       "      <td>11457547</td>\n",
       "      <td>0.0</td>\n",
       "      <td>0.0</td>\n",
       "      <td>NaN</td>\n",
       "      <td>NaN</td>\n",
       "      <td>6037.0</td>\n",
       "      <td>124.0</td>\n",
       "      <td>NaN</td>\n",
       "      <td>261.0</td>\n",
       "      <td>Single Family Residential</td>\n",
       "    </tr>\n",
       "    <tr>\n",
       "      <th>...</th>\n",
       "      <td>...</td>\n",
       "      <td>...</td>\n",
       "      <td>...</td>\n",
       "      <td>...</td>\n",
       "      <td>...</td>\n",
       "      <td>...</td>\n",
       "      <td>...</td>\n",
       "      <td>...</td>\n",
       "      <td>...</td>\n",
       "      <td>...</td>\n",
       "    </tr>\n",
       "    <tr>\n",
       "      <th>2152823</th>\n",
       "      <td>13889389</td>\n",
       "      <td>0.0</td>\n",
       "      <td>0.0</td>\n",
       "      <td>NaN</td>\n",
       "      <td>NaN</td>\n",
       "      <td>6059.0</td>\n",
       "      <td>2568893.0</td>\n",
       "      <td>27309.30</td>\n",
       "      <td>261.0</td>\n",
       "      <td>Single Family Residential</td>\n",
       "    </tr>\n",
       "    <tr>\n",
       "      <th>2152844</th>\n",
       "      <td>17204623</td>\n",
       "      <td>0.0</td>\n",
       "      <td>0.0</td>\n",
       "      <td>NaN</td>\n",
       "      <td>NaN</td>\n",
       "      <td>6111.0</td>\n",
       "      <td>92679.0</td>\n",
       "      <td>1090.16</td>\n",
       "      <td>261.0</td>\n",
       "      <td>Single Family Residential</td>\n",
       "    </tr>\n",
       "    <tr>\n",
       "      <th>2152854</th>\n",
       "      <td>11477607</td>\n",
       "      <td>0.0</td>\n",
       "      <td>0.0</td>\n",
       "      <td>NaN</td>\n",
       "      <td>NaN</td>\n",
       "      <td>6037.0</td>\n",
       "      <td>1198476.0</td>\n",
       "      <td>NaN</td>\n",
       "      <td>261.0</td>\n",
       "      <td>Single Family Residential</td>\n",
       "    </tr>\n",
       "    <tr>\n",
       "      <th>2152857</th>\n",
       "      <td>14359297</td>\n",
       "      <td>0.0</td>\n",
       "      <td>0.0</td>\n",
       "      <td>NaN</td>\n",
       "      <td>NaN</td>\n",
       "      <td>6059.0</td>\n",
       "      <td>1087111.0</td>\n",
       "      <td>19313.08</td>\n",
       "      <td>261.0</td>\n",
       "      <td>Single Family Residential</td>\n",
       "    </tr>\n",
       "    <tr>\n",
       "      <th>2152860</th>\n",
       "      <td>14356183</td>\n",
       "      <td>0.0</td>\n",
       "      <td>0.0</td>\n",
       "      <td>NaN</td>\n",
       "      <td>NaN</td>\n",
       "      <td>6059.0</td>\n",
       "      <td>208057.0</td>\n",
       "      <td>5783.88</td>\n",
       "      <td>261.0</td>\n",
       "      <td>Single Family Residential</td>\n",
       "    </tr>\n",
       "  </tbody>\n",
       "</table>\n",
       "<p>12088 rows × 10 columns</p>\n",
       "</div>"
      ],
      "text/plain": [
       "         parcelid  bedroomcnt  bathroomcnt  calculatedfinishedsquarefeet  \\\n",
       "0        10759547         0.0          0.0                           NaN   \n",
       "1        11193347         0.0          0.0                           NaN   \n",
       "2        11215747         0.0          0.0                           NaN   \n",
       "3        11229347         0.0          0.0                           NaN   \n",
       "5        11457547         0.0          0.0                           NaN   \n",
       "...           ...         ...          ...                           ...   \n",
       "2152823  13889389         0.0          0.0                           NaN   \n",
       "2152844  17204623         0.0          0.0                           NaN   \n",
       "2152854  11477607         0.0          0.0                           NaN   \n",
       "2152857  14359297         0.0          0.0                           NaN   \n",
       "2152860  14356183         0.0          0.0                           NaN   \n",
       "\n",
       "         yearbuilt    fips  taxvaluedollarcnt  taxamount  \\\n",
       "0              NaN  6037.0            27516.0        NaN   \n",
       "1              NaN  6037.0               10.0        NaN   \n",
       "2              NaN  6037.0               10.0        NaN   \n",
       "3              NaN  6037.0             2108.0     174.21   \n",
       "5              NaN  6037.0              124.0        NaN   \n",
       "...            ...     ...                ...        ...   \n",
       "2152823        NaN  6059.0          2568893.0   27309.30   \n",
       "2152844        NaN  6111.0            92679.0    1090.16   \n",
       "2152854        NaN  6037.0          1198476.0        NaN   \n",
       "2152857        NaN  6059.0          1087111.0   19313.08   \n",
       "2152860        NaN  6059.0           208057.0    5783.88   \n",
       "\n",
       "         propertylandusetypeid        propertylandusedesc  \n",
       "0                        261.0  Single Family Residential  \n",
       "1                        261.0  Single Family Residential  \n",
       "2                        261.0  Single Family Residential  \n",
       "3                        261.0  Single Family Residential  \n",
       "5                        261.0  Single Family Residential  \n",
       "...                        ...                        ...  \n",
       "2152823                  261.0  Single Family Residential  \n",
       "2152844                  261.0  Single Family Residential  \n",
       "2152854                  261.0  Single Family Residential  \n",
       "2152857                  261.0  Single Family Residential  \n",
       "2152860                  261.0  Single Family Residential  \n",
       "\n",
       "[12088 rows x 10 columns]"
      ]
     },
     "execution_count": 13,
     "metadata": {},
     "output_type": "execute_result"
    }
   ],
   "source": [
    "df[(df.bedroomcnt == 0) & (df.bathroomcnt == 0)]"
   ]
  },
  {
   "cell_type": "code",
   "execution_count": 14,
   "id": "0a5e4ffa",
   "metadata": {},
   "outputs": [
    {
     "name": "stdout",
     "output_type": "stream",
     "text": [
      "<class 'pandas.core.frame.DataFrame'>\n",
      "Int64Index: 12088 entries, 0 to 2152860\n",
      "Data columns (total 10 columns):\n",
      " #   Column                        Non-Null Count  Dtype  \n",
      "---  ------                        --------------  -----  \n",
      " 0   parcelid                      12088 non-null  int64  \n",
      " 1   bedroomcnt                    12088 non-null  float64\n",
      " 2   bathroomcnt                   12088 non-null  float64\n",
      " 3   calculatedfinishedsquarefeet  3833 non-null   float64\n",
      " 4   yearbuilt                     4023 non-null   float64\n",
      " 5   fips                          12088 non-null  float64\n",
      " 6   taxvaluedollarcnt             11705 non-null  float64\n",
      " 7   taxamount                     10174 non-null  float64\n",
      " 8   propertylandusetypeid         12088 non-null  float64\n",
      " 9   propertylandusedesc           12088 non-null  object \n",
      "dtypes: float64(8), int64(1), object(1)\n",
      "memory usage: 1.0+ MB\n"
     ]
    }
   ],
   "source": [
    "df[(df.bedroomcnt == 0) & (df.bathroomcnt == 0)].info(show_counts = True)"
   ]
  },
  {
   "cell_type": "markdown",
   "id": "bae74412",
   "metadata": {},
   "source": [
    "These are also missing a lot of data. So there is significant overlap between the two groups ($\\approx 0.92$)."
   ]
  },
  {
   "cell_type": "code",
   "execution_count": 15,
   "id": "b55d3e02",
   "metadata": {
    "scrolled": true
   },
   "outputs": [
    {
     "data": {
      "text/plain": [
       "0.0061253317094492315"
      ]
     },
     "execution_count": 15,
     "metadata": {},
     "output_type": "execute_result"
    }
   ],
   "source": [
    "df[df.bedroomcnt == 0].shape[0]/df.shape[0]"
   ]
  },
  {
   "cell_type": "markdown",
   "id": "8e07d51c",
   "metadata": {},
   "source": [
    "These represent a very small number of the data.  I expect that they can be dropped.  This will also drop a lot of the nulls in other columns."
   ]
  },
  {
   "cell_type": "code",
   "execution_count": 16,
   "id": "6376c160",
   "metadata": {},
   "outputs": [
    {
     "data": {
      "text/html": [
       "<div>\n",
       "<style scoped>\n",
       "    .dataframe tbody tr th:only-of-type {\n",
       "        vertical-align: middle;\n",
       "    }\n",
       "\n",
       "    .dataframe tbody tr th {\n",
       "        vertical-align: top;\n",
       "    }\n",
       "\n",
       "    .dataframe thead th {\n",
       "        text-align: right;\n",
       "    }\n",
       "</style>\n",
       "<table border=\"1\" class=\"dataframe\">\n",
       "  <thead>\n",
       "    <tr style=\"text-align: right;\">\n",
       "      <th></th>\n",
       "      <th>parcelid</th>\n",
       "      <th>bedroomcnt</th>\n",
       "      <th>bathroomcnt</th>\n",
       "      <th>calculatedfinishedsquarefeet</th>\n",
       "      <th>yearbuilt</th>\n",
       "      <th>fips</th>\n",
       "      <th>taxvaluedollarcnt</th>\n",
       "      <th>taxamount</th>\n",
       "      <th>propertylandusetypeid</th>\n",
       "      <th>propertylandusedesc</th>\n",
       "    </tr>\n",
       "  </thead>\n",
       "  <tbody>\n",
       "    <tr>\n",
       "      <th>4</th>\n",
       "      <td>11324547</td>\n",
       "      <td>4.0</td>\n",
       "      <td>2.0</td>\n",
       "      <td>3633.0</td>\n",
       "      <td>2005.0</td>\n",
       "      <td>6037.0</td>\n",
       "      <td>296425.0</td>\n",
       "      <td>6941.39</td>\n",
       "      <td>261.0</td>\n",
       "      <td>Single Family Residential</td>\n",
       "    </tr>\n",
       "    <tr>\n",
       "      <th>6</th>\n",
       "      <td>11544747</td>\n",
       "      <td>3.0</td>\n",
       "      <td>4.0</td>\n",
       "      <td>1620.0</td>\n",
       "      <td>2011.0</td>\n",
       "      <td>6037.0</td>\n",
       "      <td>847770.0</td>\n",
       "      <td>10244.94</td>\n",
       "      <td>261.0</td>\n",
       "      <td>Single Family Residential</td>\n",
       "    </tr>\n",
       "    <tr>\n",
       "      <th>7</th>\n",
       "      <td>11585547</td>\n",
       "      <td>3.0</td>\n",
       "      <td>2.0</td>\n",
       "      <td>2077.0</td>\n",
       "      <td>1926.0</td>\n",
       "      <td>6037.0</td>\n",
       "      <td>646760.0</td>\n",
       "      <td>7924.68</td>\n",
       "      <td>261.0</td>\n",
       "      <td>Single Family Residential</td>\n",
       "    </tr>\n",
       "    <tr>\n",
       "      <th>18</th>\n",
       "      <td>12716947</td>\n",
       "      <td>3.0</td>\n",
       "      <td>1.0</td>\n",
       "      <td>1244.0</td>\n",
       "      <td>1950.0</td>\n",
       "      <td>6037.0</td>\n",
       "      <td>169471.0</td>\n",
       "      <td>2532.88</td>\n",
       "      <td>261.0</td>\n",
       "      <td>Single Family Residential</td>\n",
       "    </tr>\n",
       "    <tr>\n",
       "      <th>19</th>\n",
       "      <td>12757147</td>\n",
       "      <td>3.0</td>\n",
       "      <td>2.0</td>\n",
       "      <td>1300.0</td>\n",
       "      <td>1950.0</td>\n",
       "      <td>6037.0</td>\n",
       "      <td>233266.0</td>\n",
       "      <td>3110.99</td>\n",
       "      <td>261.0</td>\n",
       "      <td>Single Family Residential</td>\n",
       "    </tr>\n",
       "    <tr>\n",
       "      <th>...</th>\n",
       "      <td>...</td>\n",
       "      <td>...</td>\n",
       "      <td>...</td>\n",
       "      <td>...</td>\n",
       "      <td>...</td>\n",
       "      <td>...</td>\n",
       "      <td>...</td>\n",
       "      <td>...</td>\n",
       "      <td>...</td>\n",
       "      <td>...</td>\n",
       "    </tr>\n",
       "    <tr>\n",
       "      <th>2152856</th>\n",
       "      <td>13027311</td>\n",
       "      <td>4.0</td>\n",
       "      <td>4.0</td>\n",
       "      <td>4375.0</td>\n",
       "      <td>2015.0</td>\n",
       "      <td>6037.0</td>\n",
       "      <td>422400.0</td>\n",
       "      <td>13877.56</td>\n",
       "      <td>261.0</td>\n",
       "      <td>Single Family Residential</td>\n",
       "    </tr>\n",
       "    <tr>\n",
       "      <th>2152858</th>\n",
       "      <td>14356230</td>\n",
       "      <td>4.0</td>\n",
       "      <td>3.0</td>\n",
       "      <td>2262.0</td>\n",
       "      <td>2015.0</td>\n",
       "      <td>6059.0</td>\n",
       "      <td>960756.0</td>\n",
       "      <td>13494.52</td>\n",
       "      <td>261.0</td>\n",
       "      <td>Single Family Residential</td>\n",
       "    </tr>\n",
       "    <tr>\n",
       "      <th>2152859</th>\n",
       "      <td>14157725</td>\n",
       "      <td>4.0</td>\n",
       "      <td>4.5</td>\n",
       "      <td>3127.0</td>\n",
       "      <td>2014.0</td>\n",
       "      <td>6059.0</td>\n",
       "      <td>536061.0</td>\n",
       "      <td>6244.16</td>\n",
       "      <td>261.0</td>\n",
       "      <td>Single Family Residential</td>\n",
       "    </tr>\n",
       "    <tr>\n",
       "      <th>2152861</th>\n",
       "      <td>14367624</td>\n",
       "      <td>3.0</td>\n",
       "      <td>2.5</td>\n",
       "      <td>1974.0</td>\n",
       "      <td>2015.0</td>\n",
       "      <td>6059.0</td>\n",
       "      <td>424353.0</td>\n",
       "      <td>5302.70</td>\n",
       "      <td>261.0</td>\n",
       "      <td>Single Family Residential</td>\n",
       "    </tr>\n",
       "    <tr>\n",
       "      <th>2152862</th>\n",
       "      <td>12385768</td>\n",
       "      <td>4.0</td>\n",
       "      <td>4.0</td>\n",
       "      <td>2110.0</td>\n",
       "      <td>2014.0</td>\n",
       "      <td>6037.0</td>\n",
       "      <td>554009.0</td>\n",
       "      <td>6761.20</td>\n",
       "      <td>261.0</td>\n",
       "      <td>Single Family Residential</td>\n",
       "    </tr>\n",
       "  </tbody>\n",
       "</table>\n",
       "<p>2139665 rows × 10 columns</p>\n",
       "</div>"
      ],
      "text/plain": [
       "         parcelid  bedroomcnt  bathroomcnt  calculatedfinishedsquarefeet  \\\n",
       "4        11324547         4.0          2.0                        3633.0   \n",
       "6        11544747         3.0          4.0                        1620.0   \n",
       "7        11585547         3.0          2.0                        2077.0   \n",
       "18       12716947         3.0          1.0                        1244.0   \n",
       "19       12757147         3.0          2.0                        1300.0   \n",
       "...           ...         ...          ...                           ...   \n",
       "2152856  13027311         4.0          4.0                        4375.0   \n",
       "2152858  14356230         4.0          3.0                        2262.0   \n",
       "2152859  14157725         4.0          4.5                        3127.0   \n",
       "2152861  14367624         3.0          2.5                        1974.0   \n",
       "2152862  12385768         4.0          4.0                        2110.0   \n",
       "\n",
       "         yearbuilt    fips  taxvaluedollarcnt  taxamount  \\\n",
       "4           2005.0  6037.0           296425.0    6941.39   \n",
       "6           2011.0  6037.0           847770.0   10244.94   \n",
       "7           1926.0  6037.0           646760.0    7924.68   \n",
       "18          1950.0  6037.0           169471.0    2532.88   \n",
       "19          1950.0  6037.0           233266.0    3110.99   \n",
       "...            ...     ...                ...        ...   \n",
       "2152856     2015.0  6037.0           422400.0   13877.56   \n",
       "2152858     2015.0  6059.0           960756.0   13494.52   \n",
       "2152859     2014.0  6059.0           536061.0    6244.16   \n",
       "2152861     2015.0  6059.0           424353.0    5302.70   \n",
       "2152862     2014.0  6037.0           554009.0    6761.20   \n",
       "\n",
       "         propertylandusetypeid        propertylandusedesc  \n",
       "4                        261.0  Single Family Residential  \n",
       "6                        261.0  Single Family Residential  \n",
       "7                        261.0  Single Family Residential  \n",
       "18                       261.0  Single Family Residential  \n",
       "19                       261.0  Single Family Residential  \n",
       "...                        ...                        ...  \n",
       "2152856                  261.0  Single Family Residential  \n",
       "2152858                  261.0  Single Family Residential  \n",
       "2152859                  261.0  Single Family Residential  \n",
       "2152861                  261.0  Single Family Residential  \n",
       "2152862                  261.0  Single Family Residential  \n",
       "\n",
       "[2139665 rows x 10 columns]"
      ]
     },
     "execution_count": 16,
     "metadata": {},
     "output_type": "execute_result"
    }
   ],
   "source": [
    "df[~(df.bedroomcnt.isnull()) & (df.bedroomcnt != 0)]"
   ]
  },
  {
   "cell_type": "code",
   "execution_count": 17,
   "id": "9a657c01",
   "metadata": {
    "scrolled": false
   },
   "outputs": [
    {
     "name": "stdout",
     "output_type": "stream",
     "text": [
      "<class 'pandas.core.frame.DataFrame'>\n",
      "RangeIndex: 2152863 entries, 0 to 2152862\n",
      "Data columns (total 10 columns):\n",
      " #   Column                        Dtype  \n",
      "---  ------                        -----  \n",
      " 0   parcelid                      int64  \n",
      " 1   bedroomcnt                    float64\n",
      " 2   bathroomcnt                   float64\n",
      " 3   calculatedfinishedsquarefeet  float64\n",
      " 4   yearbuilt                     float64\n",
      " 5   fips                          float64\n",
      " 6   taxvaluedollarcnt             float64\n",
      " 7   taxamount                     float64\n",
      " 8   propertylandusetypeid         float64\n",
      " 9   propertylandusedesc           object \n",
      "dtypes: float64(8), int64(1), object(1)\n",
      "memory usage: 164.3+ MB\n"
     ]
    }
   ],
   "source": [
    "df.info()"
   ]
  },
  {
   "cell_type": "code",
   "execution_count": 18,
   "id": "5255b3e3",
   "metadata": {
    "scrolled": true
   },
   "outputs": [
    {
     "data": {
      "text/plain": [
       "parcelid                           0\n",
       "bedroomcnt                        11\n",
       "bathroomcnt                       11\n",
       "calculatedfinishedsquarefeet    8484\n",
       "yearbuilt                       9337\n",
       "fips                               0\n",
       "taxvaluedollarcnt                493\n",
       "taxamount                       4442\n",
       "propertylandusetypeid              0\n",
       "propertylandusedesc                0\n",
       "dtype: int64"
      ]
     },
     "execution_count": 18,
     "metadata": {},
     "output_type": "execute_result"
    }
   ],
   "source": [
    "df.isnull().sum()"
   ]
  },
  {
   "cell_type": "markdown",
   "id": "eb89f9d3",
   "metadata": {},
   "source": [
    "There was a lot of overlap in the columns with nulls."
   ]
  },
  {
   "cell_type": "code",
   "execution_count": 19,
   "id": "16d7024a",
   "metadata": {},
   "outputs": [
    {
     "data": {
      "text/plain": [
       "1.0"
      ]
     },
     "execution_count": 19,
     "metadata": {},
     "output_type": "execute_result"
    }
   ],
   "source": [
    "1 - (original_num_of_rows - df.shape[0])/original_num_of_rows"
   ]
  },
  {
   "cell_type": "markdown",
   "id": "a31e243d",
   "metadata": {},
   "source": [
    "$0.9939$ of the data is retained.\n",
    "\n",
    "#### Solving nulls in the `bathroomcnt`"
   ]
  },
  {
   "cell_type": "markdown",
   "id": "876d157e",
   "metadata": {},
   "source": [
    "Consider their distribution"
   ]
  },
  {
   "cell_type": "code",
   "execution_count": 20,
   "id": "ffdd20b9",
   "metadata": {
    "scrolled": true
   },
   "outputs": [
    {
     "data": {
      "text/plain": [
       "count    2.152852e+06\n",
       "mean     2.230688e+00\n",
       "std      9.992796e-01\n",
       "min      0.000000e+00\n",
       "25%      2.000000e+00\n",
       "50%      2.000000e+00\n",
       "75%      3.000000e+00\n",
       "max      3.200000e+01\n",
       "Name: bathroomcnt, dtype: float64"
      ]
     },
     "execution_count": 20,
     "metadata": {},
     "output_type": "execute_result"
    }
   ],
   "source": [
    "df.bathroomcnt.describe()"
   ]
  },
  {
   "cell_type": "code",
   "execution_count": 21,
   "id": "79a2336f",
   "metadata": {
    "scrolled": false
   },
   "outputs": [
    {
     "data": {
      "text/plain": [
       "2.00     943589\n",
       "3.00     422841\n",
       "1.00     414324\n",
       "2.50     142981\n",
       "4.00      82155\n",
       "1.50      31211\n",
       "3.50      28518\n",
       "5.00      28362\n",
       "4.50      19506\n",
       "0.00      13027\n",
       "6.00      10747\n",
       "5.50       6217\n",
       "7.00       4394\n",
       "8.00       1692\n",
       "6.50       1333\n",
       "9.00        713\n",
       "7.50        384\n",
       "10.00       325\n",
       "11.00       146\n",
       "8.50        110\n",
       "12.00        73\n",
       "9.50         50\n",
       "13.00        39\n",
       "14.00        25\n",
       "15.00        17\n",
       "0.50         16\n",
       "10.50        14\n",
       "16.00        12\n",
       "18.00         8\n",
       "20.00         6\n",
       "17.00         4\n",
       "1.75          3\n",
       "12.50         3\n",
       "11.50         3\n",
       "19.50         1\n",
       "14.50         1\n",
       "32.00         1\n",
       "19.00         1\n",
       "Name: bathroomcnt, dtype: int64"
      ]
     },
     "execution_count": 21,
     "metadata": {},
     "output_type": "execute_result"
    }
   ],
   "source": [
    "df.bathroomcnt.value_counts()"
   ]
  },
  {
   "cell_type": "markdown",
   "id": "da83e781",
   "metadata": {},
   "source": [
    "A house with $>10$ bathrooms is suspicious.  Take a look at these."
   ]
  },
  {
   "cell_type": "code",
   "execution_count": 22,
   "id": "41d3fcb6",
   "metadata": {
    "scrolled": true
   },
   "outputs": [
    {
     "data": {
      "text/html": [
       "<div>\n",
       "<style scoped>\n",
       "    .dataframe tbody tr th:only-of-type {\n",
       "        vertical-align: middle;\n",
       "    }\n",
       "\n",
       "    .dataframe tbody tr th {\n",
       "        vertical-align: top;\n",
       "    }\n",
       "\n",
       "    .dataframe thead th {\n",
       "        text-align: right;\n",
       "    }\n",
       "</style>\n",
       "<table border=\"1\" class=\"dataframe\">\n",
       "  <thead>\n",
       "    <tr style=\"text-align: right;\">\n",
       "      <th></th>\n",
       "      <th>parcelid</th>\n",
       "      <th>bedroomcnt</th>\n",
       "      <th>bathroomcnt</th>\n",
       "      <th>calculatedfinishedsquarefeet</th>\n",
       "      <th>yearbuilt</th>\n",
       "      <th>fips</th>\n",
       "      <th>taxvaluedollarcnt</th>\n",
       "      <th>taxamount</th>\n",
       "      <th>propertylandusetypeid</th>\n",
       "    </tr>\n",
       "  </thead>\n",
       "  <tbody>\n",
       "    <tr>\n",
       "      <th>count</th>\n",
       "      <td>3.540000e+02</td>\n",
       "      <td>354.000000</td>\n",
       "      <td>354.000000</td>\n",
       "      <td>354.000000</td>\n",
       "      <td>353.000000</td>\n",
       "      <td>354.000000</td>\n",
       "      <td>3.540000e+02</td>\n",
       "      <td>3.540000e+02</td>\n",
       "      <td>354.0</td>\n",
       "    </tr>\n",
       "    <tr>\n",
       "      <th>mean</th>\n",
       "      <td>1.241691e+07</td>\n",
       "      <td>7.641243</td>\n",
       "      <td>12.491525</td>\n",
       "      <td>14305.997175</td>\n",
       "      <td>1985.141643</td>\n",
       "      <td>6039.050847</td>\n",
       "      <td>1.197294e+07</td>\n",
       "      <td>1.394320e+05</td>\n",
       "      <td>261.0</td>\n",
       "    </tr>\n",
       "    <tr>\n",
       "      <th>std</th>\n",
       "      <td>8.320160e+06</td>\n",
       "      <td>2.740649</td>\n",
       "      <td>2.296058</td>\n",
       "      <td>6592.915212</td>\n",
       "      <td>28.562079</td>\n",
       "      <td>6.405355</td>\n",
       "      <td>1.288295e+07</td>\n",
       "      <td>1.523806e+05</td>\n",
       "      <td>0.0</td>\n",
       "    </tr>\n",
       "    <tr>\n",
       "      <th>min</th>\n",
       "      <td>1.073677e+07</td>\n",
       "      <td>0.000000</td>\n",
       "      <td>10.500000</td>\n",
       "      <td>10.000000</td>\n",
       "      <td>1912.000000</td>\n",
       "      <td>6037.000000</td>\n",
       "      <td>6.788700e+04</td>\n",
       "      <td>3.690800e+02</td>\n",
       "      <td>261.0</td>\n",
       "    </tr>\n",
       "    <tr>\n",
       "      <th>25%</th>\n",
       "      <td>1.164005e+07</td>\n",
       "      <td>7.000000</td>\n",
       "      <td>11.000000</td>\n",
       "      <td>10353.750000</td>\n",
       "      <td>1970.000000</td>\n",
       "      <td>6037.000000</td>\n",
       "      <td>4.089012e+06</td>\n",
       "      <td>4.673757e+04</td>\n",
       "      <td>261.0</td>\n",
       "    </tr>\n",
       "    <tr>\n",
       "      <th>50%</th>\n",
       "      <td>1.165495e+07</td>\n",
       "      <td>8.000000</td>\n",
       "      <td>12.000000</td>\n",
       "      <td>13184.000000</td>\n",
       "      <td>1997.000000</td>\n",
       "      <td>6037.000000</td>\n",
       "      <td>8.061433e+06</td>\n",
       "      <td>9.240656e+04</td>\n",
       "      <td>261.0</td>\n",
       "    </tr>\n",
       "    <tr>\n",
       "      <th>75%</th>\n",
       "      <td>1.198903e+07</td>\n",
       "      <td>9.000000</td>\n",
       "      <td>13.000000</td>\n",
       "      <td>17306.500000</td>\n",
       "      <td>2007.000000</td>\n",
       "      <td>6037.000000</td>\n",
       "      <td>1.492209e+07</td>\n",
       "      <td>1.736906e+05</td>\n",
       "      <td>261.0</td>\n",
       "    </tr>\n",
       "    <tr>\n",
       "      <th>max</th>\n",
       "      <td>1.676377e+08</td>\n",
       "      <td>25.000000</td>\n",
       "      <td>32.000000</td>\n",
       "      <td>52503.000000</td>\n",
       "      <td>2016.000000</td>\n",
       "      <td>6059.000000</td>\n",
       "      <td>9.018846e+07</td>\n",
       "      <td>1.078102e+06</td>\n",
       "      <td>261.0</td>\n",
       "    </tr>\n",
       "  </tbody>\n",
       "</table>\n",
       "</div>"
      ],
      "text/plain": [
       "           parcelid  bedroomcnt  bathroomcnt  calculatedfinishedsquarefeet  \\\n",
       "count  3.540000e+02  354.000000   354.000000                    354.000000   \n",
       "mean   1.241691e+07    7.641243    12.491525                  14305.997175   \n",
       "std    8.320160e+06    2.740649     2.296058                   6592.915212   \n",
       "min    1.073677e+07    0.000000    10.500000                     10.000000   \n",
       "25%    1.164005e+07    7.000000    11.000000                  10353.750000   \n",
       "50%    1.165495e+07    8.000000    12.000000                  13184.000000   \n",
       "75%    1.198903e+07    9.000000    13.000000                  17306.500000   \n",
       "max    1.676377e+08   25.000000    32.000000                  52503.000000   \n",
       "\n",
       "         yearbuilt         fips  taxvaluedollarcnt     taxamount  \\\n",
       "count   353.000000   354.000000       3.540000e+02  3.540000e+02   \n",
       "mean   1985.141643  6039.050847       1.197294e+07  1.394320e+05   \n",
       "std      28.562079     6.405355       1.288295e+07  1.523806e+05   \n",
       "min    1912.000000  6037.000000       6.788700e+04  3.690800e+02   \n",
       "25%    1970.000000  6037.000000       4.089012e+06  4.673757e+04   \n",
       "50%    1997.000000  6037.000000       8.061433e+06  9.240656e+04   \n",
       "75%    2007.000000  6037.000000       1.492209e+07  1.736906e+05   \n",
       "max    2016.000000  6059.000000       9.018846e+07  1.078102e+06   \n",
       "\n",
       "       propertylandusetypeid  \n",
       "count                  354.0  \n",
       "mean                   261.0  \n",
       "std                      0.0  \n",
       "min                    261.0  \n",
       "25%                    261.0  \n",
       "50%                    261.0  \n",
       "75%                    261.0  \n",
       "max                    261.0  "
      ]
     },
     "execution_count": 22,
     "metadata": {},
     "output_type": "execute_result"
    }
   ],
   "source": [
    "df[df.bathroomcnt > 10].describe()"
   ]
  },
  {
   "cell_type": "code",
   "execution_count": 23,
   "id": "58222a2f",
   "metadata": {
    "scrolled": false
   },
   "outputs": [
    {
     "data": {
      "text/html": [
       "<div>\n",
       "<style scoped>\n",
       "    .dataframe tbody tr th:only-of-type {\n",
       "        vertical-align: middle;\n",
       "    }\n",
       "\n",
       "    .dataframe tbody tr th {\n",
       "        vertical-align: top;\n",
       "    }\n",
       "\n",
       "    .dataframe thead th {\n",
       "        text-align: right;\n",
       "    }\n",
       "</style>\n",
       "<table border=\"1\" class=\"dataframe\">\n",
       "  <thead>\n",
       "    <tr style=\"text-align: right;\">\n",
       "      <th></th>\n",
       "      <th>parcelid</th>\n",
       "      <th>bedroomcnt</th>\n",
       "      <th>bathroomcnt</th>\n",
       "      <th>calculatedfinishedsquarefeet</th>\n",
       "      <th>yearbuilt</th>\n",
       "      <th>fips</th>\n",
       "      <th>taxvaluedollarcnt</th>\n",
       "      <th>taxamount</th>\n",
       "      <th>propertylandusetypeid</th>\n",
       "      <th>propertylandusedesc</th>\n",
       "    </tr>\n",
       "  </thead>\n",
       "  <tbody>\n",
       "    <tr>\n",
       "      <th>3301</th>\n",
       "      <td>11679408</td>\n",
       "      <td>7.0</td>\n",
       "      <td>11.0</td>\n",
       "      <td>8272.0</td>\n",
       "      <td>2001.0</td>\n",
       "      <td>6037.0</td>\n",
       "      <td>4525353.0</td>\n",
       "      <td>52681.75</td>\n",
       "      <td>261.0</td>\n",
       "      <td>Single Family Residential</td>\n",
       "    </tr>\n",
       "    <tr>\n",
       "      <th>3312</th>\n",
       "      <td>11684258</td>\n",
       "      <td>7.0</td>\n",
       "      <td>11.0</td>\n",
       "      <td>11810.0</td>\n",
       "      <td>1980.0</td>\n",
       "      <td>6037.0</td>\n",
       "      <td>30166843.0</td>\n",
       "      <td>342940.38</td>\n",
       "      <td>261.0</td>\n",
       "      <td>Single Family Residential</td>\n",
       "    </tr>\n",
       "    <tr>\n",
       "      <th>13992</th>\n",
       "      <td>11645314</td>\n",
       "      <td>5.0</td>\n",
       "      <td>13.0</td>\n",
       "      <td>19335.0</td>\n",
       "      <td>1997.0</td>\n",
       "      <td>6037.0</td>\n",
       "      <td>10904781.0</td>\n",
       "      <td>131646.20</td>\n",
       "      <td>261.0</td>\n",
       "      <td>Single Family Residential</td>\n",
       "    </tr>\n",
       "    <tr>\n",
       "      <th>24679</th>\n",
       "      <td>11641881</td>\n",
       "      <td>8.0</td>\n",
       "      <td>11.0</td>\n",
       "      <td>10352.0</td>\n",
       "      <td>1939.0</td>\n",
       "      <td>6037.0</td>\n",
       "      <td>2977691.0</td>\n",
       "      <td>36085.16</td>\n",
       "      <td>261.0</td>\n",
       "      <td>Single Family Residential</td>\n",
       "    </tr>\n",
       "    <tr>\n",
       "      <th>26485</th>\n",
       "      <td>12325767</td>\n",
       "      <td>25.0</td>\n",
       "      <td>20.0</td>\n",
       "      <td>11700.0</td>\n",
       "      <td>2010.0</td>\n",
       "      <td>6037.0</td>\n",
       "      <td>1608491.0</td>\n",
       "      <td>19238.87</td>\n",
       "      <td>261.0</td>\n",
       "      <td>Single Family Residential</td>\n",
       "    </tr>\n",
       "    <tr>\n",
       "      <th>...</th>\n",
       "      <td>...</td>\n",
       "      <td>...</td>\n",
       "      <td>...</td>\n",
       "      <td>...</td>\n",
       "      <td>...</td>\n",
       "      <td>...</td>\n",
       "      <td>...</td>\n",
       "      <td>...</td>\n",
       "      <td>...</td>\n",
       "      <td>...</td>\n",
       "    </tr>\n",
       "    <tr>\n",
       "      <th>2134701</th>\n",
       "      <td>11660050</td>\n",
       "      <td>8.0</td>\n",
       "      <td>12.0</td>\n",
       "      <td>16152.0</td>\n",
       "      <td>2009.0</td>\n",
       "      <td>6037.0</td>\n",
       "      <td>17000000.0</td>\n",
       "      <td>203513.62</td>\n",
       "      <td>261.0</td>\n",
       "      <td>Single Family Residential</td>\n",
       "    </tr>\n",
       "    <tr>\n",
       "      <th>2135273</th>\n",
       "      <td>11887283</td>\n",
       "      <td>10.0</td>\n",
       "      <td>19.0</td>\n",
       "      <td>31415.0</td>\n",
       "      <td>1991.0</td>\n",
       "      <td>6037.0</td>\n",
       "      <td>6401936.0</td>\n",
       "      <td>73571.72</td>\n",
       "      <td>261.0</td>\n",
       "      <td>Single Family Residential</td>\n",
       "    </tr>\n",
       "    <tr>\n",
       "      <th>2138637</th>\n",
       "      <td>12969868</td>\n",
       "      <td>10.0</td>\n",
       "      <td>16.0</td>\n",
       "      <td>19803.0</td>\n",
       "      <td>2000.0</td>\n",
       "      <td>6037.0</td>\n",
       "      <td>4197539.0</td>\n",
       "      <td>55454.21</td>\n",
       "      <td>261.0</td>\n",
       "      <td>Single Family Residential</td>\n",
       "    </tr>\n",
       "    <tr>\n",
       "      <th>2141564</th>\n",
       "      <td>13074473</td>\n",
       "      <td>10.0</td>\n",
       "      <td>11.0</td>\n",
       "      <td>20281.0</td>\n",
       "      <td>2001.0</td>\n",
       "      <td>6037.0</td>\n",
       "      <td>4073278.0</td>\n",
       "      <td>45903.84</td>\n",
       "      <td>261.0</td>\n",
       "      <td>Single Family Residential</td>\n",
       "    </tr>\n",
       "    <tr>\n",
       "      <th>2142007</th>\n",
       "      <td>11655330</td>\n",
       "      <td>7.0</td>\n",
       "      <td>11.0</td>\n",
       "      <td>13168.0</td>\n",
       "      <td>2007.0</td>\n",
       "      <td>6037.0</td>\n",
       "      <td>19972490.0</td>\n",
       "      <td>239092.47</td>\n",
       "      <td>261.0</td>\n",
       "      <td>Single Family Residential</td>\n",
       "    </tr>\n",
       "  </tbody>\n",
       "</table>\n",
       "<p>354 rows × 10 columns</p>\n",
       "</div>"
      ],
      "text/plain": [
       "         parcelid  bedroomcnt  bathroomcnt  calculatedfinishedsquarefeet  \\\n",
       "3301     11679408         7.0         11.0                        8272.0   \n",
       "3312     11684258         7.0         11.0                       11810.0   \n",
       "13992    11645314         5.0         13.0                       19335.0   \n",
       "24679    11641881         8.0         11.0                       10352.0   \n",
       "26485    12325767        25.0         20.0                       11700.0   \n",
       "...           ...         ...          ...                           ...   \n",
       "2134701  11660050         8.0         12.0                       16152.0   \n",
       "2135273  11887283        10.0         19.0                       31415.0   \n",
       "2138637  12969868        10.0         16.0                       19803.0   \n",
       "2141564  13074473        10.0         11.0                       20281.0   \n",
       "2142007  11655330         7.0         11.0                       13168.0   \n",
       "\n",
       "         yearbuilt    fips  taxvaluedollarcnt  taxamount  \\\n",
       "3301        2001.0  6037.0          4525353.0   52681.75   \n",
       "3312        1980.0  6037.0         30166843.0  342940.38   \n",
       "13992       1997.0  6037.0         10904781.0  131646.20   \n",
       "24679       1939.0  6037.0          2977691.0   36085.16   \n",
       "26485       2010.0  6037.0          1608491.0   19238.87   \n",
       "...            ...     ...                ...        ...   \n",
       "2134701     2009.0  6037.0         17000000.0  203513.62   \n",
       "2135273     1991.0  6037.0          6401936.0   73571.72   \n",
       "2138637     2000.0  6037.0          4197539.0   55454.21   \n",
       "2141564     2001.0  6037.0          4073278.0   45903.84   \n",
       "2142007     2007.0  6037.0         19972490.0  239092.47   \n",
       "\n",
       "         propertylandusetypeid        propertylandusedesc  \n",
       "3301                     261.0  Single Family Residential  \n",
       "3312                     261.0  Single Family Residential  \n",
       "13992                    261.0  Single Family Residential  \n",
       "24679                    261.0  Single Family Residential  \n",
       "26485                    261.0  Single Family Residential  \n",
       "...                        ...                        ...  \n",
       "2134701                  261.0  Single Family Residential  \n",
       "2135273                  261.0  Single Family Residential  \n",
       "2138637                  261.0  Single Family Residential  \n",
       "2141564                  261.0  Single Family Residential  \n",
       "2142007                  261.0  Single Family Residential  \n",
       "\n",
       "[354 rows x 10 columns]"
      ]
     },
     "execution_count": 23,
     "metadata": {},
     "output_type": "execute_result"
    }
   ],
   "source": [
    "df[df.bathroomcnt > 10]"
   ]
  },
  {
   "cell_type": "code",
   "execution_count": 24,
   "id": "119ba174",
   "metadata": {},
   "outputs": [
    {
     "data": {
      "text/plain": [
       "<AxesSubplot:>"
      ]
     },
     "execution_count": 24,
     "metadata": {},
     "output_type": "execute_result"
    },
    {
     "data": {
      "image/png": "[encoded data removed]",
      "text/plain": [
       "<Figure size 432x288 with 1 Axes>"
      ]
     },
     "metadata": {
      "needs_background": "light"
     },
     "output_type": "display_data"
    }
   ],
   "source": [
    "df[df.bathroomcnt > 10].calculatedfinishedsquarefeet.hist(bins=50)"
   ]
  },
  {
   "cell_type": "code",
   "execution_count": 25,
   "id": "390919c4",
   "metadata": {},
   "outputs": [
    {
     "data": {
      "text/plain": [
       "<AxesSubplot:>"
      ]
     },
     "execution_count": 25,
     "metadata": {},
     "output_type": "execute_result"
    },
    {
     "data": {
      "image/png": "[encoded data removed]",
      "text/plain": [
       "<Figure size 432x288 with 1 Axes>"
      ]
     },
     "metadata": {
      "needs_background": "light"
     },
     "output_type": "display_data"
    }
   ],
   "source": [
    "df[df.bathroomcnt > 10].bedroomcnt.hist(bins=50)"
   ]
  },
  {
   "cell_type": "markdown",
   "id": "7bf99a64",
   "metadata": {},
   "source": [
    "These are suspicious values.  They probably might be answered by investigating the rows with `bathroomcnt==0` and in exploring the data in `calculatedfinishedsquarefeet`."
   ]
  },
  {
   "cell_type": "code",
   "execution_count": 26,
   "id": "8375f423",
   "metadata": {
    "scrolled": false
   },
   "outputs": [
    {
     "data": {
      "text/html": [
       "<div>\n",
       "<style scoped>\n",
       "    .dataframe tbody tr th:only-of-type {\n",
       "        vertical-align: middle;\n",
       "    }\n",
       "\n",
       "    .dataframe tbody tr th {\n",
       "        vertical-align: top;\n",
       "    }\n",
       "\n",
       "    .dataframe thead th {\n",
       "        text-align: right;\n",
       "    }\n",
       "</style>\n",
       "<table border=\"1\" class=\"dataframe\">\n",
       "  <thead>\n",
       "    <tr style=\"text-align: right;\">\n",
       "      <th></th>\n",
       "      <th>parcelid</th>\n",
       "      <th>bedroomcnt</th>\n",
       "      <th>bathroomcnt</th>\n",
       "      <th>calculatedfinishedsquarefeet</th>\n",
       "      <th>yearbuilt</th>\n",
       "      <th>fips</th>\n",
       "      <th>taxvaluedollarcnt</th>\n",
       "      <th>taxamount</th>\n",
       "      <th>propertylandusetypeid</th>\n",
       "      <th>propertylandusedesc</th>\n",
       "    </tr>\n",
       "  </thead>\n",
       "  <tbody>\n",
       "    <tr>\n",
       "      <th>0</th>\n",
       "      <td>10759547</td>\n",
       "      <td>0.0</td>\n",
       "      <td>0.0</td>\n",
       "      <td>NaN</td>\n",
       "      <td>NaN</td>\n",
       "      <td>6037.0</td>\n",
       "      <td>27516.0</td>\n",
       "      <td>NaN</td>\n",
       "      <td>261.0</td>\n",
       "      <td>Single Family Residential</td>\n",
       "    </tr>\n",
       "    <tr>\n",
       "      <th>1</th>\n",
       "      <td>11193347</td>\n",
       "      <td>0.0</td>\n",
       "      <td>0.0</td>\n",
       "      <td>NaN</td>\n",
       "      <td>NaN</td>\n",
       "      <td>6037.0</td>\n",
       "      <td>10.0</td>\n",
       "      <td>NaN</td>\n",
       "      <td>261.0</td>\n",
       "      <td>Single Family Residential</td>\n",
       "    </tr>\n",
       "    <tr>\n",
       "      <th>2</th>\n",
       "      <td>11215747</td>\n",
       "      <td>0.0</td>\n",
       "      <td>0.0</td>\n",
       "      <td>NaN</td>\n",
       "      <td>NaN</td>\n",
       "      <td>6037.0</td>\n",
       "      <td>10.0</td>\n",
       "      <td>NaN</td>\n",
       "      <td>261.0</td>\n",
       "      <td>Single Family Residential</td>\n",
       "    </tr>\n",
       "    <tr>\n",
       "      <th>3</th>\n",
       "      <td>11229347</td>\n",
       "      <td>0.0</td>\n",
       "      <td>0.0</td>\n",
       "      <td>NaN</td>\n",
       "      <td>NaN</td>\n",
       "      <td>6037.0</td>\n",
       "      <td>2108.0</td>\n",
       "      <td>174.21</td>\n",
       "      <td>261.0</td>\n",
       "      <td>Single Family Residential</td>\n",
       "    </tr>\n",
       "    <tr>\n",
       "      <th>5</th>\n",
       "      <td>11457547</td>\n",
       "      <td>0.0</td>\n",
       "      <td>0.0</td>\n",
       "      <td>NaN</td>\n",
       "      <td>NaN</td>\n",
       "      <td>6037.0</td>\n",
       "      <td>124.0</td>\n",
       "      <td>NaN</td>\n",
       "      <td>261.0</td>\n",
       "      <td>Single Family Residential</td>\n",
       "    </tr>\n",
       "    <tr>\n",
       "      <th>...</th>\n",
       "      <td>...</td>\n",
       "      <td>...</td>\n",
       "      <td>...</td>\n",
       "      <td>...</td>\n",
       "      <td>...</td>\n",
       "      <td>...</td>\n",
       "      <td>...</td>\n",
       "      <td>...</td>\n",
       "      <td>...</td>\n",
       "      <td>...</td>\n",
       "    </tr>\n",
       "    <tr>\n",
       "      <th>2152823</th>\n",
       "      <td>13889389</td>\n",
       "      <td>0.0</td>\n",
       "      <td>0.0</td>\n",
       "      <td>NaN</td>\n",
       "      <td>NaN</td>\n",
       "      <td>6059.0</td>\n",
       "      <td>2568893.0</td>\n",
       "      <td>27309.30</td>\n",
       "      <td>261.0</td>\n",
       "      <td>Single Family Residential</td>\n",
       "    </tr>\n",
       "    <tr>\n",
       "      <th>2152844</th>\n",
       "      <td>17204623</td>\n",
       "      <td>0.0</td>\n",
       "      <td>0.0</td>\n",
       "      <td>NaN</td>\n",
       "      <td>NaN</td>\n",
       "      <td>6111.0</td>\n",
       "      <td>92679.0</td>\n",
       "      <td>1090.16</td>\n",
       "      <td>261.0</td>\n",
       "      <td>Single Family Residential</td>\n",
       "    </tr>\n",
       "    <tr>\n",
       "      <th>2152854</th>\n",
       "      <td>11477607</td>\n",
       "      <td>0.0</td>\n",
       "      <td>0.0</td>\n",
       "      <td>NaN</td>\n",
       "      <td>NaN</td>\n",
       "      <td>6037.0</td>\n",
       "      <td>1198476.0</td>\n",
       "      <td>NaN</td>\n",
       "      <td>261.0</td>\n",
       "      <td>Single Family Residential</td>\n",
       "    </tr>\n",
       "    <tr>\n",
       "      <th>2152857</th>\n",
       "      <td>14359297</td>\n",
       "      <td>0.0</td>\n",
       "      <td>0.0</td>\n",
       "      <td>NaN</td>\n",
       "      <td>NaN</td>\n",
       "      <td>6059.0</td>\n",
       "      <td>1087111.0</td>\n",
       "      <td>19313.08</td>\n",
       "      <td>261.0</td>\n",
       "      <td>Single Family Residential</td>\n",
       "    </tr>\n",
       "    <tr>\n",
       "      <th>2152860</th>\n",
       "      <td>14356183</td>\n",
       "      <td>0.0</td>\n",
       "      <td>0.0</td>\n",
       "      <td>NaN</td>\n",
       "      <td>NaN</td>\n",
       "      <td>6059.0</td>\n",
       "      <td>208057.0</td>\n",
       "      <td>5783.88</td>\n",
       "      <td>261.0</td>\n",
       "      <td>Single Family Residential</td>\n",
       "    </tr>\n",
       "  </tbody>\n",
       "</table>\n",
       "<p>13027 rows × 10 columns</p>\n",
       "</div>"
      ],
      "text/plain": [
       "         parcelid  bedroomcnt  bathroomcnt  calculatedfinishedsquarefeet  \\\n",
       "0        10759547         0.0          0.0                           NaN   \n",
       "1        11193347         0.0          0.0                           NaN   \n",
       "2        11215747         0.0          0.0                           NaN   \n",
       "3        11229347         0.0          0.0                           NaN   \n",
       "5        11457547         0.0          0.0                           NaN   \n",
       "...           ...         ...          ...                           ...   \n",
       "2152823  13889389         0.0          0.0                           NaN   \n",
       "2152844  17204623         0.0          0.0                           NaN   \n",
       "2152854  11477607         0.0          0.0                           NaN   \n",
       "2152857  14359297         0.0          0.0                           NaN   \n",
       "2152860  14356183         0.0          0.0                           NaN   \n",
       "\n",
       "         yearbuilt    fips  taxvaluedollarcnt  taxamount  \\\n",
       "0              NaN  6037.0            27516.0        NaN   \n",
       "1              NaN  6037.0               10.0        NaN   \n",
       "2              NaN  6037.0               10.0        NaN   \n",
       "3              NaN  6037.0             2108.0     174.21   \n",
       "5              NaN  6037.0              124.0        NaN   \n",
       "...            ...     ...                ...        ...   \n",
       "2152823        NaN  6059.0          2568893.0   27309.30   \n",
       "2152844        NaN  6111.0            92679.0    1090.16   \n",
       "2152854        NaN  6037.0          1198476.0        NaN   \n",
       "2152857        NaN  6059.0          1087111.0   19313.08   \n",
       "2152860        NaN  6059.0           208057.0    5783.88   \n",
       "\n",
       "         propertylandusetypeid        propertylandusedesc  \n",
       "0                        261.0  Single Family Residential  \n",
       "1                        261.0  Single Family Residential  \n",
       "2                        261.0  Single Family Residential  \n",
       "3                        261.0  Single Family Residential  \n",
       "5                        261.0  Single Family Residential  \n",
       "...                        ...                        ...  \n",
       "2152823                  261.0  Single Family Residential  \n",
       "2152844                  261.0  Single Family Residential  \n",
       "2152854                  261.0  Single Family Residential  \n",
       "2152857                  261.0  Single Family Residential  \n",
       "2152860                  261.0  Single Family Residential  \n",
       "\n",
       "[13027 rows x 10 columns]"
      ]
     },
     "execution_count": 26,
     "metadata": {},
     "output_type": "execute_result"
    }
   ],
   "source": [
    "df[df.bathroomcnt <= 0]"
   ]
  },
  {
   "cell_type": "code",
   "execution_count": 27,
   "id": "f47ea90c",
   "metadata": {},
   "outputs": [
    {
     "data": {
      "text/plain": [
       "<AxesSubplot:>"
      ]
     },
     "execution_count": 27,
     "metadata": {},
     "output_type": "execute_result"
    },
    {
     "data": {
      "image/png": "[encoded data removed]",
      "text/plain": [
       "<Figure size 432x288 with 1 Axes>"
      ]
     },
     "metadata": {
      "needs_background": "light"
     },
     "output_type": "display_data"
    }
   ],
   "source": [
    "df[df.bathroomcnt <= 0].yearbuilt.hist()"
   ]
  },
  {
   "cell_type": "code",
   "execution_count": 28,
   "id": "1f9a3559",
   "metadata": {},
   "outputs": [
    {
     "data": {
      "text/html": [
       "<div>\n",
       "<style scoped>\n",
       "    .dataframe tbody tr th:only-of-type {\n",
       "        vertical-align: middle;\n",
       "    }\n",
       "\n",
       "    .dataframe tbody tr th {\n",
       "        vertical-align: top;\n",
       "    }\n",
       "\n",
       "    .dataframe thead th {\n",
       "        text-align: right;\n",
       "    }\n",
       "</style>\n",
       "<table border=\"1\" class=\"dataframe\">\n",
       "  <thead>\n",
       "    <tr style=\"text-align: right;\">\n",
       "      <th></th>\n",
       "      <th>parcelid</th>\n",
       "      <th>bedroomcnt</th>\n",
       "      <th>bathroomcnt</th>\n",
       "      <th>calculatedfinishedsquarefeet</th>\n",
       "      <th>yearbuilt</th>\n",
       "      <th>fips</th>\n",
       "      <th>taxvaluedollarcnt</th>\n",
       "      <th>taxamount</th>\n",
       "      <th>propertylandusetypeid</th>\n",
       "    </tr>\n",
       "  </thead>\n",
       "  <tbody>\n",
       "    <tr>\n",
       "      <th>count</th>\n",
       "      <td>1.302700e+04</td>\n",
       "      <td>13027.00000</td>\n",
       "      <td>13027.0</td>\n",
       "      <td>4767.000000</td>\n",
       "      <td>4960.000000</td>\n",
       "      <td>13027.000000</td>\n",
       "      <td>1.264200e+04</td>\n",
       "      <td>1.111200e+04</td>\n",
       "      <td>13027.0</td>\n",
       "    </tr>\n",
       "    <tr>\n",
       "      <th>mean</th>\n",
       "      <td>2.017200e+07</td>\n",
       "      <td>0.21916</td>\n",
       "      <td>0.0</td>\n",
       "      <td>1499.777848</td>\n",
       "      <td>1957.728226</td>\n",
       "      <td>6059.356490</td>\n",
       "      <td>6.282276e+05</td>\n",
       "      <td>8.542264e+03</td>\n",
       "      <td>261.0</td>\n",
       "    </tr>\n",
       "    <tr>\n",
       "      <th>std</th>\n",
       "      <td>2.935721e+07</td>\n",
       "      <td>0.87220</td>\n",
       "      <td>0.0</td>\n",
       "      <td>8009.850130</td>\n",
       "      <td>25.767460</td>\n",
       "      <td>30.046231</td>\n",
       "      <td>2.387811e+06</td>\n",
       "      <td>3.507197e+04</td>\n",
       "      <td>0.0</td>\n",
       "    </tr>\n",
       "    <tr>\n",
       "      <th>min</th>\n",
       "      <td>1.071313e+07</td>\n",
       "      <td>0.00000</td>\n",
       "      <td>0.0</td>\n",
       "      <td>1.000000</td>\n",
       "      <td>1887.000000</td>\n",
       "      <td>6037.000000</td>\n",
       "      <td>1.000000e+00</td>\n",
       "      <td>1.850000e+00</td>\n",
       "      <td>261.0</td>\n",
       "    </tr>\n",
       "    <tr>\n",
       "      <th>25%</th>\n",
       "      <td>1.173306e+07</td>\n",
       "      <td>0.00000</td>\n",
       "      <td>0.0</td>\n",
       "      <td>360.000000</td>\n",
       "      <td>1940.000000</td>\n",
       "      <td>6037.000000</td>\n",
       "      <td>2.586000e+04</td>\n",
       "      <td>5.722900e+02</td>\n",
       "      <td>261.0</td>\n",
       "    </tr>\n",
       "    <tr>\n",
       "      <th>50%</th>\n",
       "      <td>1.305051e+07</td>\n",
       "      <td>0.00000</td>\n",
       "      <td>0.0</td>\n",
       "      <td>757.000000</td>\n",
       "      <td>1956.000000</td>\n",
       "      <td>6037.000000</td>\n",
       "      <td>1.172790e+05</td>\n",
       "      <td>1.977730e+03</td>\n",
       "      <td>261.0</td>\n",
       "    </tr>\n",
       "    <tr>\n",
       "      <th>75%</th>\n",
       "      <td>1.706175e+07</td>\n",
       "      <td>0.00000</td>\n",
       "      <td>0.0</td>\n",
       "      <td>1614.500000</td>\n",
       "      <td>1980.000000</td>\n",
       "      <td>6059.000000</td>\n",
       "      <td>4.360372e+05</td>\n",
       "      <td>6.122365e+03</td>\n",
       "      <td>261.0</td>\n",
       "    </tr>\n",
       "    <tr>\n",
       "      <th>max</th>\n",
       "      <td>1.681836e+08</td>\n",
       "      <td>18.00000</td>\n",
       "      <td>0.0</td>\n",
       "      <td>531118.000000</td>\n",
       "      <td>2016.000000</td>\n",
       "      <td>6111.000000</td>\n",
       "      <td>9.842891e+07</td>\n",
       "      <td>1.337756e+06</td>\n",
       "      <td>261.0</td>\n",
       "    </tr>\n",
       "  </tbody>\n",
       "</table>\n",
       "</div>"
      ],
      "text/plain": [
       "           parcelid   bedroomcnt  bathroomcnt  calculatedfinishedsquarefeet  \\\n",
       "count  1.302700e+04  13027.00000      13027.0                   4767.000000   \n",
       "mean   2.017200e+07      0.21916          0.0                   1499.777848   \n",
       "std    2.935721e+07      0.87220          0.0                   8009.850130   \n",
       "min    1.071313e+07      0.00000          0.0                      1.000000   \n",
       "25%    1.173306e+07      0.00000          0.0                    360.000000   \n",
       "50%    1.305051e+07      0.00000          0.0                    757.000000   \n",
       "75%    1.706175e+07      0.00000          0.0                   1614.500000   \n",
       "max    1.681836e+08     18.00000          0.0                 531118.000000   \n",
       "\n",
       "         yearbuilt          fips  taxvaluedollarcnt     taxamount  \\\n",
       "count  4960.000000  13027.000000       1.264200e+04  1.111200e+04   \n",
       "mean   1957.728226   6059.356490       6.282276e+05  8.542264e+03   \n",
       "std      25.767460     30.046231       2.387811e+06  3.507197e+04   \n",
       "min    1887.000000   6037.000000       1.000000e+00  1.850000e+00   \n",
       "25%    1940.000000   6037.000000       2.586000e+04  5.722900e+02   \n",
       "50%    1956.000000   6037.000000       1.172790e+05  1.977730e+03   \n",
       "75%    1980.000000   6059.000000       4.360372e+05  6.122365e+03   \n",
       "max    2016.000000   6111.000000       9.842891e+07  1.337756e+06   \n",
       "\n",
       "       propertylandusetypeid  \n",
       "count                13027.0  \n",
       "mean                   261.0  \n",
       "std                      0.0  \n",
       "min                    261.0  \n",
       "25%                    261.0  \n",
       "50%                    261.0  \n",
       "75%                    261.0  \n",
       "max                    261.0  "
      ]
     },
     "execution_count": 28,
     "metadata": {},
     "output_type": "execute_result"
    }
   ],
   "source": [
    "df[df.bathroomcnt <= 0].describe()"
   ]
  },
  {
   "cell_type": "markdown",
   "id": "c153e26b",
   "metadata": {},
   "source": [
    "I'm thinking drop these rows as mistakes in the data.  I can understand that some very early houses might not have indoor plumbing, but houses after the 1950s would surely have indoor plumbing.  I also suspect that a lot of the houses without bathrooms (or few) would be small in square footage.\n",
    "\n",
    "[Source](https://www.meyerscompaniesinc.com/blog/2021/march/when-was-indoor-plumbing-brought-to-the-united-s/): \"By the mid-1930s, lawmakers and medical professionals in the United States recognized that sanitary plumbing was essential for public health. In response, the U.S. created hygienic guidelines and plumbing codes to help streamline the hygienic system installation process throughout the country. In the 1940s, due to restrictions on iron, steel, and copper, American manufacturers introduced cast iron and plastics to the world of plumbing, which are the materials we most often find in toilets today. \""
   ]
  },
  {
   "cell_type": "code",
   "execution_count": 29,
   "id": "e76b04e7",
   "metadata": {
    "scrolled": true
   },
   "outputs": [
    {
     "data": {
      "text/html": [
       "<div>\n",
       "<style scoped>\n",
       "    .dataframe tbody tr th:only-of-type {\n",
       "        vertical-align: middle;\n",
       "    }\n",
       "\n",
       "    .dataframe tbody tr th {\n",
       "        vertical-align: top;\n",
       "    }\n",
       "\n",
       "    .dataframe thead th {\n",
       "        text-align: right;\n",
       "    }\n",
       "</style>\n",
       "<table border=\"1\" class=\"dataframe\">\n",
       "  <thead>\n",
       "    <tr style=\"text-align: right;\">\n",
       "      <th></th>\n",
       "      <th>parcelid</th>\n",
       "      <th>bedroomcnt</th>\n",
       "      <th>bathroomcnt</th>\n",
       "      <th>calculatedfinishedsquarefeet</th>\n",
       "      <th>yearbuilt</th>\n",
       "      <th>fips</th>\n",
       "      <th>taxvaluedollarcnt</th>\n",
       "      <th>taxamount</th>\n",
       "      <th>propertylandusetypeid</th>\n",
       "    </tr>\n",
       "  </thead>\n",
       "  <tbody>\n",
       "    <tr>\n",
       "      <th>count</th>\n",
       "      <td>3.489000e+03</td>\n",
       "      <td>3489.000000</td>\n",
       "      <td>3489.0</td>\n",
       "      <td>3489.000000</td>\n",
       "      <td>3245.000000</td>\n",
       "      <td>3489.000000</td>\n",
       "      <td>3.487000e+03</td>\n",
       "      <td>3347.000000</td>\n",
       "      <td>3489.0</td>\n",
       "    </tr>\n",
       "    <tr>\n",
       "      <th>mean</th>\n",
       "      <td>1.308870e+07</td>\n",
       "      <td>0.181714</td>\n",
       "      <td>0.0</td>\n",
       "      <td>588.773574</td>\n",
       "      <td>1952.547612</td>\n",
       "      <td>6042.484093</td>\n",
       "      <td>1.508569e+05</td>\n",
       "      <td>1942.102779</td>\n",
       "      <td>261.0</td>\n",
       "    </tr>\n",
       "    <tr>\n",
       "      <th>std</th>\n",
       "      <td>9.459837e+06</td>\n",
       "      <td>0.622770</td>\n",
       "      <td>0.0</td>\n",
       "      <td>382.696029</td>\n",
       "      <td>23.718797</td>\n",
       "      <td>17.982721</td>\n",
       "      <td>3.828909e+05</td>\n",
       "      <td>4392.154834</td>\n",
       "      <td>0.0</td>\n",
       "    </tr>\n",
       "    <tr>\n",
       "      <th>min</th>\n",
       "      <td>1.071313e+07</td>\n",
       "      <td>0.000000</td>\n",
       "      <td>0.0</td>\n",
       "      <td>1.000000</td>\n",
       "      <td>1890.000000</td>\n",
       "      <td>6037.000000</td>\n",
       "      <td>4.000000e+00</td>\n",
       "      <td>6.340000</td>\n",
       "      <td>261.0</td>\n",
       "    </tr>\n",
       "    <tr>\n",
       "      <th>25%</th>\n",
       "      <td>1.137520e+07</td>\n",
       "      <td>0.000000</td>\n",
       "      <td>0.0</td>\n",
       "      <td>256.000000</td>\n",
       "      <td>1935.000000</td>\n",
       "      <td>6037.000000</td>\n",
       "      <td>1.346900e+04</td>\n",
       "      <td>319.560000</td>\n",
       "      <td>261.0</td>\n",
       "    </tr>\n",
       "    <tr>\n",
       "      <th>50%</th>\n",
       "      <td>1.200608e+07</td>\n",
       "      <td>0.000000</td>\n",
       "      <td>0.0</td>\n",
       "      <td>470.000000</td>\n",
       "      <td>1953.000000</td>\n",
       "      <td>6037.000000</td>\n",
       "      <td>4.802000e+04</td>\n",
       "      <td>801.270000</td>\n",
       "      <td>261.0</td>\n",
       "    </tr>\n",
       "    <tr>\n",
       "      <th>75%</th>\n",
       "      <td>1.256096e+07</td>\n",
       "      <td>0.000000</td>\n",
       "      <td>0.0</td>\n",
       "      <td>875.000000</td>\n",
       "      <td>1968.000000</td>\n",
       "      <td>6037.000000</td>\n",
       "      <td>1.654690e+05</td>\n",
       "      <td>2207.315000</td>\n",
       "      <td>261.0</td>\n",
       "    </tr>\n",
       "    <tr>\n",
       "      <th>max</th>\n",
       "      <td>1.676892e+08</td>\n",
       "      <td>6.000000</td>\n",
       "      <td>0.0</td>\n",
       "      <td>1500.000000</td>\n",
       "      <td>2014.000000</td>\n",
       "      <td>6111.000000</td>\n",
       "      <td>7.207407e+06</td>\n",
       "      <td>82241.030000</td>\n",
       "      <td>261.0</td>\n",
       "    </tr>\n",
       "  </tbody>\n",
       "</table>\n",
       "</div>"
      ],
      "text/plain": [
       "           parcelid   bedroomcnt  bathroomcnt  calculatedfinishedsquarefeet  \\\n",
       "count  3.489000e+03  3489.000000       3489.0                   3489.000000   \n",
       "mean   1.308870e+07     0.181714          0.0                    588.773574   \n",
       "std    9.459837e+06     0.622770          0.0                    382.696029   \n",
       "min    1.071313e+07     0.000000          0.0                      1.000000   \n",
       "25%    1.137520e+07     0.000000          0.0                    256.000000   \n",
       "50%    1.200608e+07     0.000000          0.0                    470.000000   \n",
       "75%    1.256096e+07     0.000000          0.0                    875.000000   \n",
       "max    1.676892e+08     6.000000          0.0                   1500.000000   \n",
       "\n",
       "         yearbuilt         fips  taxvaluedollarcnt     taxamount  \\\n",
       "count  3245.000000  3489.000000       3.487000e+03   3347.000000   \n",
       "mean   1952.547612  6042.484093       1.508569e+05   1942.102779   \n",
       "std      23.718797    17.982721       3.828909e+05   4392.154834   \n",
       "min    1890.000000  6037.000000       4.000000e+00      6.340000   \n",
       "25%    1935.000000  6037.000000       1.346900e+04    319.560000   \n",
       "50%    1953.000000  6037.000000       4.802000e+04    801.270000   \n",
       "75%    1968.000000  6037.000000       1.654690e+05   2207.315000   \n",
       "max    2014.000000  6111.000000       7.207407e+06  82241.030000   \n",
       "\n",
       "       propertylandusetypeid  \n",
       "count                 3489.0  \n",
       "mean                   261.0  \n",
       "std                      0.0  \n",
       "min                    261.0  \n",
       "25%                    261.0  \n",
       "50%                    261.0  \n",
       "75%                    261.0  \n",
       "max                    261.0  "
      ]
     },
     "execution_count": 29,
     "metadata": {},
     "output_type": "execute_result"
    }
   ],
   "source": [
    "df[(df.bathroomcnt <= 0) & (df.calculatedfinishedsquarefeet <=1500)].describe()"
   ]
  },
  {
   "cell_type": "markdown",
   "id": "1b1d14de",
   "metadata": {},
   "source": [
    "Looks like most (0.75) of them were built before 1959. \n",
    "\n",
    "Likely, these rows could be simply dropped.  THey are a small proportion of the data (only $\\approx 930$ out of $>2$ million rows).  In addition, they seem unlikely to lead to a realistic prediction; it seems that *most* buyers probably would want indoor plumbing.\n",
    "\n",
    "*But* I am not going to drop them until exploring the `calculatedfinishedsquarefeet`."
   ]
  },
  {
   "cell_type": "markdown",
   "id": "cdb08b06",
   "metadata": {},
   "source": [
    "#### Solving the null values for `calculatedfinishedsquarefeet`"
   ]
  },
  {
   "cell_type": "code",
   "execution_count": 30,
   "id": "1a4c0eda",
   "metadata": {
    "scrolled": true
   },
   "outputs": [
    {
     "data": {
      "text/plain": [
       "count    2.144379e+06\n",
       "mean     1.862855e+03\n",
       "std      1.222125e+03\n",
       "min      1.000000e+00\n",
       "25%      1.257000e+03\n",
       "50%      1.623000e+03\n",
       "75%      2.208000e+03\n",
       "max      9.525760e+05\n",
       "Name: calculatedfinishedsquarefeet, dtype: float64"
      ]
     },
     "execution_count": 30,
     "metadata": {},
     "output_type": "execute_result"
    }
   ],
   "source": [
    "df.calculatedfinishedsquarefeet.describe()"
   ]
  },
  {
   "cell_type": "markdown",
   "id": "94a0a812",
   "metadata": {},
   "source": [
    "What is with the min?  Houses with only one square foot?"
   ]
  },
  {
   "cell_type": "code",
   "execution_count": 31,
   "id": "1bc7ec17",
   "metadata": {
    "scrolled": false
   },
   "outputs": [
    {
     "data": {
      "text/html": [
       "<div>\n",
       "<style scoped>\n",
       "    .dataframe tbody tr th:only-of-type {\n",
       "        vertical-align: middle;\n",
       "    }\n",
       "\n",
       "    .dataframe tbody tr th {\n",
       "        vertical-align: top;\n",
       "    }\n",
       "\n",
       "    .dataframe thead th {\n",
       "        text-align: right;\n",
       "    }\n",
       "</style>\n",
       "<table border=\"1\" class=\"dataframe\">\n",
       "  <thead>\n",
       "    <tr style=\"text-align: right;\">\n",
       "      <th></th>\n",
       "      <th>parcelid</th>\n",
       "      <th>bedroomcnt</th>\n",
       "      <th>bathroomcnt</th>\n",
       "      <th>calculatedfinishedsquarefeet</th>\n",
       "      <th>yearbuilt</th>\n",
       "      <th>fips</th>\n",
       "      <th>taxvaluedollarcnt</th>\n",
       "      <th>taxamount</th>\n",
       "      <th>propertylandusetypeid</th>\n",
       "      <th>propertylandusedesc</th>\n",
       "    </tr>\n",
       "  </thead>\n",
       "  <tbody>\n",
       "    <tr>\n",
       "      <th>3956</th>\n",
       "      <td>11952248</td>\n",
       "      <td>0.0</td>\n",
       "      <td>0.0</td>\n",
       "      <td>99.0</td>\n",
       "      <td>1940.0</td>\n",
       "      <td>6037.0</td>\n",
       "      <td>36593.0</td>\n",
       "      <td>542.00</td>\n",
       "      <td>261.0</td>\n",
       "      <td>Single Family Residential</td>\n",
       "    </tr>\n",
       "    <tr>\n",
       "      <th>32077</th>\n",
       "      <td>11524206</td>\n",
       "      <td>0.0</td>\n",
       "      <td>0.0</td>\n",
       "      <td>60.0</td>\n",
       "      <td>2005.0</td>\n",
       "      <td>6037.0</td>\n",
       "      <td>11534.0</td>\n",
       "      <td>186.12</td>\n",
       "      <td>261.0</td>\n",
       "      <td>Single Family Residential</td>\n",
       "    </tr>\n",
       "    <tr>\n",
       "      <th>39196</th>\n",
       "      <td>12898264</td>\n",
       "      <td>0.0</td>\n",
       "      <td>1.0</td>\n",
       "      <td>78.0</td>\n",
       "      <td>2009.0</td>\n",
       "      <td>6037.0</td>\n",
       "      <td>52991.0</td>\n",
       "      <td>866.12</td>\n",
       "      <td>261.0</td>\n",
       "      <td>Single Family Residential</td>\n",
       "    </tr>\n",
       "    <tr>\n",
       "      <th>53614</th>\n",
       "      <td>11524201</td>\n",
       "      <td>0.0</td>\n",
       "      <td>0.0</td>\n",
       "      <td>20.0</td>\n",
       "      <td>2005.0</td>\n",
       "      <td>6037.0</td>\n",
       "      <td>1124.0</td>\n",
       "      <td>62.05</td>\n",
       "      <td>261.0</td>\n",
       "      <td>Single Family Residential</td>\n",
       "    </tr>\n",
       "    <tr>\n",
       "      <th>58438</th>\n",
       "      <td>12186499</td>\n",
       "      <td>2.0</td>\n",
       "      <td>1.0</td>\n",
       "      <td>1.0</td>\n",
       "      <td>1907.0</td>\n",
       "      <td>6037.0</td>\n",
       "      <td>121376.0</td>\n",
       "      <td>1996.35</td>\n",
       "      <td>261.0</td>\n",
       "      <td>Single Family Residential</td>\n",
       "    </tr>\n",
       "    <tr>\n",
       "      <th>...</th>\n",
       "      <td>...</td>\n",
       "      <td>...</td>\n",
       "      <td>...</td>\n",
       "      <td>...</td>\n",
       "      <td>...</td>\n",
       "      <td>...</td>\n",
       "      <td>...</td>\n",
       "      <td>...</td>\n",
       "      <td>...</td>\n",
       "      <td>...</td>\n",
       "    </tr>\n",
       "    <tr>\n",
       "      <th>2055863</th>\n",
       "      <td>11524197</td>\n",
       "      <td>0.0</td>\n",
       "      <td>0.0</td>\n",
       "      <td>20.0</td>\n",
       "      <td>2005.0</td>\n",
       "      <td>6037.0</td>\n",
       "      <td>1126.0</td>\n",
       "      <td>62.08</td>\n",
       "      <td>261.0</td>\n",
       "      <td>Single Family Residential</td>\n",
       "    </tr>\n",
       "    <tr>\n",
       "      <th>2088114</th>\n",
       "      <td>11524182</td>\n",
       "      <td>0.0</td>\n",
       "      <td>0.0</td>\n",
       "      <td>20.0</td>\n",
       "      <td>2005.0</td>\n",
       "      <td>6037.0</td>\n",
       "      <td>7246.0</td>\n",
       "      <td>135.02</td>\n",
       "      <td>261.0</td>\n",
       "      <td>Single Family Residential</td>\n",
       "    </tr>\n",
       "    <tr>\n",
       "      <th>2098808</th>\n",
       "      <td>11524211</td>\n",
       "      <td>0.0</td>\n",
       "      <td>0.0</td>\n",
       "      <td>60.0</td>\n",
       "      <td>2005.0</td>\n",
       "      <td>6037.0</td>\n",
       "      <td>5763.0</td>\n",
       "      <td>117.34</td>\n",
       "      <td>261.0</td>\n",
       "      <td>Single Family Residential</td>\n",
       "    </tr>\n",
       "    <tr>\n",
       "      <th>2098812</th>\n",
       "      <td>11524196</td>\n",
       "      <td>0.0</td>\n",
       "      <td>0.0</td>\n",
       "      <td>20.0</td>\n",
       "      <td>2005.0</td>\n",
       "      <td>6037.0</td>\n",
       "      <td>2875.0</td>\n",
       "      <td>82.92</td>\n",
       "      <td>261.0</td>\n",
       "      <td>Single Family Residential</td>\n",
       "    </tr>\n",
       "    <tr>\n",
       "      <th>2131287</th>\n",
       "      <td>11524235</td>\n",
       "      <td>0.0</td>\n",
       "      <td>0.0</td>\n",
       "      <td>40.0</td>\n",
       "      <td>2005.0</td>\n",
       "      <td>6037.0</td>\n",
       "      <td>1059.0</td>\n",
       "      <td>64.00</td>\n",
       "      <td>261.0</td>\n",
       "      <td>Single Family Residential</td>\n",
       "    </tr>\n",
       "  </tbody>\n",
       "</table>\n",
       "<p>124 rows × 10 columns</p>\n",
       "</div>"
      ],
      "text/plain": [
       "         parcelid  bedroomcnt  bathroomcnt  calculatedfinishedsquarefeet  \\\n",
       "3956     11952248         0.0          0.0                          99.0   \n",
       "32077    11524206         0.0          0.0                          60.0   \n",
       "39196    12898264         0.0          1.0                          78.0   \n",
       "53614    11524201         0.0          0.0                          20.0   \n",
       "58438    12186499         2.0          1.0                           1.0   \n",
       "...           ...         ...          ...                           ...   \n",
       "2055863  11524197         0.0          0.0                          20.0   \n",
       "2088114  11524182         0.0          0.0                          20.0   \n",
       "2098808  11524211         0.0          0.0                          60.0   \n",
       "2098812  11524196         0.0          0.0                          20.0   \n",
       "2131287  11524235         0.0          0.0                          40.0   \n",
       "\n",
       "         yearbuilt    fips  taxvaluedollarcnt  taxamount  \\\n",
       "3956        1940.0  6037.0            36593.0     542.00   \n",
       "32077       2005.0  6037.0            11534.0     186.12   \n",
       "39196       2009.0  6037.0            52991.0     866.12   \n",
       "53614       2005.0  6037.0             1124.0      62.05   \n",
       "58438       1907.0  6037.0           121376.0    1996.35   \n",
       "...            ...     ...                ...        ...   \n",
       "2055863     2005.0  6037.0             1126.0      62.08   \n",
       "2088114     2005.0  6037.0             7246.0     135.02   \n",
       "2098808     2005.0  6037.0             5763.0     117.34   \n",
       "2098812     2005.0  6037.0             2875.0      82.92   \n",
       "2131287     2005.0  6037.0             1059.0      64.00   \n",
       "\n",
       "         propertylandusetypeid        propertylandusedesc  \n",
       "3956                     261.0  Single Family Residential  \n",
       "32077                    261.0  Single Family Residential  \n",
       "39196                    261.0  Single Family Residential  \n",
       "53614                    261.0  Single Family Residential  \n",
       "58438                    261.0  Single Family Residential  \n",
       "...                        ...                        ...  \n",
       "2055863                  261.0  Single Family Residential  \n",
       "2088114                  261.0  Single Family Residential  \n",
       "2098808                  261.0  Single Family Residential  \n",
       "2098812                  261.0  Single Family Residential  \n",
       "2131287                  261.0  Single Family Residential  \n",
       "\n",
       "[124 rows x 10 columns]"
      ]
     },
     "execution_count": 31,
     "metadata": {},
     "output_type": "execute_result"
    }
   ],
   "source": [
    "df[df.calculatedfinishedsquarefeet < 100]"
   ]
  },
  {
   "cell_type": "markdown",
   "id": "e5de1077",
   "metadata": {},
   "source": [
    "This is very suspecious data.  It seems that some houses have 1 $\\text{ft}^2$ but three bedrooms and two baths.  Are these ant houses?  Digging a little deeper: consider houses under 1000 $\\text{ft}^2$, and their distribution of bedrooms and bathrooms."
   ]
  },
  {
   "cell_type": "code",
   "execution_count": 32,
   "id": "7f0425c8",
   "metadata": {},
   "outputs": [
    {
     "data": {
      "text/html": [
       "<div>\n",
       "<style scoped>\n",
       "    .dataframe tbody tr th:only-of-type {\n",
       "        vertical-align: middle;\n",
       "    }\n",
       "\n",
       "    .dataframe tbody tr th {\n",
       "        vertical-align: top;\n",
       "    }\n",
       "\n",
       "    .dataframe thead th {\n",
       "        text-align: right;\n",
       "    }\n",
       "</style>\n",
       "<table border=\"1\" class=\"dataframe\">\n",
       "  <thead>\n",
       "    <tr style=\"text-align: right;\">\n",
       "      <th></th>\n",
       "      <th>parcelid</th>\n",
       "      <th>bedroomcnt</th>\n",
       "      <th>bathroomcnt</th>\n",
       "      <th>calculatedfinishedsquarefeet</th>\n",
       "      <th>yearbuilt</th>\n",
       "      <th>fips</th>\n",
       "      <th>taxvaluedollarcnt</th>\n",
       "      <th>taxamount</th>\n",
       "      <th>propertylandusetypeid</th>\n",
       "    </tr>\n",
       "  </thead>\n",
       "  <tbody>\n",
       "    <tr>\n",
       "      <th>count</th>\n",
       "      <td>1.892070e+05</td>\n",
       "      <td>189204.000000</td>\n",
       "      <td>189204.000000</td>\n",
       "      <td>189207.000000</td>\n",
       "      <td>188831.00000</td>\n",
       "      <td>189207.000000</td>\n",
       "      <td>1.891640e+05</td>\n",
       "      <td>188406.000000</td>\n",
       "      <td>189207.0</td>\n",
       "    </tr>\n",
       "    <tr>\n",
       "      <th>mean</th>\n",
       "      <td>1.260974e+07</td>\n",
       "      <td>2.065749</td>\n",
       "      <td>1.056796</td>\n",
       "      <td>840.460268</td>\n",
       "      <td>1941.50129</td>\n",
       "      <td>6042.090689</td>\n",
       "      <td>2.267367e+05</td>\n",
       "      <td>2956.035916</td>\n",
       "      <td>261.0</td>\n",
       "    </tr>\n",
       "    <tr>\n",
       "      <th>std</th>\n",
       "      <td>4.296093e+06</td>\n",
       "      <td>0.609591</td>\n",
       "      <td>0.315038</td>\n",
       "      <td>135.184572</td>\n",
       "      <td>16.17373</td>\n",
       "      <td>14.960176</td>\n",
       "      <td>2.193143e+05</td>\n",
       "      <td>2498.398291</td>\n",
       "      <td>0.0</td>\n",
       "    </tr>\n",
       "    <tr>\n",
       "      <th>min</th>\n",
       "      <td>1.071304e+07</td>\n",
       "      <td>0.000000</td>\n",
       "      <td>0.000000</td>\n",
       "      <td>1.000000</td>\n",
       "      <td>1812.00000</td>\n",
       "      <td>6037.000000</td>\n",
       "      <td>4.000000e+00</td>\n",
       "      <td>6.340000</td>\n",
       "      <td>261.0</td>\n",
       "    </tr>\n",
       "    <tr>\n",
       "      <th>25%</th>\n",
       "      <td>1.180382e+07</td>\n",
       "      <td>2.000000</td>\n",
       "      <td>1.000000</td>\n",
       "      <td>780.000000</td>\n",
       "      <td>1926.00000</td>\n",
       "      <td>6037.000000</td>\n",
       "      <td>1.087750e+05</td>\n",
       "      <td>1595.645000</td>\n",
       "      <td>261.0</td>\n",
       "    </tr>\n",
       "    <tr>\n",
       "      <th>50%</th>\n",
       "      <td>1.228400e+07</td>\n",
       "      <td>2.000000</td>\n",
       "      <td>1.000000</td>\n",
       "      <td>868.000000</td>\n",
       "      <td>1946.00000</td>\n",
       "      <td>6037.000000</td>\n",
       "      <td>1.934805e+05</td>\n",
       "      <td>2592.510000</td>\n",
       "      <td>261.0</td>\n",
       "    </tr>\n",
       "    <tr>\n",
       "      <th>75%</th>\n",
       "      <td>1.279655e+07</td>\n",
       "      <td>2.000000</td>\n",
       "      <td>1.000000</td>\n",
       "      <td>942.000000</td>\n",
       "      <td>1951.00000</td>\n",
       "      <td>6037.000000</td>\n",
       "      <td>2.950000e+05</td>\n",
       "      <td>3792.627500</td>\n",
       "      <td>261.0</td>\n",
       "    </tr>\n",
       "    <tr>\n",
       "      <th>max</th>\n",
       "      <td>1.681760e+08</td>\n",
       "      <td>7.000000</td>\n",
       "      <td>20.000000</td>\n",
       "      <td>1000.000000</td>\n",
       "      <td>2015.00000</td>\n",
       "      <td>6111.000000</td>\n",
       "      <td>2.253855e+07</td>\n",
       "      <td>255975.040000</td>\n",
       "      <td>261.0</td>\n",
       "    </tr>\n",
       "  </tbody>\n",
       "</table>\n",
       "</div>"
      ],
      "text/plain": [
       "           parcelid     bedroomcnt    bathroomcnt  \\\n",
       "count  1.892070e+05  189204.000000  189204.000000   \n",
       "mean   1.260974e+07       2.065749       1.056796   \n",
       "std    4.296093e+06       0.609591       0.315038   \n",
       "min    1.071304e+07       0.000000       0.000000   \n",
       "25%    1.180382e+07       2.000000       1.000000   \n",
       "50%    1.228400e+07       2.000000       1.000000   \n",
       "75%    1.279655e+07       2.000000       1.000000   \n",
       "max    1.681760e+08       7.000000      20.000000   \n",
       "\n",
       "       calculatedfinishedsquarefeet     yearbuilt           fips  \\\n",
       "count                 189207.000000  188831.00000  189207.000000   \n",
       "mean                     840.460268    1941.50129    6042.090689   \n",
       "std                      135.184572      16.17373      14.960176   \n",
       "min                        1.000000    1812.00000    6037.000000   \n",
       "25%                      780.000000    1926.00000    6037.000000   \n",
       "50%                      868.000000    1946.00000    6037.000000   \n",
       "75%                      942.000000    1951.00000    6037.000000   \n",
       "max                     1000.000000    2015.00000    6111.000000   \n",
       "\n",
       "       taxvaluedollarcnt      taxamount  propertylandusetypeid  \n",
       "count       1.891640e+05  188406.000000               189207.0  \n",
       "mean        2.267367e+05    2956.035916                  261.0  \n",
       "std         2.193143e+05    2498.398291                    0.0  \n",
       "min         4.000000e+00       6.340000                  261.0  \n",
       "25%         1.087750e+05    1595.645000                  261.0  \n",
       "50%         1.934805e+05    2592.510000                  261.0  \n",
       "75%         2.950000e+05    3792.627500                  261.0  \n",
       "max         2.253855e+07  255975.040000                  261.0  "
      ]
     },
     "execution_count": 32,
     "metadata": {},
     "output_type": "execute_result"
    }
   ],
   "source": [
    "df[df.calculatedfinishedsquarefeet < 1001].describe()"
   ]
  },
  {
   "cell_type": "code",
   "execution_count": 33,
   "id": "15c4d051",
   "metadata": {},
   "outputs": [
    {
     "data": {
      "text/plain": [
       "2.0    130376\n",
       "3.0     36207\n",
       "1.0     18581\n",
       "0.0      3325\n",
       "4.0       684\n",
       "5.0        29\n",
       "6.0         1\n",
       "7.0         1\n",
       "Name: bedroomcnt, dtype: int64"
      ]
     },
     "execution_count": 33,
     "metadata": {},
     "output_type": "execute_result"
    }
   ],
   "source": [
    "df[df.calculatedfinishedsquarefeet < 1001].bedroomcnt.value_counts()"
   ]
  },
  {
   "cell_type": "code",
   "execution_count": 34,
   "id": "0df53160",
   "metadata": {},
   "outputs": [
    {
     "data": {
      "text/plain": [
       "1.0     172307\n",
       "2.0      11933\n",
       "0.0       2871\n",
       "1.5       1826\n",
       "3.0        165\n",
       "7.5         38\n",
       "2.5         24\n",
       "0.5         13\n",
       "4.0          9\n",
       "5.0          6\n",
       "3.5          5\n",
       "20.0         2\n",
       "16.0         2\n",
       "18.0         1\n",
       "7.0          1\n",
       "11.0         1\n",
       "Name: bathroomcnt, dtype: int64"
      ]
     },
     "execution_count": 34,
     "metadata": {},
     "output_type": "execute_result"
    }
   ],
   "source": [
    "df[df.calculatedfinishedsquarefeet < 1001].bathroomcnt.value_counts()"
   ]
  },
  {
   "cell_type": "code",
   "execution_count": 35,
   "id": "231e96b1",
   "metadata": {
    "scrolled": false
   },
   "outputs": [
    {
     "data": {
      "text/plain": [
       "<Figure size 720x720 with 0 Axes>"
      ]
     },
     "metadata": {},
     "output_type": "display_data"
    },
    {
     "data": {
      "image/png": "[encoded data removed]",
      "text/plain": [
       "<Figure size 360x360 with 1 Axes>"
      ]
     },
     "metadata": {
      "needs_background": "light"
     },
     "output_type": "display_data"
    }
   ],
   "source": [
    "plt.figure(figsize=(10, 10))\n",
    "sns.displot(data=df, x = 'calculatedfinishedsquarefeet')\n",
    "plt.title('calculatedfinishedsquarefeet distribution')\n",
    "plt.show()"
   ]
  },
  {
   "cell_type": "code",
   "execution_count": 36,
   "id": "0be6c1d5",
   "metadata": {},
   "outputs": [
    {
     "data": {
      "image/png": "[encoded data removed]",
      "text/plain": [
       "<Figure size 720x720 with 1 Axes>"
      ]
     },
     "metadata": {
      "needs_background": "light"
     },
     "output_type": "display_data"
    }
   ],
   "source": [
    "plt.figure(figsize=(10, 10))\n",
    "sns.boxplot(data=df, x = 'calculatedfinishedsquarefeet')\n",
    "plt.title('calculatedfinishedsquarefeet distribution')\n",
    "plt.show()"
   ]
  },
  {
   "cell_type": "code",
   "execution_count": 37,
   "id": "c9448292",
   "metadata": {},
   "outputs": [
    {
     "data": {
      "text/plain": [
       "count    2.144379e+06\n",
       "mean     1.862855e+03\n",
       "std      1.222125e+03\n",
       "min      1.000000e+00\n",
       "25%      1.257000e+03\n",
       "50%      1.623000e+03\n",
       "75%      2.208000e+03\n",
       "max      9.525760e+05\n",
       "Name: calculatedfinishedsquarefeet, dtype: float64"
      ]
     },
     "execution_count": 37,
     "metadata": {},
     "output_type": "execute_result"
    }
   ],
   "source": [
    "df.calculatedfinishedsquarefeet.describe()"
   ]
  },
  {
   "cell_type": "markdown",
   "id": "3b225a2c",
   "metadata": {},
   "source": [
    "There are a lot of outliers.  They need to be excluded in order to see the graph better.  Include only data that is within $2\\sigma$ of the mean. "
   ]
  },
  {
   "cell_type": "code",
   "execution_count": 38,
   "id": "03979bc0",
   "metadata": {},
   "outputs": [
    {
     "data": {
      "text/plain": [
       "(1862.855177652831, 1222.125123637998, 1623.0)"
      ]
     },
     "execution_count": 38,
     "metadata": {},
     "output_type": "execute_result"
    }
   ],
   "source": [
    "#get stats\n",
    "mean_sqft = df.calculatedfinishedsquarefeet.mean()\n",
    "std_sqft = df.calculatedfinishedsquarefeet.std()\n",
    "median_sqft = df.calculatedfinishedsquarefeet.median()\n",
    "mean_sqft, std_sqft, median_sqft"
   ]
  },
  {
   "cell_type": "code",
   "execution_count": 39,
   "id": "ec4044b1",
   "metadata": {},
   "outputs": [],
   "source": [
    "sigma_multiplier = 2\n",
    "# get the df subset\n",
    "sqft_nooutliers = df[(df.calculatedfinishedsquarefeet <= mean_sqft + std_sqft*sigma_multiplier) & (df.calculatedfinishedsquarefeet >= mean_sqft - std_sqft*sigma_multiplier)]"
   ]
  },
  {
   "cell_type": "code",
   "execution_count": 40,
   "id": "ce3a48e9",
   "metadata": {
    "scrolled": true
   },
   "outputs": [
    {
     "data": {
      "text/plain": [
       "count    2.095519e+06\n",
       "mean     1.771460e+03\n",
       "std      7.157328e+02\n",
       "min      1.000000e+00\n",
       "25%      1.249000e+03\n",
       "50%      1.604000e+03\n",
       "75%      2.152000e+03\n",
       "max      4.307000e+03\n",
       "Name: calculatedfinishedsquarefeet, dtype: float64"
      ]
     },
     "execution_count": 40,
     "metadata": {},
     "output_type": "execute_result"
    }
   ],
   "source": [
    "sqft_nooutliers.calculatedfinishedsquarefeet.describe()"
   ]
  },
  {
   "cell_type": "code",
   "execution_count": 41,
   "id": "95fc0aed",
   "metadata": {},
   "outputs": [
    {
     "data": {
      "image/png": "[encoded data removed]",
      "text/plain": [
       "<Figure size 1080x1080 with 1 Axes>"
      ]
     },
     "metadata": {
      "needs_background": "light"
     },
     "output_type": "display_data"
    }
   ],
   "source": [
    "plt.figure(figsize=(15, 15))\n",
    "sns.boxplot(data=sqft_nooutliers, x = 'calculatedfinishedsquarefeet')\n",
    "plt.title('calculatedfinishedsquarefeet distribution')\n",
    "plt.show()"
   ]
  },
  {
   "cell_type": "code",
   "execution_count": 42,
   "id": "d5eec080",
   "metadata": {},
   "outputs": [
    {
     "data": {
      "text/plain": [
       "<Figure size 1080x1080 with 0 Axes>"
      ]
     },
     "metadata": {},
     "output_type": "display_data"
    },
    {
     "data": {
      "image/png": "[encoded data removed]",
      "text/plain": [
       "<Figure size 360x360 with 1 Axes>"
      ]
     },
     "metadata": {
      "needs_background": "light"
     },
     "output_type": "display_data"
    }
   ],
   "source": [
    "plt.figure(figsize=(15, 15))\n",
    "sns.displot(data=sqft_nooutliers, x = 'calculatedfinishedsquarefeet')\n",
    "plt.title('calculatedfinishedsquarefeet distribution')\n",
    "plt.show()"
   ]
  },
  {
   "cell_type": "markdown",
   "id": "c9e980b3",
   "metadata": {},
   "source": [
    "It looks like the data is positively skewed.  In this case, it makes the most sense to impute the median in this case because it is a best measure of the center of the data.  However, the rows could be dropped, which does not lead to a large loss of data, but I want to get practice using python to impute data.  Alternatively, we could simply drop all the houses with less than 100 square feet.  Although, this is probably being cautious in terms of keeping rows.\n",
    "\n",
    "[Source](https://worldpopulationreview.com/state-rankings/minimum-house-size-by-state): Alaska has the smallest required square footage at 100 square feet."
   ]
  },
  {
   "cell_type": "code",
   "execution_count": 43,
   "id": "442b7e6a",
   "metadata": {},
   "outputs": [],
   "source": [
    "# impute_sqft = SimpleImputer(strategy='median')\n",
    "# impute_sqft = impute_sqft.fit(df[['calculatedfinishedsquarefeet']])\n",
    "# df[['calculatedfinishedsquarefeet']] = impute_sqft.transform(df[['calculatedfinishedsquarefeet']])"
   ]
  },
  {
   "cell_type": "code",
   "execution_count": 44,
   "id": "62e72e21",
   "metadata": {},
   "outputs": [
    {
     "name": "stdout",
     "output_type": "stream",
     "text": [
      "<class 'pandas.core.frame.DataFrame'>\n",
      "RangeIndex: 2152863 entries, 0 to 2152862\n",
      "Data columns (total 10 columns):\n",
      " #   Column                        Non-Null Count    Dtype  \n",
      "---  ------                        --------------    -----  \n",
      " 0   parcelid                      2152863 non-null  int64  \n",
      " 1   bedroomcnt                    2152852 non-null  float64\n",
      " 2   bathroomcnt                   2152852 non-null  float64\n",
      " 3   calculatedfinishedsquarefeet  2144379 non-null  float64\n",
      " 4   yearbuilt                     2143526 non-null  float64\n",
      " 5   fips                          2152863 non-null  float64\n",
      " 6   taxvaluedollarcnt             2152370 non-null  float64\n",
      " 7   taxamount                     2148421 non-null  float64\n",
      " 8   propertylandusetypeid         2152863 non-null  float64\n",
      " 9   propertylandusedesc           2152863 non-null  object \n",
      "dtypes: float64(8), int64(1), object(1)\n",
      "memory usage: 164.3+ MB\n"
     ]
    }
   ],
   "source": [
    "df.info(show_counts = True)"
   ]
  },
  {
   "cell_type": "markdown",
   "id": "72cb9faf",
   "metadata": {},
   "source": [
    "#### Solving the null values for `yearbuilt`"
   ]
  },
  {
   "cell_type": "code",
   "execution_count": 45,
   "id": "56ec29bc",
   "metadata": {
    "scrolled": true
   },
   "outputs": [
    {
     "data": {
      "text/plain": [
       "count    2.143526e+06\n",
       "mean     1.960950e+03\n",
       "std      2.216220e+01\n",
       "min      1.801000e+03\n",
       "25%      1.949000e+03\n",
       "50%      1.958000e+03\n",
       "75%      1.976000e+03\n",
       "max      2.016000e+03\n",
       "Name: yearbuilt, dtype: float64"
      ]
     },
     "execution_count": 45,
     "metadata": {},
     "output_type": "execute_result"
    }
   ],
   "source": [
    "df.yearbuilt.describe()"
   ]
  },
  {
   "cell_type": "code",
   "execution_count": 46,
   "id": "4a71acce",
   "metadata": {},
   "outputs": [
    {
     "data": {
      "text/plain": [
       "0    1955.0\n",
       "dtype: float64"
      ]
     },
     "execution_count": 46,
     "metadata": {},
     "output_type": "execute_result"
    }
   ],
   "source": [
    "df.yearbuilt.mode()"
   ]
  },
  {
   "cell_type": "code",
   "execution_count": 47,
   "id": "171882a2",
   "metadata": {},
   "outputs": [
    {
     "data": {
      "image/png": "[encoded data removed]",
      "text/plain": [
       "<Figure size 720x720 with 1 Axes>"
      ]
     },
     "metadata": {
      "needs_background": "light"
     },
     "output_type": "display_data"
    }
   ],
   "source": [
    "plt.figure(figsize=(10, 10))\n",
    "sns.boxplot(data=df, x = 'yearbuilt')\n",
    "plt.title('yearbuilt distribution')\n",
    "plt.show()"
   ]
  },
  {
   "cell_type": "code",
   "execution_count": 48,
   "id": "25fad62d",
   "metadata": {},
   "outputs": [
    {
     "data": {
      "text/plain": [
       "<Figure size 720x720 with 0 Axes>"
      ]
     },
     "metadata": {},
     "output_type": "display_data"
    },
    {
     "data": {
      "image/png": "[encoded data removed]",
      "text/plain": [
       "<Figure size 360x360 with 1 Axes>"
      ]
     },
     "metadata": {
      "needs_background": "light"
     },
     "output_type": "display_data"
    }
   ],
   "source": [
    "plt.figure(figsize=(10, 10))\n",
    "sns.displot(data=df, x = 'yearbuilt')\n",
    "plt.title('yearbuilt distribution')\n",
    "plt.show()"
   ]
  },
  {
   "cell_type": "markdown",
   "id": "b8bde951",
   "metadata": {},
   "source": [
    "The data looks normally distributed (mean, median and mode are all similar), but with a slight negative skew.  All the outliers are on the low end.  Here, it makes the most sense to use the mean to impute the value.  It is slightly higher than the mean and mode because of the skew; however, because the data is on houses, more of the housing stock will be newer than younger."
   ]
  },
  {
   "cell_type": "code",
   "execution_count": 49,
   "id": "e8e03e5b",
   "metadata": {},
   "outputs": [],
   "source": [
    "# impute_year = SimpleImputer(strategy='mean')\n",
    "# impute_year = impute_sqft.fit(df[['yearbuilt']])\n",
    "# df[['yearbuilt']] = impute_year.transform(df[['yearbuilt']])"
   ]
  },
  {
   "cell_type": "code",
   "execution_count": 50,
   "id": "82c3a7b8",
   "metadata": {},
   "outputs": [
    {
     "name": "stdout",
     "output_type": "stream",
     "text": [
      "<class 'pandas.core.frame.DataFrame'>\n",
      "RangeIndex: 2152863 entries, 0 to 2152862\n",
      "Data columns (total 10 columns):\n",
      " #   Column                        Non-Null Count    Dtype  \n",
      "---  ------                        --------------    -----  \n",
      " 0   parcelid                      2152863 non-null  int64  \n",
      " 1   bedroomcnt                    2152852 non-null  float64\n",
      " 2   bathroomcnt                   2152852 non-null  float64\n",
      " 3   calculatedfinishedsquarefeet  2144379 non-null  float64\n",
      " 4   yearbuilt                     2143526 non-null  float64\n",
      " 5   fips                          2152863 non-null  float64\n",
      " 6   taxvaluedollarcnt             2152370 non-null  float64\n",
      " 7   taxamount                     2148421 non-null  float64\n",
      " 8   propertylandusetypeid         2152863 non-null  float64\n",
      " 9   propertylandusedesc           2152863 non-null  object \n",
      "dtypes: float64(8), int64(1), object(1)\n",
      "memory usage: 164.3+ MB\n"
     ]
    }
   ],
   "source": [
    "df.info(show_counts = True)"
   ]
  },
  {
   "cell_type": "markdown",
   "id": "9dff8e2f",
   "metadata": {},
   "source": [
    "#### Solving the null values for `taxvaluedollarcnt`"
   ]
  },
  {
   "cell_type": "code",
   "execution_count": 51,
   "id": "b9f60196",
   "metadata": {},
   "outputs": [
    {
     "data": {
      "text/plain": [
       "count    2.152370e+06\n",
       "mean     4.618962e+05\n",
       "std      6.996760e+05\n",
       "min      1.000000e+00\n",
       "25%      1.881702e+05\n",
       "50%      3.276710e+05\n",
       "75%      5.345270e+05\n",
       "max      9.842891e+07\n",
       "Name: taxvaluedollarcnt, dtype: float64"
      ]
     },
     "execution_count": 51,
     "metadata": {},
     "output_type": "execute_result"
    }
   ],
   "source": [
    "df.taxvaluedollarcnt.describe()"
   ]
  },
  {
   "cell_type": "code",
   "execution_count": 52,
   "id": "268df673",
   "metadata": {},
   "outputs": [
    {
     "data": {
      "image/png": "[encoded data removed]",
      "text/plain": [
       "<Figure size 720x720 with 1 Axes>"
      ]
     },
     "metadata": {
      "needs_background": "light"
     },
     "output_type": "display_data"
    }
   ],
   "source": [
    "plt.figure(figsize=(10, 10))\n",
    "sns.boxplot(data=df, x = 'taxvaluedollarcnt')\n",
    "plt.title('taxvaluedollarcnt distribution')\n",
    "plt.show()"
   ]
  },
  {
   "cell_type": "markdown",
   "id": "dee6a9da",
   "metadata": {},
   "source": [
    "Lots of outliers. Use the same technique as `calculatedfinishedsquarefeet` to visualize."
   ]
  },
  {
   "cell_type": "code",
   "execution_count": 53,
   "id": "acf0c6e7",
   "metadata": {},
   "outputs": [
    {
     "data": {
      "text/plain": [
       "(461896.2379628038, 699676.0495996708)"
      ]
     },
     "execution_count": 53,
     "metadata": {},
     "output_type": "execute_result"
    }
   ],
   "source": [
    "#get stats\n",
    "mean_taxcnt = df.taxvaluedollarcnt.mean()\n",
    "std_taxcnt = df.taxvaluedollarcnt.std()\n",
    "mean_taxcnt, std_taxcnt"
   ]
  },
  {
   "cell_type": "code",
   "execution_count": 54,
   "id": "76f48685",
   "metadata": {},
   "outputs": [],
   "source": [
    "sigma_multiplier = 2\n",
    "# get the df subset\n",
    "taxvalue_nooutliers = df[(df.taxvaluedollarcnt <= mean_taxcnt + std_taxcnt*sigma_multiplier) & (df.taxvaluedollarcnt >= mean_taxcnt - std_taxcnt*sigma_multiplier)]"
   ]
  },
  {
   "cell_type": "code",
   "execution_count": 55,
   "id": "640fd5ca",
   "metadata": {},
   "outputs": [
    {
     "data": {
      "image/png": "[encoded data removed]",
      "text/plain": [
       "<Figure size 720x720 with 1 Axes>"
      ]
     },
     "metadata": {
      "needs_background": "light"
     },
     "output_type": "display_data"
    }
   ],
   "source": [
    "plt.figure(figsize=(10, 10))\n",
    "sns.boxplot(data=taxvalue_nooutliers, x = 'taxvaluedollarcnt')\n",
    "plt.title('taxvaluedollarcnt distribution')\n",
    "plt.show()"
   ]
  },
  {
   "cell_type": "code",
   "execution_count": 56,
   "id": "231af31b",
   "metadata": {},
   "outputs": [
    {
     "data": {
      "text/plain": [
       "<Figure size 720x720 with 0 Axes>"
      ]
     },
     "metadata": {},
     "output_type": "display_data"
    },
    {
     "data": {
      "image/png": "[encoded data removed]",
      "text/plain": [
       "<Figure size 360x360 with 1 Axes>"
      ]
     },
     "metadata": {
      "needs_background": "light"
     },
     "output_type": "display_data"
    }
   ],
   "source": [
    "plt.figure(figsize=(10, 10))\n",
    "sns.displot(data=taxvalue_nooutliers, x = 'taxvaluedollarcnt')\n",
    "plt.title('taxvaluedollarcnt distribution')\n",
    "plt.show()"
   ]
  },
  {
   "cell_type": "markdown",
   "id": "db619592",
   "metadata": {},
   "source": [
    "This has two peaks.  Effectively bi-modal.  However, this represents the tax assesment on the parcel, similar to `taxamount`. Most likely these two columns will have some effect on property values. Therefore, imputing the values may have a stronger effect on the outcome than other variables. Therefore, if there is no data, they can be dropped.\n",
    "\n",
    "#### Solving the null values for `taxamount`"
   ]
  },
  {
   "cell_type": "code",
   "execution_count": 57,
   "id": "f55ad701",
   "metadata": {
    "scrolled": true
   },
   "outputs": [
    {
     "data": {
      "text/plain": [
       "count    2.148421e+06\n",
       "mean     5.634866e+03\n",
       "std      8.178910e+03\n",
       "min      1.850000e+00\n",
       "25%      2.534980e+03\n",
       "50%      4.108950e+03\n",
       "75%      6.414320e+03\n",
       "max      1.337756e+06\n",
       "Name: taxamount, dtype: float64"
      ]
     },
     "execution_count": 57,
     "metadata": {},
     "output_type": "execute_result"
    }
   ],
   "source": [
    "df.taxamount.describe()"
   ]
  },
  {
   "cell_type": "code",
   "execution_count": 58,
   "id": "9882ec33",
   "metadata": {
    "scrolled": false
   },
   "outputs": [
    {
     "data": {
      "image/png": "[encoded data removed]",
      "text/plain": [
       "<Figure size 720x720 with 1 Axes>"
      ]
     },
     "metadata": {
      "needs_background": "light"
     },
     "output_type": "display_data"
    }
   ],
   "source": [
    "plt.figure(figsize=(10, 10))\n",
    "sns.boxplot(data=df, x = 'taxamount')\n",
    "plt.title('taxamount distribution')\n",
    "plt.show()"
   ]
  },
  {
   "cell_type": "markdown",
   "id": "69af86e2",
   "metadata": {},
   "source": [
    "Lots of outliers. Use the same technique as `calculatedfinishedsquarefeet` to visualize."
   ]
  },
  {
   "cell_type": "code",
   "execution_count": 59,
   "id": "16edd416",
   "metadata": {},
   "outputs": [
    {
     "data": {
      "text/plain": [
       "(5634.865977846398, 8178.910248585026)"
      ]
     },
     "execution_count": 59,
     "metadata": {},
     "output_type": "execute_result"
    }
   ],
   "source": [
    "#get stats\n",
    "mean_taxamt = df.taxamount.mean()\n",
    "std_taxamt = df.taxamount.std()\n",
    "mean_taxamt, std_taxamt"
   ]
  },
  {
   "cell_type": "code",
   "execution_count": 60,
   "id": "183bc21e",
   "metadata": {},
   "outputs": [],
   "source": [
    "sigma_multiplier = 2\n",
    "# get the df subset\n",
    "taxamt_nooutliers = df[(df.taxamount <= mean_taxamt + std_taxamt*sigma_multiplier) & (df.taxamount >= mean_taxamt - std_taxamt*sigma_multiplier)]"
   ]
  },
  {
   "cell_type": "code",
   "execution_count": 61,
   "id": "3b1ea828",
   "metadata": {
    "scrolled": false
   },
   "outputs": [
    {
     "data": {
      "image/png": "[encoded data removed]",
      "text/plain": [
       "<Figure size 720x720 with 1 Axes>"
      ]
     },
     "metadata": {
      "needs_background": "light"
     },
     "output_type": "display_data"
    }
   ],
   "source": [
    "plt.figure(figsize=(10, 10))\n",
    "sns.boxplot(data=taxamt_nooutliers, x = 'taxamount')\n",
    "plt.title('taxamount distribution')\n",
    "plt.show()"
   ]
  },
  {
   "cell_type": "code",
   "execution_count": 62,
   "id": "4dfd1920",
   "metadata": {
    "scrolled": false
   },
   "outputs": [
    {
     "data": {
      "text/plain": [
       "<Figure size 720x720 with 0 Axes>"
      ]
     },
     "metadata": {},
     "output_type": "display_data"
    },
    {
     "data": {
      "image/png": "[encoded data removed]",
      "text/plain": [
       "<Figure size 360x360 with 1 Axes>"
      ]
     },
     "metadata": {
      "needs_background": "light"
     },
     "output_type": "display_data"
    }
   ],
   "source": [
    "plt.figure(figsize=(10, 10))\n",
    "sns.displot(data=taxamt_nooutliers, x = 'taxamount')\n",
    "plt.title('taxamount distribution')\n",
    "plt.show()"
   ]
  },
  {
   "cell_type": "markdown",
   "id": "ea544349",
   "metadata": {},
   "source": [
    "Similar to `taxvaluedollarcnt` this is appears effectively bimodal."
   ]
  },
  {
   "cell_type": "markdown",
   "id": "fbe48d56",
   "metadata": {},
   "source": [
    "#### Sovling nulls discussion\n",
    "\n",
    "- `bedroomcnt` and `bathroomcnt` null rows are dropped.  There are only 11,\n",
    "- `calculatedfinishedsquarefeet` and `yearbuilt` could be imputed.\n",
    "\n",
    "But a lot of the data is very strange and so I think the following are to be dropped\n",
    "- Any row with a null\n",
    "- Any row with `bedroomcount` $<1 \\wedge$ `bathroomcnt` $<1 \\wedge$ `calculatedfinishedsquarefeet` $< 150$ \n",
    "\n",
    "### Droping the null rows\n",
    "\n",
    "Get info on the cleaned dataframe."
   ]
  },
  {
   "cell_type": "code",
   "execution_count": 63,
   "id": "a655e4f9",
   "metadata": {},
   "outputs": [
    {
     "name": "stdout",
     "output_type": "stream",
     "text": [
      "<class 'pandas.core.frame.DataFrame'>\n",
      "RangeIndex: 2152863 entries, 0 to 2152862\n",
      "Data columns (total 10 columns):\n",
      " #   Column                        Non-Null Count    Dtype  \n",
      "---  ------                        --------------    -----  \n",
      " 0   parcelid                      2152863 non-null  int64  \n",
      " 1   bedroomcnt                    2152852 non-null  float64\n",
      " 2   bathroomcnt                   2152852 non-null  float64\n",
      " 3   calculatedfinishedsquarefeet  2144379 non-null  float64\n",
      " 4   yearbuilt                     2143526 non-null  float64\n",
      " 5   fips                          2152863 non-null  float64\n",
      " 6   taxvaluedollarcnt             2152370 non-null  float64\n",
      " 7   taxamount                     2148421 non-null  float64\n",
      " 8   propertylandusetypeid         2152863 non-null  float64\n",
      " 9   propertylandusedesc           2152863 non-null  object \n",
      "dtypes: float64(8), int64(1), object(1)\n",
      "memory usage: 164.3+ MB\n"
     ]
    }
   ],
   "source": [
    "df.info(show_counts = True)"
   ]
  },
  {
   "cell_type": "code",
   "execution_count": 64,
   "id": "6418e457",
   "metadata": {
    "scrolled": true
   },
   "outputs": [
    {
     "data": {
      "text/plain": [
       "parcelid                           0\n",
       "bedroomcnt                        11\n",
       "bathroomcnt                       11\n",
       "calculatedfinishedsquarefeet    8484\n",
       "yearbuilt                       9337\n",
       "fips                               0\n",
       "taxvaluedollarcnt                493\n",
       "taxamount                       4442\n",
       "propertylandusetypeid              0\n",
       "propertylandusedesc                0\n",
       "dtype: int64"
      ]
     },
     "execution_count": 64,
     "metadata": {},
     "output_type": "execute_result"
    }
   ],
   "source": [
    "df.isnull().sum()"
   ]
  },
  {
   "cell_type": "code",
   "execution_count": 65,
   "id": "d1d3db57",
   "metadata": {},
   "outputs": [
    {
     "name": "stdout",
     "output_type": "stream",
     "text": [
      "<class 'pandas.core.frame.DataFrame'>\n",
      "Int64Index: 2140235 entries, 4 to 2152862\n",
      "Data columns (total 10 columns):\n",
      " #   Column                        Non-Null Count    Dtype  \n",
      "---  ------                        --------------    -----  \n",
      " 0   parcelid                      2140235 non-null  int64  \n",
      " 1   bedroomcnt                    2140235 non-null  float64\n",
      " 2   bathroomcnt                   2140235 non-null  float64\n",
      " 3   calculatedfinishedsquarefeet  2140235 non-null  float64\n",
      " 4   yearbuilt                     2140235 non-null  float64\n",
      " 5   fips                          2140235 non-null  float64\n",
      " 6   taxvaluedollarcnt             2140235 non-null  float64\n",
      " 7   taxamount                     2140235 non-null  float64\n",
      " 8   propertylandusetypeid         2140235 non-null  float64\n",
      " 9   propertylandusedesc           2140235 non-null  object \n",
      "dtypes: float64(8), int64(1), object(1)\n",
      "memory usage: 179.6+ MB\n"
     ]
    }
   ],
   "source": [
    "df = df.dropna()\n",
    "df.info(show_counts = True)"
   ]
  },
  {
   "cell_type": "code",
   "execution_count": 66,
   "id": "3afa158b",
   "metadata": {
    "scrolled": true
   },
   "outputs": [
    {
     "data": {
      "text/plain": [
       "parcelid                        0\n",
       "bedroomcnt                      0\n",
       "bathroomcnt                     0\n",
       "calculatedfinishedsquarefeet    0\n",
       "yearbuilt                       0\n",
       "fips                            0\n",
       "taxvaluedollarcnt               0\n",
       "taxamount                       0\n",
       "propertylandusetypeid           0\n",
       "propertylandusedesc             0\n",
       "dtype: int64"
      ]
     },
     "execution_count": 66,
     "metadata": {},
     "output_type": "execute_result"
    }
   ],
   "source": [
    "df.isnull().sum()"
   ]
  },
  {
   "cell_type": "code",
   "execution_count": 67,
   "id": "2335c4bf",
   "metadata": {},
   "outputs": [],
   "source": [
    "df = df[(df.bedroomcnt > 0) & (df.bathroomcnt > 0) & (df.calculatedfinishedsquarefeet > 149)]"
   ]
  },
  {
   "cell_type": "code",
   "execution_count": 68,
   "id": "2c3fa801",
   "metadata": {},
   "outputs": [
    {
     "name": "stdout",
     "output_type": "stream",
     "text": [
      "<class 'pandas.core.frame.DataFrame'>\n",
      "Int64Index: 2134879 entries, 4 to 2152862\n",
      "Data columns (total 10 columns):\n",
      " #   Column                        Non-Null Count    Dtype  \n",
      "---  ------                        --------------    -----  \n",
      " 0   parcelid                      2134879 non-null  int64  \n",
      " 1   bedroomcnt                    2134879 non-null  float64\n",
      " 2   bathroomcnt                   2134879 non-null  float64\n",
      " 3   calculatedfinishedsquarefeet  2134879 non-null  float64\n",
      " 4   yearbuilt                     2134879 non-null  float64\n",
      " 5   fips                          2134879 non-null  float64\n",
      " 6   taxvaluedollarcnt             2134879 non-null  float64\n",
      " 7   taxamount                     2134879 non-null  float64\n",
      " 8   propertylandusetypeid         2134879 non-null  float64\n",
      " 9   propertylandusedesc           2134879 non-null  object \n",
      "dtypes: float64(8), int64(1), object(1)\n",
      "memory usage: 179.2+ MB\n"
     ]
    }
   ],
   "source": [
    "df.info(show_counts = True)"
   ]
  },
  {
   "cell_type": "code",
   "execution_count": 71,
   "id": "6c65a7ea",
   "metadata": {},
   "outputs": [
    {
     "data": {
      "text/plain": [
       "0.9916464726273804"
      ]
     },
     "execution_count": 71,
     "metadata": {},
     "output_type": "execute_result"
    }
   ],
   "source": [
    "1 - (original_num_of_rows - df.shape[0])/original_num_of_rows"
   ]
  },
  {
   "cell_type": "markdown",
   "id": "06e81242",
   "metadata": {},
   "source": [
    "99.16% of the data is retained."
   ]
  },
  {
   "cell_type": "markdown",
   "id": "a9d6b1ad",
   "metadata": {},
   "source": [
    "## Test `wrangle.py`"
   ]
  },
  {
   "cell_type": "code",
   "execution_count": 74,
   "id": "039cdc0e",
   "metadata": {},
   "outputs": [],
   "source": [
    "import wrangle"
   ]
  },
  {
   "cell_type": "code",
   "execution_count": 75,
   "id": "86b2fe88",
   "metadata": {},
   "outputs": [
    {
     "name": "stdout",
     "output_type": "stream",
     "text": [
      "Querying database ... \n",
      "Got data from the SQL database\n",
      "Saved dataframe as a .csv!\n"
     ]
    },
    {
     "data": {
      "text/html": [
       "<div>\n",
       "<style scoped>\n",
       "    .dataframe tbody tr th:only-of-type {\n",
       "        vertical-align: middle;\n",
       "    }\n",
       "\n",
       "    .dataframe tbody tr th {\n",
       "        vertical-align: top;\n",
       "    }\n",
       "\n",
       "    .dataframe thead th {\n",
       "        text-align: right;\n",
       "    }\n",
       "</style>\n",
       "<table border=\"1\" class=\"dataframe\">\n",
       "  <thead>\n",
       "    <tr style=\"text-align: right;\">\n",
       "      <th></th>\n",
       "      <th>parcelid</th>\n",
       "      <th>bedroomcnt</th>\n",
       "      <th>bathroomcnt</th>\n",
       "      <th>calculatedfinishedsquarefeet</th>\n",
       "      <th>yearbuilt</th>\n",
       "      <th>fips</th>\n",
       "      <th>taxvaluedollarcnt</th>\n",
       "      <th>taxamount</th>\n",
       "      <th>propertylandusetypeid</th>\n",
       "      <th>propertylandusedesc</th>\n",
       "    </tr>\n",
       "  </thead>\n",
       "  <tbody>\n",
       "    <tr>\n",
       "      <th>4</th>\n",
       "      <td>11324547</td>\n",
       "      <td>4.0</td>\n",
       "      <td>2.0</td>\n",
       "      <td>3633.0</td>\n",
       "      <td>2005.0</td>\n",
       "      <td>6037.0</td>\n",
       "      <td>296425.0</td>\n",
       "      <td>6941.39</td>\n",
       "      <td>261.0</td>\n",
       "      <td>Single Family Residential</td>\n",
       "    </tr>\n",
       "    <tr>\n",
       "      <th>6</th>\n",
       "      <td>11544747</td>\n",
       "      <td>3.0</td>\n",
       "      <td>4.0</td>\n",
       "      <td>1620.0</td>\n",
       "      <td>2011.0</td>\n",
       "      <td>6037.0</td>\n",
       "      <td>847770.0</td>\n",
       "      <td>10244.94</td>\n",
       "      <td>261.0</td>\n",
       "      <td>Single Family Residential</td>\n",
       "    </tr>\n",
       "    <tr>\n",
       "      <th>7</th>\n",
       "      <td>11585547</td>\n",
       "      <td>3.0</td>\n",
       "      <td>2.0</td>\n",
       "      <td>2077.0</td>\n",
       "      <td>1926.0</td>\n",
       "      <td>6037.0</td>\n",
       "      <td>646760.0</td>\n",
       "      <td>7924.68</td>\n",
       "      <td>261.0</td>\n",
       "      <td>Single Family Residential</td>\n",
       "    </tr>\n",
       "    <tr>\n",
       "      <th>18</th>\n",
       "      <td>12716947</td>\n",
       "      <td>3.0</td>\n",
       "      <td>1.0</td>\n",
       "      <td>1244.0</td>\n",
       "      <td>1950.0</td>\n",
       "      <td>6037.0</td>\n",
       "      <td>169471.0</td>\n",
       "      <td>2532.88</td>\n",
       "      <td>261.0</td>\n",
       "      <td>Single Family Residential</td>\n",
       "    </tr>\n",
       "    <tr>\n",
       "      <th>19</th>\n",
       "      <td>12757147</td>\n",
       "      <td>3.0</td>\n",
       "      <td>2.0</td>\n",
       "      <td>1300.0</td>\n",
       "      <td>1950.0</td>\n",
       "      <td>6037.0</td>\n",
       "      <td>233266.0</td>\n",
       "      <td>3110.99</td>\n",
       "      <td>261.0</td>\n",
       "      <td>Single Family Residential</td>\n",
       "    </tr>\n",
       "    <tr>\n",
       "      <th>...</th>\n",
       "      <td>...</td>\n",
       "      <td>...</td>\n",
       "      <td>...</td>\n",
       "      <td>...</td>\n",
       "      <td>...</td>\n",
       "      <td>...</td>\n",
       "      <td>...</td>\n",
       "      <td>...</td>\n",
       "      <td>...</td>\n",
       "      <td>...</td>\n",
       "    </tr>\n",
       "    <tr>\n",
       "      <th>2152856</th>\n",
       "      <td>13027311</td>\n",
       "      <td>4.0</td>\n",
       "      <td>4.0</td>\n",
       "      <td>4375.0</td>\n",
       "      <td>2015.0</td>\n",
       "      <td>6037.0</td>\n",
       "      <td>422400.0</td>\n",
       "      <td>13877.56</td>\n",
       "      <td>261.0</td>\n",
       "      <td>Single Family Residential</td>\n",
       "    </tr>\n",
       "    <tr>\n",
       "      <th>2152858</th>\n",
       "      <td>14356230</td>\n",
       "      <td>4.0</td>\n",
       "      <td>3.0</td>\n",
       "      <td>2262.0</td>\n",
       "      <td>2015.0</td>\n",
       "      <td>6059.0</td>\n",
       "      <td>960756.0</td>\n",
       "      <td>13494.52</td>\n",
       "      <td>261.0</td>\n",
       "      <td>Single Family Residential</td>\n",
       "    </tr>\n",
       "    <tr>\n",
       "      <th>2152859</th>\n",
       "      <td>14157725</td>\n",
       "      <td>4.0</td>\n",
       "      <td>4.5</td>\n",
       "      <td>3127.0</td>\n",
       "      <td>2014.0</td>\n",
       "      <td>6059.0</td>\n",
       "      <td>536061.0</td>\n",
       "      <td>6244.16</td>\n",
       "      <td>261.0</td>\n",
       "      <td>Single Family Residential</td>\n",
       "    </tr>\n",
       "    <tr>\n",
       "      <th>2152861</th>\n",
       "      <td>14367624</td>\n",
       "      <td>3.0</td>\n",
       "      <td>2.5</td>\n",
       "      <td>1974.0</td>\n",
       "      <td>2015.0</td>\n",
       "      <td>6059.0</td>\n",
       "      <td>424353.0</td>\n",
       "      <td>5302.70</td>\n",
       "      <td>261.0</td>\n",
       "      <td>Single Family Residential</td>\n",
       "    </tr>\n",
       "    <tr>\n",
       "      <th>2152862</th>\n",
       "      <td>12385768</td>\n",
       "      <td>4.0</td>\n",
       "      <td>4.0</td>\n",
       "      <td>2110.0</td>\n",
       "      <td>2014.0</td>\n",
       "      <td>6037.0</td>\n",
       "      <td>554009.0</td>\n",
       "      <td>6761.20</td>\n",
       "      <td>261.0</td>\n",
       "      <td>Single Family Residential</td>\n",
       "    </tr>\n",
       "  </tbody>\n",
       "</table>\n",
       "<p>2134879 rows × 10 columns</p>\n",
       "</div>"
      ],
      "text/plain": [
       "         parcelid  bedroomcnt  bathroomcnt  calculatedfinishedsquarefeet  \\\n",
       "4        11324547         4.0          2.0                        3633.0   \n",
       "6        11544747         3.0          4.0                        1620.0   \n",
       "7        11585547         3.0          2.0                        2077.0   \n",
       "18       12716947         3.0          1.0                        1244.0   \n",
       "19       12757147         3.0          2.0                        1300.0   \n",
       "...           ...         ...          ...                           ...   \n",
       "2152856  13027311         4.0          4.0                        4375.0   \n",
       "2152858  14356230         4.0          3.0                        2262.0   \n",
       "2152859  14157725         4.0          4.5                        3127.0   \n",
       "2152861  14367624         3.0          2.5                        1974.0   \n",
       "2152862  12385768         4.0          4.0                        2110.0   \n",
       "\n",
       "         yearbuilt    fips  taxvaluedollarcnt  taxamount  \\\n",
       "4           2005.0  6037.0           296425.0    6941.39   \n",
       "6           2011.0  6037.0           847770.0   10244.94   \n",
       "7           1926.0  6037.0           646760.0    7924.68   \n",
       "18          1950.0  6037.0           169471.0    2532.88   \n",
       "19          1950.0  6037.0           233266.0    3110.99   \n",
       "...            ...     ...                ...        ...   \n",
       "2152856     2015.0  6037.0           422400.0   13877.56   \n",
       "2152858     2015.0  6059.0           960756.0   13494.52   \n",
       "2152859     2014.0  6059.0           536061.0    6244.16   \n",
       "2152861     2015.0  6059.0           424353.0    5302.70   \n",
       "2152862     2014.0  6037.0           554009.0    6761.20   \n",
       "\n",
       "         propertylandusetypeid        propertylandusedesc  \n",
       "4                        261.0  Single Family Residential  \n",
       "6                        261.0  Single Family Residential  \n",
       "7                        261.0  Single Family Residential  \n",
       "18                       261.0  Single Family Residential  \n",
       "19                       261.0  Single Family Residential  \n",
       "...                        ...                        ...  \n",
       "2152856                  261.0  Single Family Residential  \n",
       "2152858                  261.0  Single Family Residential  \n",
       "2152859                  261.0  Single Family Residential  \n",
       "2152861                  261.0  Single Family Residential  \n",
       "2152862                  261.0  Single Family Residential  \n",
       "\n",
       "[2134879 rows x 10 columns]"
      ]
     },
     "execution_count": 75,
     "metadata": {},
     "output_type": "execute_result"
    }
   ],
   "source": [
    "wrangle.wrangle_zillow_data()"
   ]
  },
  {
   "cell_type": "code",
   "execution_count": null,
   "id": "3dfb188e",
   "metadata": {},
   "outputs": [],
   "source": []
  }
 ],
 "metadata": {
  "kernelspec": {
   "display_name": "Python 3 (ipykernel)",
   "language": "python",
   "name": "python3"
  },
  "language_info": {
   "codemirror_mode": {
    "name": "ipython",
    "version": 3
   },
   "file_extension": ".py",
   "mimetype": "text/x-python",
   "name": "python",
   "nbconvert_exporter": "python",
   "pygments_lexer": "ipython3",
   "version": "3.9.7"
  }
 },
 "nbformat": 4,
 "nbformat_minor": 5
}
